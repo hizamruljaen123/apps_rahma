{
 "cells": [
  {
   "cell_type": "code",
   "execution_count": 68,
   "metadata": {},
   "outputs": [
    {
     "data": {
      "text/html": [
       "<div>\n",
       "<style scoped>\n",
       "    .dataframe tbody tr th:only-of-type {\n",
       "        vertical-align: middle;\n",
       "    }\n",
       "\n",
       "    .dataframe tbody tr th {\n",
       "        vertical-align: top;\n",
       "    }\n",
       "\n",
       "    .dataframe thead th {\n",
       "        text-align: right;\n",
       "    }\n",
       "</style>\n",
       "<table border=\"1\" class=\"dataframe\">\n",
       "  <thead>\n",
       "    <tr style=\"text-align: right;\">\n",
       "      <th></th>\n",
       "      <th>Wilayah</th>\n",
       "      <th>Kategori</th>\n",
       "      <th>1</th>\n",
       "      <th>2</th>\n",
       "      <th>3</th>\n",
       "      <th>4</th>\n",
       "      <th>5</th>\n",
       "      <th>6</th>\n",
       "      <th>7</th>\n",
       "      <th>8</th>\n",
       "      <th>...</th>\n",
       "      <th>43</th>\n",
       "      <th>44</th>\n",
       "      <th>45</th>\n",
       "      <th>46</th>\n",
       "      <th>47</th>\n",
       "      <th>48</th>\n",
       "      <th>49</th>\n",
       "      <th>50</th>\n",
       "      <th>51</th>\n",
       "      <th>52</th>\n",
       "    </tr>\n",
       "  </thead>\n",
       "  <tbody>\n",
       "    <tr>\n",
       "      <th>0</th>\n",
       "      <td>Banda Sakti</td>\n",
       "      <td>Bisnis</td>\n",
       "      <td>1828</td>\n",
       "      <td>1556</td>\n",
       "      <td>1506</td>\n",
       "      <td>1557</td>\n",
       "      <td>1842</td>\n",
       "      <td>1761</td>\n",
       "      <td>1865</td>\n",
       "      <td>1759</td>\n",
       "      <td>...</td>\n",
       "      <td>1578</td>\n",
       "      <td>1706</td>\n",
       "      <td>2341</td>\n",
       "      <td>1556</td>\n",
       "      <td>1506</td>\n",
       "      <td>2019</td>\n",
       "      <td>2102</td>\n",
       "      <td>1943</td>\n",
       "      <td>1464</td>\n",
       "      <td>1786</td>\n",
       "    </tr>\n",
       "    <tr>\n",
       "      <th>1</th>\n",
       "      <td>Banda Sakti</td>\n",
       "      <td>Industri</td>\n",
       "      <td>1129</td>\n",
       "      <td>1418</td>\n",
       "      <td>1459</td>\n",
       "      <td>1470</td>\n",
       "      <td>1269</td>\n",
       "      <td>1065</td>\n",
       "      <td>1135</td>\n",
       "      <td>1194</td>\n",
       "      <td>...</td>\n",
       "      <td>1406</td>\n",
       "      <td>1079</td>\n",
       "      <td>1273</td>\n",
       "      <td>1418</td>\n",
       "      <td>1459</td>\n",
       "      <td>1382</td>\n",
       "      <td>1380</td>\n",
       "      <td>1358</td>\n",
       "      <td>1314</td>\n",
       "      <td>1153</td>\n",
       "    </tr>\n",
       "    <tr>\n",
       "      <th>2</th>\n",
       "      <td>Banda Sakti</td>\n",
       "      <td>Lain-lain</td>\n",
       "      <td>1008</td>\n",
       "      <td>618</td>\n",
       "      <td>778</td>\n",
       "      <td>897</td>\n",
       "      <td>567</td>\n",
       "      <td>773</td>\n",
       "      <td>760</td>\n",
       "      <td>1117</td>\n",
       "      <td>...</td>\n",
       "      <td>937</td>\n",
       "      <td>462</td>\n",
       "      <td>1125</td>\n",
       "      <td>618</td>\n",
       "      <td>778</td>\n",
       "      <td>660</td>\n",
       "      <td>559</td>\n",
       "      <td>1411</td>\n",
       "      <td>811</td>\n",
       "      <td>1103</td>\n",
       "    </tr>\n",
       "    <tr>\n",
       "      <th>3</th>\n",
       "      <td>Banda Sakti</td>\n",
       "      <td>Rumah Tangga</td>\n",
       "      <td>491</td>\n",
       "      <td>329</td>\n",
       "      <td>1151</td>\n",
       "      <td>771</td>\n",
       "      <td>794</td>\n",
       "      <td>835</td>\n",
       "      <td>802</td>\n",
       "      <td>850</td>\n",
       "      <td>...</td>\n",
       "      <td>854</td>\n",
       "      <td>710</td>\n",
       "      <td>958</td>\n",
       "      <td>329</td>\n",
       "      <td>1151</td>\n",
       "      <td>868</td>\n",
       "      <td>1106</td>\n",
       "      <td>823</td>\n",
       "      <td>865</td>\n",
       "      <td>623</td>\n",
       "    </tr>\n",
       "    <tr>\n",
       "      <th>4</th>\n",
       "      <td>Banda Sakti</td>\n",
       "      <td>Sosial</td>\n",
       "      <td>980</td>\n",
       "      <td>1060</td>\n",
       "      <td>884</td>\n",
       "      <td>933</td>\n",
       "      <td>794</td>\n",
       "      <td>1046</td>\n",
       "      <td>1127</td>\n",
       "      <td>1108</td>\n",
       "      <td>...</td>\n",
       "      <td>1258</td>\n",
       "      <td>1164</td>\n",
       "      <td>985</td>\n",
       "      <td>1060</td>\n",
       "      <td>884</td>\n",
       "      <td>903</td>\n",
       "      <td>1167</td>\n",
       "      <td>1144</td>\n",
       "      <td>1022</td>\n",
       "      <td>1200</td>\n",
       "    </tr>\n",
       "  </tbody>\n",
       "</table>\n",
       "<p>5 rows × 54 columns</p>\n",
       "</div>"
      ],
      "text/plain": [
       "       Wilayah      Kategori     1     2     3     4     5     6     7     8  \\\n",
       "0  Banda Sakti        Bisnis  1828  1556  1506  1557  1842  1761  1865  1759   \n",
       "1  Banda Sakti      Industri  1129  1418  1459  1470  1269  1065  1135  1194   \n",
       "2  Banda Sakti     Lain-lain  1008   618   778   897   567   773   760  1117   \n",
       "3  Banda Sakti  Rumah Tangga   491   329  1151   771   794   835   802   850   \n",
       "4  Banda Sakti        Sosial   980  1060   884   933   794  1046  1127  1108   \n",
       "\n",
       "   ...    43    44    45    46    47    48    49    50    51    52  \n",
       "0  ...  1578  1706  2341  1556  1506  2019  2102  1943  1464  1786  \n",
       "1  ...  1406  1079  1273  1418  1459  1382  1380  1358  1314  1153  \n",
       "2  ...   937   462  1125   618   778   660   559  1411   811  1103  \n",
       "3  ...   854   710   958   329  1151   868  1106   823   865   623  \n",
       "4  ...  1258  1164   985  1060   884   903  1167  1144  1022  1200  \n",
       "\n",
       "[5 rows x 54 columns]"
      ]
     },
     "metadata": {},
     "output_type": "display_data"
    }
   ],
   "source": [
    "import pandas as pd\n",
    "import numpy as np\n",
    "import plotly.graph_objects as go\n",
    "from plotly.subplots import make_subplots\n",
    "from sklearn.metrics import mean_absolute_error, mean_squared_error\n",
    "from IPython.display import display\n",
    "\n",
    "# Memuat file Excel\n",
    "file_path = 'data_full.xlsx'  # Ganti dengan path file Anda\n",
    "df_full_data = pd.read_excel(file_path)\n",
    "\n",
    "# Menampilkan data yang telah dimuat\n",
    "display(df_full_data.head())\n"
   ]
  },
  {
   "cell_type": "code",
   "execution_count": 69,
   "metadata": {},
   "outputs": [
    {
     "data": {
      "text/html": [
       "<div>\n",
       "<style scoped>\n",
       "    .dataframe tbody tr th:only-of-type {\n",
       "        vertical-align: middle;\n",
       "    }\n",
       "\n",
       "    .dataframe tbody tr th {\n",
       "        vertical-align: top;\n",
       "    }\n",
       "\n",
       "    .dataframe thead th {\n",
       "        text-align: right;\n",
       "    }\n",
       "</style>\n",
       "<table border=\"1\" class=\"dataframe\">\n",
       "  <thead>\n",
       "    <tr style=\"text-align: right;\">\n",
       "      <th></th>\n",
       "      <th>Wilayah</th>\n",
       "      <th>Kategori</th>\n",
       "      <th>Minggu</th>\n",
       "      <th>Pemakaian</th>\n",
       "    </tr>\n",
       "  </thead>\n",
       "  <tbody>\n",
       "    <tr>\n",
       "      <th>0</th>\n",
       "      <td>Banda Sakti</td>\n",
       "      <td>Bisnis</td>\n",
       "      <td>1</td>\n",
       "      <td>1828</td>\n",
       "    </tr>\n",
       "    <tr>\n",
       "      <th>1</th>\n",
       "      <td>Banda Sakti</td>\n",
       "      <td>Industri</td>\n",
       "      <td>1</td>\n",
       "      <td>1129</td>\n",
       "    </tr>\n",
       "    <tr>\n",
       "      <th>2</th>\n",
       "      <td>Banda Sakti</td>\n",
       "      <td>Lain-lain</td>\n",
       "      <td>1</td>\n",
       "      <td>1008</td>\n",
       "    </tr>\n",
       "    <tr>\n",
       "      <th>3</th>\n",
       "      <td>Banda Sakti</td>\n",
       "      <td>Rumah Tangga</td>\n",
       "      <td>1</td>\n",
       "      <td>491</td>\n",
       "    </tr>\n",
       "    <tr>\n",
       "      <th>4</th>\n",
       "      <td>Banda Sakti</td>\n",
       "      <td>Sosial</td>\n",
       "      <td>1</td>\n",
       "      <td>980</td>\n",
       "    </tr>\n",
       "  </tbody>\n",
       "</table>\n",
       "</div>"
      ],
      "text/plain": [
       "       Wilayah      Kategori  Minggu  Pemakaian\n",
       "0  Banda Sakti        Bisnis       1       1828\n",
       "1  Banda Sakti      Industri       1       1129\n",
       "2  Banda Sakti     Lain-lain       1       1008\n",
       "3  Banda Sakti  Rumah Tangga       1        491\n",
       "4  Banda Sakti        Sosial       1        980"
      ]
     },
     "metadata": {},
     "output_type": "display_data"
    }
   ],
   "source": [
    "# Mengubah data dari format wide ke long\n",
    "df_long = pd.melt(df_full_data, id_vars=['Wilayah', 'Kategori'], var_name='Minggu', value_name='Pemakaian')\n",
    "\n",
    "# Mengubah kolom 'Minggu' menjadi numerik\n",
    "df_long['Minggu'] = df_long['Minggu'].astype(int)\n",
    "\n",
    "# Menampilkan data dalam format long\n",
    "display(df_long.head())\n"
   ]
  },
  {
   "cell_type": "code",
   "execution_count": 70,
   "metadata": {},
   "outputs": [
    {
     "name": "stdout",
     "output_type": "stream",
     "text": [
      "Daftar Wilayah: ['Banda Sakti' 'Blang Mangat' 'Muara Dua' 'Muara Satu']\n",
      "Daftar Kategori: ['Bisnis' 'Industri' 'Lain-lain' 'Rumah Tangga' 'Sosial']\n"
     ]
    }
   ],
   "source": [
    "# Mendapatkan daftar wilayah\n",
    "wilayah_list = df_long['Wilayah'].unique()\n",
    "\n",
    "# Mendapatkan daftar kategori\n",
    "kategori_list = df_long['Kategori'].unique()\n",
    "\n",
    "# Menampilkan daftar wilayah dan kategori\n",
    "print(\"Daftar Wilayah:\", wilayah_list)\n",
    "print(\"Daftar Kategori:\", kategori_list)\n"
   ]
  },
  {
   "cell_type": "code",
   "execution_count": 71,
   "metadata": {},
   "outputs": [],
   "source": [
    "# Metrik kesalahan per wilayah dan kategori\n",
    "error_metrics = {}\n",
    "\n",
    "# Menyimpan hasil per wilayah dan kategori\n",
    "df_results = {}\n",
    "\n",
    "# Model yang akan digunakan\n",
    "models = ['MA (3-Mingguan)', 'AR(1)', 'AR+MA', 'VARMA']\n"
   ]
  },
  {
   "cell_type": "code",
   "execution_count": 77,
   "metadata": {},
   "outputs": [
    {
     "name": "stdout",
     "output_type": "stream",
     "text": [
      "Hasil Prediksi untuk Setiap Wilayah:\n"
     ]
    },
    {
     "data": {
      "text/html": [
       "<div>\n",
       "<style scoped>\n",
       "    .dataframe tbody tr th:only-of-type {\n",
       "        vertical-align: middle;\n",
       "    }\n",
       "\n",
       "    .dataframe tbody tr th {\n",
       "        vertical-align: top;\n",
       "    }\n",
       "\n",
       "    .dataframe thead th {\n",
       "        text-align: right;\n",
       "    }\n",
       "</style>\n",
       "<table border=\"1\" class=\"dataframe\">\n",
       "  <thead>\n",
       "    <tr style=\"text-align: right;\">\n",
       "      <th></th>\n",
       "      <th>Region</th>\n",
       "      <th>Minggu</th>\n",
       "      <th>Industri</th>\n",
       "      <th>Lain-lain</th>\n",
       "      <th>Rumah Tangga</th>\n",
       "      <th>Sosial</th>\n",
       "    </tr>\n",
       "  </thead>\n",
       "  <tbody>\n",
       "    <tr>\n",
       "      <th>0</th>\n",
       "      <td>Banda Sakti</td>\n",
       "      <td>53</td>\n",
       "      <td>1261.657571</td>\n",
       "      <td>1096.077623</td>\n",
       "      <td>616.470591</td>\n",
       "      <td>1221.554315</td>\n",
       "    </tr>\n",
       "    <tr>\n",
       "      <th>1</th>\n",
       "      <td>Banda Sakti</td>\n",
       "      <td>54</td>\n",
       "      <td>1250.797833</td>\n",
       "      <td>1181.446796</td>\n",
       "      <td>566.746758</td>\n",
       "      <td>1341.971411</td>\n",
       "    </tr>\n",
       "    <tr>\n",
       "      <th>2</th>\n",
       "      <td>Banda Sakti</td>\n",
       "      <td>55</td>\n",
       "      <td>1332.810556</td>\n",
       "      <td>1221.690262</td>\n",
       "      <td>614.288674</td>\n",
       "      <td>1469.087374</td>\n",
       "    </tr>\n",
       "    <tr>\n",
       "      <th>3</th>\n",
       "      <td>Banda Sakti</td>\n",
       "      <td>56</td>\n",
       "      <td>1349.310715</td>\n",
       "      <td>1306.112225</td>\n",
       "      <td>602.333034</td>\n",
       "      <td>1465.286502</td>\n",
       "    </tr>\n",
       "    <tr>\n",
       "      <th>4</th>\n",
       "      <td>Banda Sakti</td>\n",
       "      <td>57</td>\n",
       "      <td>1258.131230</td>\n",
       "      <td>1435.013070</td>\n",
       "      <td>651.448157</td>\n",
       "      <td>1561.402153</td>\n",
       "    </tr>\n",
       "    <tr>\n",
       "      <th>5</th>\n",
       "      <td>Banda Sakti</td>\n",
       "      <td>58</td>\n",
       "      <td>1297.054583</td>\n",
       "      <td>1355.583986</td>\n",
       "      <td>614.421186</td>\n",
       "      <td>1500.468682</td>\n",
       "    </tr>\n",
       "    <tr>\n",
       "      <th>6</th>\n",
       "      <td>Banda Sakti</td>\n",
       "      <td>59</td>\n",
       "      <td>1414.883423</td>\n",
       "      <td>1382.026385</td>\n",
       "      <td>662.956495</td>\n",
       "      <td>1599.781115</td>\n",
       "    </tr>\n",
       "    <tr>\n",
       "      <th>7</th>\n",
       "      <td>Banda Sakti</td>\n",
       "      <td>60</td>\n",
       "      <td>1487.062186</td>\n",
       "      <td>1332.523339</td>\n",
       "      <td>675.066486</td>\n",
       "      <td>1539.579874</td>\n",
       "    </tr>\n",
       "    <tr>\n",
       "      <th>8</th>\n",
       "      <td>Banda Sakti</td>\n",
       "      <td>61</td>\n",
       "      <td>1618.420053</td>\n",
       "      <td>1400.365936</td>\n",
       "      <td>714.817857</td>\n",
       "      <td>1566.424620</td>\n",
       "    </tr>\n",
       "    <tr>\n",
       "      <th>9</th>\n",
       "      <td>Banda Sakti</td>\n",
       "      <td>62</td>\n",
       "      <td>1733.996681</td>\n",
       "      <td>1313.134173</td>\n",
       "      <td>732.460336</td>\n",
       "      <td>1664.638254</td>\n",
       "    </tr>\n",
       "    <tr>\n",
       "      <th>10</th>\n",
       "      <td>Blang Mangat</td>\n",
       "      <td>53</td>\n",
       "      <td>2785.116419</td>\n",
       "      <td>666.110792</td>\n",
       "      <td>670.785742</td>\n",
       "      <td>429.359215</td>\n",
       "    </tr>\n",
       "    <tr>\n",
       "      <th>11</th>\n",
       "      <td>Blang Mangat</td>\n",
       "      <td>54</td>\n",
       "      <td>2676.710250</td>\n",
       "      <td>605.537351</td>\n",
       "      <td>611.950036</td>\n",
       "      <td>443.914313</td>\n",
       "    </tr>\n",
       "    <tr>\n",
       "      <th>12</th>\n",
       "      <td>Blang Mangat</td>\n",
       "      <td>55</td>\n",
       "      <td>2677.039489</td>\n",
       "      <td>599.179495</td>\n",
       "      <td>656.466966</td>\n",
       "      <td>485.588545</td>\n",
       "    </tr>\n",
       "    <tr>\n",
       "      <th>13</th>\n",
       "      <td>Blang Mangat</td>\n",
       "      <td>56</td>\n",
       "      <td>2754.562568</td>\n",
       "      <td>588.699826</td>\n",
       "      <td>709.631147</td>\n",
       "      <td>440.206285</td>\n",
       "    </tr>\n",
       "    <tr>\n",
       "      <th>14</th>\n",
       "      <td>Blang Mangat</td>\n",
       "      <td>57</td>\n",
       "      <td>2768.222644</td>\n",
       "      <td>641.964408</td>\n",
       "      <td>641.656013</td>\n",
       "      <td>453.089784</td>\n",
       "    </tr>\n",
       "    <tr>\n",
       "      <th>15</th>\n",
       "      <td>Blang Mangat</td>\n",
       "      <td>58</td>\n",
       "      <td>2758.708225</td>\n",
       "      <td>595.774960</td>\n",
       "      <td>610.594087</td>\n",
       "      <td>477.157393</td>\n",
       "    </tr>\n",
       "    <tr>\n",
       "      <th>16</th>\n",
       "      <td>Blang Mangat</td>\n",
       "      <td>59</td>\n",
       "      <td>2697.826919</td>\n",
       "      <td>567.885398</td>\n",
       "      <td>604.449239</td>\n",
       "      <td>466.906527</td>\n",
       "    </tr>\n",
       "    <tr>\n",
       "      <th>17</th>\n",
       "      <td>Blang Mangat</td>\n",
       "      <td>60</td>\n",
       "      <td>2759.337599</td>\n",
       "      <td>597.672344</td>\n",
       "      <td>554.920201</td>\n",
       "      <td>423.318811</td>\n",
       "    </tr>\n",
       "    <tr>\n",
       "      <th>18</th>\n",
       "      <td>Blang Mangat</td>\n",
       "      <td>61</td>\n",
       "      <td>2583.367867</td>\n",
       "      <td>643.130710</td>\n",
       "      <td>559.951172</td>\n",
       "      <td>440.177710</td>\n",
       "    </tr>\n",
       "    <tr>\n",
       "      <th>19</th>\n",
       "      <td>Blang Mangat</td>\n",
       "      <td>62</td>\n",
       "      <td>2510.990764</td>\n",
       "      <td>639.028912</td>\n",
       "      <td>579.538140</td>\n",
       "      <td>433.583898</td>\n",
       "    </tr>\n",
       "    <tr>\n",
       "      <th>20</th>\n",
       "      <td>Muara Dua</td>\n",
       "      <td>53</td>\n",
       "      <td>NaN</td>\n",
       "      <td>452.593545</td>\n",
       "      <td>235.065397</td>\n",
       "      <td>749.145127</td>\n",
       "    </tr>\n",
       "    <tr>\n",
       "      <th>21</th>\n",
       "      <td>Muara Dua</td>\n",
       "      <td>54</td>\n",
       "      <td>NaN</td>\n",
       "      <td>424.303334</td>\n",
       "      <td>253.050369</td>\n",
       "      <td>691.629089</td>\n",
       "    </tr>\n",
       "    <tr>\n",
       "      <th>22</th>\n",
       "      <td>Muara Dua</td>\n",
       "      <td>55</td>\n",
       "      <td>NaN</td>\n",
       "      <td>458.885489</td>\n",
       "      <td>266.044831</td>\n",
       "      <td>699.183212</td>\n",
       "    </tr>\n",
       "    <tr>\n",
       "      <th>23</th>\n",
       "      <td>Muara Dua</td>\n",
       "      <td>56</td>\n",
       "      <td>NaN</td>\n",
       "      <td>458.142789</td>\n",
       "      <td>273.829524</td>\n",
       "      <td>730.375602</td>\n",
       "    </tr>\n",
       "    <tr>\n",
       "      <th>24</th>\n",
       "      <td>Muara Dua</td>\n",
       "      <td>57</td>\n",
       "      <td>NaN</td>\n",
       "      <td>460.525533</td>\n",
       "      <td>286.603209</td>\n",
       "      <td>697.996858</td>\n",
       "    </tr>\n",
       "    <tr>\n",
       "      <th>25</th>\n",
       "      <td>Muara Dua</td>\n",
       "      <td>58</td>\n",
       "      <td>NaN</td>\n",
       "      <td>461.951272</td>\n",
       "      <td>290.201476</td>\n",
       "      <td>719.234827</td>\n",
       "    </tr>\n",
       "    <tr>\n",
       "      <th>26</th>\n",
       "      <td>Muara Dua</td>\n",
       "      <td>59</td>\n",
       "      <td>NaN</td>\n",
       "      <td>430.375493</td>\n",
       "      <td>269.615796</td>\n",
       "      <td>777.508398</td>\n",
       "    </tr>\n",
       "    <tr>\n",
       "      <th>27</th>\n",
       "      <td>Muara Dua</td>\n",
       "      <td>60</td>\n",
       "      <td>NaN</td>\n",
       "      <td>402.093634</td>\n",
       "      <td>258.199282</td>\n",
       "      <td>841.018723</td>\n",
       "    </tr>\n",
       "    <tr>\n",
       "      <th>28</th>\n",
       "      <td>Muara Dua</td>\n",
       "      <td>61</td>\n",
       "      <td>NaN</td>\n",
       "      <td>432.454634</td>\n",
       "      <td>262.479652</td>\n",
       "      <td>850.898092</td>\n",
       "    </tr>\n",
       "    <tr>\n",
       "      <th>29</th>\n",
       "      <td>Muara Dua</td>\n",
       "      <td>62</td>\n",
       "      <td>NaN</td>\n",
       "      <td>397.547952</td>\n",
       "      <td>282.502395</td>\n",
       "      <td>805.801099</td>\n",
       "    </tr>\n",
       "    <tr>\n",
       "      <th>30</th>\n",
       "      <td>Muara Satu</td>\n",
       "      <td>53</td>\n",
       "      <td>4150.354210</td>\n",
       "      <td>937.822180</td>\n",
       "      <td>507.718252</td>\n",
       "      <td>682.862061</td>\n",
       "    </tr>\n",
       "    <tr>\n",
       "      <th>31</th>\n",
       "      <td>Muara Satu</td>\n",
       "      <td>54</td>\n",
       "      <td>4511.642022</td>\n",
       "      <td>916.819335</td>\n",
       "      <td>464.966810</td>\n",
       "      <td>661.108700</td>\n",
       "    </tr>\n",
       "    <tr>\n",
       "      <th>32</th>\n",
       "      <td>Muara Satu</td>\n",
       "      <td>55</td>\n",
       "      <td>4075.552628</td>\n",
       "      <td>999.835432</td>\n",
       "      <td>500.629412</td>\n",
       "      <td>623.312842</td>\n",
       "    </tr>\n",
       "    <tr>\n",
       "      <th>33</th>\n",
       "      <td>Muara Satu</td>\n",
       "      <td>56</td>\n",
       "      <td>4472.905108</td>\n",
       "      <td>953.844989</td>\n",
       "      <td>455.788171</td>\n",
       "      <td>563.785867</td>\n",
       "    </tr>\n",
       "    <tr>\n",
       "      <th>34</th>\n",
       "      <td>Muara Satu</td>\n",
       "      <td>57</td>\n",
       "      <td>4104.235119</td>\n",
       "      <td>903.308050</td>\n",
       "      <td>453.658325</td>\n",
       "      <td>607.577919</td>\n",
       "    </tr>\n",
       "    <tr>\n",
       "      <th>35</th>\n",
       "      <td>Muara Satu</td>\n",
       "      <td>58</td>\n",
       "      <td>4009.142791</td>\n",
       "      <td>968.636566</td>\n",
       "      <td>467.389023</td>\n",
       "      <td>651.258387</td>\n",
       "    </tr>\n",
       "    <tr>\n",
       "      <th>36</th>\n",
       "      <td>Muara Satu</td>\n",
       "      <td>59</td>\n",
       "      <td>4367.684433</td>\n",
       "      <td>1062.950645</td>\n",
       "      <td>487.417683</td>\n",
       "      <td>621.699584</td>\n",
       "    </tr>\n",
       "    <tr>\n",
       "      <th>37</th>\n",
       "      <td>Muara Satu</td>\n",
       "      <td>60</td>\n",
       "      <td>4074.493249</td>\n",
       "      <td>965.400212</td>\n",
       "      <td>476.761891</td>\n",
       "      <td>596.195976</td>\n",
       "    </tr>\n",
       "    <tr>\n",
       "      <th>38</th>\n",
       "      <td>Muara Satu</td>\n",
       "      <td>61</td>\n",
       "      <td>4358.842473</td>\n",
       "      <td>968.312464</td>\n",
       "      <td>518.841324</td>\n",
       "      <td>578.592631</td>\n",
       "    </tr>\n",
       "    <tr>\n",
       "      <th>39</th>\n",
       "      <td>Muara Satu</td>\n",
       "      <td>62</td>\n",
       "      <td>4542.873320</td>\n",
       "      <td>972.471338</td>\n",
       "      <td>534.699019</td>\n",
       "      <td>570.262811</td>\n",
       "    </tr>\n",
       "  </tbody>\n",
       "</table>\n",
       "</div>"
      ],
      "text/plain": [
       "          Region  Minggu     Industri    Lain-lain  Rumah Tangga       Sosial\n",
       "0    Banda Sakti      53  1261.657571  1096.077623    616.470591  1221.554315\n",
       "1    Banda Sakti      54  1250.797833  1181.446796    566.746758  1341.971411\n",
       "2    Banda Sakti      55  1332.810556  1221.690262    614.288674  1469.087374\n",
       "3    Banda Sakti      56  1349.310715  1306.112225    602.333034  1465.286502\n",
       "4    Banda Sakti      57  1258.131230  1435.013070    651.448157  1561.402153\n",
       "5    Banda Sakti      58  1297.054583  1355.583986    614.421186  1500.468682\n",
       "6    Banda Sakti      59  1414.883423  1382.026385    662.956495  1599.781115\n",
       "7    Banda Sakti      60  1487.062186  1332.523339    675.066486  1539.579874\n",
       "8    Banda Sakti      61  1618.420053  1400.365936    714.817857  1566.424620\n",
       "9    Banda Sakti      62  1733.996681  1313.134173    732.460336  1664.638254\n",
       "10  Blang Mangat      53  2785.116419   666.110792    670.785742   429.359215\n",
       "11  Blang Mangat      54  2676.710250   605.537351    611.950036   443.914313\n",
       "12  Blang Mangat      55  2677.039489   599.179495    656.466966   485.588545\n",
       "13  Blang Mangat      56  2754.562568   588.699826    709.631147   440.206285\n",
       "14  Blang Mangat      57  2768.222644   641.964408    641.656013   453.089784\n",
       "15  Blang Mangat      58  2758.708225   595.774960    610.594087   477.157393\n",
       "16  Blang Mangat      59  2697.826919   567.885398    604.449239   466.906527\n",
       "17  Blang Mangat      60  2759.337599   597.672344    554.920201   423.318811\n",
       "18  Blang Mangat      61  2583.367867   643.130710    559.951172   440.177710\n",
       "19  Blang Mangat      62  2510.990764   639.028912    579.538140   433.583898\n",
       "20     Muara Dua      53          NaN   452.593545    235.065397   749.145127\n",
       "21     Muara Dua      54          NaN   424.303334    253.050369   691.629089\n",
       "22     Muara Dua      55          NaN   458.885489    266.044831   699.183212\n",
       "23     Muara Dua      56          NaN   458.142789    273.829524   730.375602\n",
       "24     Muara Dua      57          NaN   460.525533    286.603209   697.996858\n",
       "25     Muara Dua      58          NaN   461.951272    290.201476   719.234827\n",
       "26     Muara Dua      59          NaN   430.375493    269.615796   777.508398\n",
       "27     Muara Dua      60          NaN   402.093634    258.199282   841.018723\n",
       "28     Muara Dua      61          NaN   432.454634    262.479652   850.898092\n",
       "29     Muara Dua      62          NaN   397.547952    282.502395   805.801099\n",
       "30    Muara Satu      53  4150.354210   937.822180    507.718252   682.862061\n",
       "31    Muara Satu      54  4511.642022   916.819335    464.966810   661.108700\n",
       "32    Muara Satu      55  4075.552628   999.835432    500.629412   623.312842\n",
       "33    Muara Satu      56  4472.905108   953.844989    455.788171   563.785867\n",
       "34    Muara Satu      57  4104.235119   903.308050    453.658325   607.577919\n",
       "35    Muara Satu      58  4009.142791   968.636566    467.389023   651.258387\n",
       "36    Muara Satu      59  4367.684433  1062.950645    487.417683   621.699584\n",
       "37    Muara Satu      60  4074.493249   965.400212    476.761891   596.195976\n",
       "38    Muara Satu      61  4358.842473   968.312464    518.841324   578.592631\n",
       "39    Muara Satu      62  4542.873320   972.471338    534.699019   570.262811"
      ]
     },
     "metadata": {},
     "output_type": "display_data"
    },
    {
     "name": "stdout",
     "output_type": "stream",
     "text": [
      "Metrik Kesalahan untuk Setiap Wilayah:\n",
      "\n",
      "Metrik Kesalahan untuk Wilayah Banda Sakti:\n"
     ]
    },
    {
     "data": {
      "text/html": [
       "<div>\n",
       "<style scoped>\n",
       "    .dataframe tbody tr th:only-of-type {\n",
       "        vertical-align: middle;\n",
       "    }\n",
       "\n",
       "    .dataframe tbody tr th {\n",
       "        vertical-align: top;\n",
       "    }\n",
       "\n",
       "    .dataframe thead th {\n",
       "        text-align: right;\n",
       "    }\n",
       "</style>\n",
       "<table border=\"1\" class=\"dataframe\">\n",
       "  <thead>\n",
       "    <tr style=\"text-align: right;\">\n",
       "      <th></th>\n",
       "      <th>Kategori</th>\n",
       "      <th>Model</th>\n",
       "      <th>MAE</th>\n",
       "      <th>RMSE</th>\n",
       "      <th>MAPE</th>\n",
       "    </tr>\n",
       "  </thead>\n",
       "  <tbody>\n",
       "    <tr>\n",
       "      <th>0</th>\n",
       "      <td>Bisnis</td>\n",
       "      <td>MA (3-Mingguan)</td>\n",
       "      <td>219.53</td>\n",
       "      <td>285.11</td>\n",
       "      <td>11.64</td>\n",
       "    </tr>\n",
       "    <tr>\n",
       "      <th>1</th>\n",
       "      <td>Bisnis</td>\n",
       "      <td>AR(1)</td>\n",
       "      <td>442.82</td>\n",
       "      <td>566.79</td>\n",
       "      <td>22.07</td>\n",
       "    </tr>\n",
       "    <tr>\n",
       "      <th>2</th>\n",
       "      <td>Bisnis</td>\n",
       "      <td>AR+MA</td>\n",
       "      <td>459.49</td>\n",
       "      <td>589.05</td>\n",
       "      <td>23.14</td>\n",
       "    </tr>\n",
       "    <tr>\n",
       "      <th>3</th>\n",
       "      <td>Bisnis</td>\n",
       "      <td>VARMA</td>\n",
       "      <td>1583.84</td>\n",
       "      <td>2056.95</td>\n",
       "      <td>86.67</td>\n",
       "    </tr>\n",
       "    <tr>\n",
       "      <th>4</th>\n",
       "      <td>Industri</td>\n",
       "      <td>MA (3-Mingguan)</td>\n",
       "      <td>90.37</td>\n",
       "      <td>107.75</td>\n",
       "      <td>7.21</td>\n",
       "    </tr>\n",
       "    <tr>\n",
       "      <th>5</th>\n",
       "      <td>Industri</td>\n",
       "      <td>AR(1)</td>\n",
       "      <td>262.47</td>\n",
       "      <td>303.65</td>\n",
       "      <td>19.61</td>\n",
       "    </tr>\n",
       "    <tr>\n",
       "      <th>6</th>\n",
       "      <td>Industri</td>\n",
       "      <td>AR+MA</td>\n",
       "      <td>267.46</td>\n",
       "      <td>308.37</td>\n",
       "      <td>20.09</td>\n",
       "    </tr>\n",
       "    <tr>\n",
       "      <th>7</th>\n",
       "      <td>Industri</td>\n",
       "      <td>VARMA</td>\n",
       "      <td>958.91</td>\n",
       "      <td>1101.86</td>\n",
       "      <td>75.98</td>\n",
       "    </tr>\n",
       "    <tr>\n",
       "      <th>8</th>\n",
       "      <td>Lain-lain</td>\n",
       "      <td>MA (3-Mingguan)</td>\n",
       "      <td>140.45</td>\n",
       "      <td>179.24</td>\n",
       "      <td>18.96</td>\n",
       "    </tr>\n",
       "    <tr>\n",
       "      <th>9</th>\n",
       "      <td>Lain-lain</td>\n",
       "      <td>AR(1)</td>\n",
       "      <td>276.96</td>\n",
       "      <td>339.16</td>\n",
       "      <td>33.34</td>\n",
       "    </tr>\n",
       "    <tr>\n",
       "      <th>10</th>\n",
       "      <td>Lain-lain</td>\n",
       "      <td>AR+MA</td>\n",
       "      <td>296.82</td>\n",
       "      <td>357.58</td>\n",
       "      <td>36.12</td>\n",
       "    </tr>\n",
       "    <tr>\n",
       "      <th>11</th>\n",
       "      <td>Lain-lain</td>\n",
       "      <td>VARMA</td>\n",
       "      <td>875.27</td>\n",
       "      <td>1169.98</td>\n",
       "      <td>123.81</td>\n",
       "    </tr>\n",
       "    <tr>\n",
       "      <th>12</th>\n",
       "      <td>Rumah Tangga</td>\n",
       "      <td>MA (3-Mingguan)</td>\n",
       "      <td>127.52</td>\n",
       "      <td>164.26</td>\n",
       "      <td>17.56</td>\n",
       "    </tr>\n",
       "    <tr>\n",
       "      <th>13</th>\n",
       "      <td>Rumah Tangga</td>\n",
       "      <td>AR(1)</td>\n",
       "      <td>248.71</td>\n",
       "      <td>318.75</td>\n",
       "      <td>30.41</td>\n",
       "    </tr>\n",
       "    <tr>\n",
       "      <th>14</th>\n",
       "      <td>Rumah Tangga</td>\n",
       "      <td>AR+MA</td>\n",
       "      <td>261.18</td>\n",
       "      <td>334.76</td>\n",
       "      <td>32.11</td>\n",
       "    </tr>\n",
       "    <tr>\n",
       "      <th>15</th>\n",
       "      <td>Rumah Tangga</td>\n",
       "      <td>VARMA</td>\n",
       "      <td>889.58</td>\n",
       "      <td>1099.70</td>\n",
       "      <td>123.90</td>\n",
       "    </tr>\n",
       "    <tr>\n",
       "      <th>16</th>\n",
       "      <td>Sosial</td>\n",
       "      <td>MA (3-Mingguan)</td>\n",
       "      <td>87.13</td>\n",
       "      <td>102.22</td>\n",
       "      <td>8.59</td>\n",
       "    </tr>\n",
       "    <tr>\n",
       "      <th>17</th>\n",
       "      <td>Sosial</td>\n",
       "      <td>AR(1)</td>\n",
       "      <td>220.16</td>\n",
       "      <td>265.10</td>\n",
       "      <td>20.41</td>\n",
       "    </tr>\n",
       "    <tr>\n",
       "      <th>18</th>\n",
       "      <td>Sosial</td>\n",
       "      <td>AR+MA</td>\n",
       "      <td>224.21</td>\n",
       "      <td>271.73</td>\n",
       "      <td>20.88</td>\n",
       "    </tr>\n",
       "    <tr>\n",
       "      <th>19</th>\n",
       "      <td>Sosial</td>\n",
       "      <td>VARMA</td>\n",
       "      <td>759.21</td>\n",
       "      <td>926.28</td>\n",
       "      <td>76.50</td>\n",
       "    </tr>\n",
       "  </tbody>\n",
       "</table>\n",
       "</div>"
      ],
      "text/plain": [
       "        Kategori            Model      MAE     RMSE    MAPE\n",
       "0         Bisnis  MA (3-Mingguan)   219.53   285.11   11.64\n",
       "1         Bisnis            AR(1)   442.82   566.79   22.07\n",
       "2         Bisnis            AR+MA   459.49   589.05   23.14\n",
       "3         Bisnis            VARMA  1583.84  2056.95   86.67\n",
       "4       Industri  MA (3-Mingguan)    90.37   107.75    7.21\n",
       "5       Industri            AR(1)   262.47   303.65   19.61\n",
       "6       Industri            AR+MA   267.46   308.37   20.09\n",
       "7       Industri            VARMA   958.91  1101.86   75.98\n",
       "8      Lain-lain  MA (3-Mingguan)   140.45   179.24   18.96\n",
       "9      Lain-lain            AR(1)   276.96   339.16   33.34\n",
       "10     Lain-lain            AR+MA   296.82   357.58   36.12\n",
       "11     Lain-lain            VARMA   875.27  1169.98  123.81\n",
       "12  Rumah Tangga  MA (3-Mingguan)   127.52   164.26   17.56\n",
       "13  Rumah Tangga            AR(1)   248.71   318.75   30.41\n",
       "14  Rumah Tangga            AR+MA   261.18   334.76   32.11\n",
       "15  Rumah Tangga            VARMA   889.58  1099.70  123.90\n",
       "16        Sosial  MA (3-Mingguan)    87.13   102.22    8.59\n",
       "17        Sosial            AR(1)   220.16   265.10   20.41\n",
       "18        Sosial            AR+MA   224.21   271.73   20.88\n",
       "19        Sosial            VARMA   759.21   926.28   76.50"
      ]
     },
     "metadata": {},
     "output_type": "display_data"
    },
    {
     "name": "stdout",
     "output_type": "stream",
     "text": [
      "\n",
      "Metrik Kesalahan untuk Wilayah Blang Mangat:\n"
     ]
    },
    {
     "data": {
      "text/html": [
       "<div>\n",
       "<style scoped>\n",
       "    .dataframe tbody tr th:only-of-type {\n",
       "        vertical-align: middle;\n",
       "    }\n",
       "\n",
       "    .dataframe tbody tr th {\n",
       "        vertical-align: top;\n",
       "    }\n",
       "\n",
       "    .dataframe thead th {\n",
       "        text-align: right;\n",
       "    }\n",
       "</style>\n",
       "<table border=\"1\" class=\"dataframe\">\n",
       "  <thead>\n",
       "    <tr style=\"text-align: right;\">\n",
       "      <th></th>\n",
       "      <th>Kategori</th>\n",
       "      <th>Model</th>\n",
       "      <th>MAE</th>\n",
       "      <th>RMSE</th>\n",
       "      <th>MAPE</th>\n",
       "    </tr>\n",
       "  </thead>\n",
       "  <tbody>\n",
       "    <tr>\n",
       "      <th>0</th>\n",
       "      <td>Bisnis</td>\n",
       "      <td>MA (3-Mingguan)</td>\n",
       "      <td>289.22</td>\n",
       "      <td>369.55</td>\n",
       "      <td>11.31</td>\n",
       "    </tr>\n",
       "    <tr>\n",
       "      <th>1</th>\n",
       "      <td>Bisnis</td>\n",
       "      <td>AR(1)</td>\n",
       "      <td>663.43</td>\n",
       "      <td>781.37</td>\n",
       "      <td>23.88</td>\n",
       "    </tr>\n",
       "    <tr>\n",
       "      <th>2</th>\n",
       "      <td>Bisnis</td>\n",
       "      <td>AR+MA</td>\n",
       "      <td>684.12</td>\n",
       "      <td>810.94</td>\n",
       "      <td>24.81</td>\n",
       "    </tr>\n",
       "    <tr>\n",
       "      <th>3</th>\n",
       "      <td>Bisnis</td>\n",
       "      <td>VARMA</td>\n",
       "      <td>2293.49</td>\n",
       "      <td>2806.87</td>\n",
       "      <td>90.98</td>\n",
       "    </tr>\n",
       "    <tr>\n",
       "      <th>4</th>\n",
       "      <td>Industri</td>\n",
       "      <td>MA (3-Mingguan)</td>\n",
       "      <td>122.84</td>\n",
       "      <td>156.26</td>\n",
       "      <td>4.93</td>\n",
       "    </tr>\n",
       "    <tr>\n",
       "      <th>5</th>\n",
       "      <td>Industri</td>\n",
       "      <td>AR(1)</td>\n",
       "      <td>493.16</td>\n",
       "      <td>565.43</td>\n",
       "      <td>19.24</td>\n",
       "    </tr>\n",
       "    <tr>\n",
       "      <th>6</th>\n",
       "      <td>Industri</td>\n",
       "      <td>AR+MA</td>\n",
       "      <td>494.57</td>\n",
       "      <td>575.39</td>\n",
       "      <td>19.28</td>\n",
       "    </tr>\n",
       "    <tr>\n",
       "      <th>7</th>\n",
       "      <td>Industri</td>\n",
       "      <td>VARMA</td>\n",
       "      <td>1814.07</td>\n",
       "      <td>2022.01</td>\n",
       "      <td>74.48</td>\n",
       "    </tr>\n",
       "    <tr>\n",
       "      <th>8</th>\n",
       "      <td>Lain-lain</td>\n",
       "      <td>MA (3-Mingguan)</td>\n",
       "      <td>118.19</td>\n",
       "      <td>146.51</td>\n",
       "      <td>14.56</td>\n",
       "    </tr>\n",
       "    <tr>\n",
       "      <th>9</th>\n",
       "      <td>Lain-lain</td>\n",
       "      <td>AR(1)</td>\n",
       "      <td>220.87</td>\n",
       "      <td>280.69</td>\n",
       "      <td>24.49</td>\n",
       "    </tr>\n",
       "    <tr>\n",
       "      <th>10</th>\n",
       "      <td>Lain-lain</td>\n",
       "      <td>AR+MA</td>\n",
       "      <td>230.05</td>\n",
       "      <td>292.59</td>\n",
       "      <td>25.74</td>\n",
       "    </tr>\n",
       "    <tr>\n",
       "      <th>11</th>\n",
       "      <td>Lain-lain</td>\n",
       "      <td>VARMA</td>\n",
       "      <td>808.81</td>\n",
       "      <td>1010.39</td>\n",
       "      <td>102.55</td>\n",
       "    </tr>\n",
       "    <tr>\n",
       "      <th>12</th>\n",
       "      <td>Rumah Tangga</td>\n",
       "      <td>MA (3-Mingguan)</td>\n",
       "      <td>115.31</td>\n",
       "      <td>135.44</td>\n",
       "      <td>26.93</td>\n",
       "    </tr>\n",
       "    <tr>\n",
       "      <th>13</th>\n",
       "      <td>Rumah Tangga</td>\n",
       "      <td>AR(1)</td>\n",
       "      <td>186.29</td>\n",
       "      <td>225.30</td>\n",
       "      <td>36.06</td>\n",
       "    </tr>\n",
       "    <tr>\n",
       "      <th>14</th>\n",
       "      <td>Rumah Tangga</td>\n",
       "      <td>AR+MA</td>\n",
       "      <td>192.96</td>\n",
       "      <td>236.78</td>\n",
       "      <td>37.68</td>\n",
       "    </tr>\n",
       "    <tr>\n",
       "      <th>15</th>\n",
       "      <td>Rumah Tangga</td>\n",
       "      <td>VARMA</td>\n",
       "      <td>684.79</td>\n",
       "      <td>798.39</td>\n",
       "      <td>145.48</td>\n",
       "    </tr>\n",
       "    <tr>\n",
       "      <th>16</th>\n",
       "      <td>Sosial</td>\n",
       "      <td>MA (3-Mingguan)</td>\n",
       "      <td>48.93</td>\n",
       "      <td>60.18</td>\n",
       "      <td>13.63</td>\n",
       "    </tr>\n",
       "    <tr>\n",
       "      <th>17</th>\n",
       "      <td>Sosial</td>\n",
       "      <td>AR(1)</td>\n",
       "      <td>102.80</td>\n",
       "      <td>127.46</td>\n",
       "      <td>26.11</td>\n",
       "    </tr>\n",
       "    <tr>\n",
       "      <th>18</th>\n",
       "      <td>Sosial</td>\n",
       "      <td>AR+MA</td>\n",
       "      <td>105.54</td>\n",
       "      <td>132.87</td>\n",
       "      <td>27.06</td>\n",
       "    </tr>\n",
       "    <tr>\n",
       "      <th>19</th>\n",
       "      <td>Sosial</td>\n",
       "      <td>VARMA</td>\n",
       "      <td>362.31</td>\n",
       "      <td>439.48</td>\n",
       "      <td>102.92</td>\n",
       "    </tr>\n",
       "  </tbody>\n",
       "</table>\n",
       "</div>"
      ],
      "text/plain": [
       "        Kategori            Model      MAE     RMSE    MAPE\n",
       "0         Bisnis  MA (3-Mingguan)   289.22   369.55   11.31\n",
       "1         Bisnis            AR(1)   663.43   781.37   23.88\n",
       "2         Bisnis            AR+MA   684.12   810.94   24.81\n",
       "3         Bisnis            VARMA  2293.49  2806.87   90.98\n",
       "4       Industri  MA (3-Mingguan)   122.84   156.26    4.93\n",
       "5       Industri            AR(1)   493.16   565.43   19.24\n",
       "6       Industri            AR+MA   494.57   575.39   19.28\n",
       "7       Industri            VARMA  1814.07  2022.01   74.48\n",
       "8      Lain-lain  MA (3-Mingguan)   118.19   146.51   14.56\n",
       "9      Lain-lain            AR(1)   220.87   280.69   24.49\n",
       "10     Lain-lain            AR+MA   230.05   292.59   25.74\n",
       "11     Lain-lain            VARMA   808.81  1010.39  102.55\n",
       "12  Rumah Tangga  MA (3-Mingguan)   115.31   135.44   26.93\n",
       "13  Rumah Tangga            AR(1)   186.29   225.30   36.06\n",
       "14  Rumah Tangga            AR+MA   192.96   236.78   37.68\n",
       "15  Rumah Tangga            VARMA   684.79   798.39  145.48\n",
       "16        Sosial  MA (3-Mingguan)    48.93    60.18   13.63\n",
       "17        Sosial            AR(1)   102.80   127.46   26.11\n",
       "18        Sosial            AR+MA   105.54   132.87   27.06\n",
       "19        Sosial            VARMA   362.31   439.48  102.92"
      ]
     },
     "metadata": {},
     "output_type": "display_data"
    },
    {
     "name": "stdout",
     "output_type": "stream",
     "text": [
      "\n",
      "Metrik Kesalahan untuk Wilayah Muara Dua:\n"
     ]
    },
    {
     "data": {
      "text/html": [
       "<div>\n",
       "<style scoped>\n",
       "    .dataframe tbody tr th:only-of-type {\n",
       "        vertical-align: middle;\n",
       "    }\n",
       "\n",
       "    .dataframe tbody tr th {\n",
       "        vertical-align: top;\n",
       "    }\n",
       "\n",
       "    .dataframe thead th {\n",
       "        text-align: right;\n",
       "    }\n",
       "</style>\n",
       "<table border=\"1\" class=\"dataframe\">\n",
       "  <thead>\n",
       "    <tr style=\"text-align: right;\">\n",
       "      <th></th>\n",
       "      <th>Kategori</th>\n",
       "      <th>Model</th>\n",
       "      <th>MAE</th>\n",
       "      <th>RMSE</th>\n",
       "      <th>MAPE</th>\n",
       "    </tr>\n",
       "  </thead>\n",
       "  <tbody>\n",
       "    <tr>\n",
       "      <th>0</th>\n",
       "      <td>Bisnis</td>\n",
       "      <td>MA (3-Mingguan)</td>\n",
       "      <td>217.17</td>\n",
       "      <td>264.07</td>\n",
       "      <td>12.17</td>\n",
       "    </tr>\n",
       "    <tr>\n",
       "      <th>1</th>\n",
       "      <td>Bisnis</td>\n",
       "      <td>AR(1)</td>\n",
       "      <td>450.17</td>\n",
       "      <td>558.25</td>\n",
       "      <td>22.45</td>\n",
       "    </tr>\n",
       "    <tr>\n",
       "      <th>2</th>\n",
       "      <td>Bisnis</td>\n",
       "      <td>AR+MA</td>\n",
       "      <td>462.23</td>\n",
       "      <td>576.41</td>\n",
       "      <td>23.19</td>\n",
       "    </tr>\n",
       "    <tr>\n",
       "      <th>3</th>\n",
       "      <td>Bisnis</td>\n",
       "      <td>VARMA</td>\n",
       "      <td>1651.61</td>\n",
       "      <td>1958.00</td>\n",
       "      <td>91.78</td>\n",
       "    </tr>\n",
       "    <tr>\n",
       "      <th>4</th>\n",
       "      <td>Lain-lain</td>\n",
       "      <td>MA (3-Mingguan)</td>\n",
       "      <td>111.23</td>\n",
       "      <td>143.24</td>\n",
       "      <td>27.79</td>\n",
       "    </tr>\n",
       "    <tr>\n",
       "      <th>5</th>\n",
       "      <td>Lain-lain</td>\n",
       "      <td>AR(1)</td>\n",
       "      <td>198.45</td>\n",
       "      <td>247.51</td>\n",
       "      <td>41.55</td>\n",
       "    </tr>\n",
       "    <tr>\n",
       "      <th>6</th>\n",
       "      <td>Lain-lain</td>\n",
       "      <td>AR+MA</td>\n",
       "      <td>208.54</td>\n",
       "      <td>262.24</td>\n",
       "      <td>43.84</td>\n",
       "    </tr>\n",
       "    <tr>\n",
       "      <th>7</th>\n",
       "      <td>Lain-lain</td>\n",
       "      <td>VARMA</td>\n",
       "      <td>730.17</td>\n",
       "      <td>897.87</td>\n",
       "      <td>161.60</td>\n",
       "    </tr>\n",
       "    <tr>\n",
       "      <th>8</th>\n",
       "      <td>Rumah Tangga</td>\n",
       "      <td>MA (3-Mingguan)</td>\n",
       "      <td>76.49</td>\n",
       "      <td>92.16</td>\n",
       "      <td>44.89</td>\n",
       "    </tr>\n",
       "    <tr>\n",
       "      <th>9</th>\n",
       "      <td>Rumah Tangga</td>\n",
       "      <td>AR(1)</td>\n",
       "      <td>134.60</td>\n",
       "      <td>163.30</td>\n",
       "      <td>69.44</td>\n",
       "    </tr>\n",
       "    <tr>\n",
       "      <th>10</th>\n",
       "      <td>Rumah Tangga</td>\n",
       "      <td>AR+MA</td>\n",
       "      <td>141.66</td>\n",
       "      <td>172.92</td>\n",
       "      <td>74.42</td>\n",
       "    </tr>\n",
       "    <tr>\n",
       "      <th>11</th>\n",
       "      <td>Rumah Tangga</td>\n",
       "      <td>VARMA</td>\n",
       "      <td>449.88</td>\n",
       "      <td>541.89</td>\n",
       "      <td>258.85</td>\n",
       "    </tr>\n",
       "    <tr>\n",
       "      <th>12</th>\n",
       "      <td>Sosial</td>\n",
       "      <td>MA (3-Mingguan)</td>\n",
       "      <td>69.31</td>\n",
       "      <td>86.20</td>\n",
       "      <td>12.27</td>\n",
       "    </tr>\n",
       "    <tr>\n",
       "      <th>13</th>\n",
       "      <td>Sosial</td>\n",
       "      <td>AR(1)</td>\n",
       "      <td>139.53</td>\n",
       "      <td>173.27</td>\n",
       "      <td>22.10</td>\n",
       "    </tr>\n",
       "    <tr>\n",
       "      <th>14</th>\n",
       "      <td>Sosial</td>\n",
       "      <td>AR+MA</td>\n",
       "      <td>141.11</td>\n",
       "      <td>178.32</td>\n",
       "      <td>22.41</td>\n",
       "    </tr>\n",
       "    <tr>\n",
       "      <th>15</th>\n",
       "      <td>Sosial</td>\n",
       "      <td>VARMA</td>\n",
       "      <td>518.94</td>\n",
       "      <td>603.92</td>\n",
       "      <td>90.89</td>\n",
       "    </tr>\n",
       "  </tbody>\n",
       "</table>\n",
       "</div>"
      ],
      "text/plain": [
       "        Kategori            Model      MAE     RMSE    MAPE\n",
       "0         Bisnis  MA (3-Mingguan)   217.17   264.07   12.17\n",
       "1         Bisnis            AR(1)   450.17   558.25   22.45\n",
       "2         Bisnis            AR+MA   462.23   576.41   23.19\n",
       "3         Bisnis            VARMA  1651.61  1958.00   91.78\n",
       "4      Lain-lain  MA (3-Mingguan)   111.23   143.24   27.79\n",
       "5      Lain-lain            AR(1)   198.45   247.51   41.55\n",
       "6      Lain-lain            AR+MA   208.54   262.24   43.84\n",
       "7      Lain-lain            VARMA   730.17   897.87  161.60\n",
       "8   Rumah Tangga  MA (3-Mingguan)    76.49    92.16   44.89\n",
       "9   Rumah Tangga            AR(1)   134.60   163.30   69.44\n",
       "10  Rumah Tangga            AR+MA   141.66   172.92   74.42\n",
       "11  Rumah Tangga            VARMA   449.88   541.89  258.85\n",
       "12        Sosial  MA (3-Mingguan)    69.31    86.20   12.27\n",
       "13        Sosial            AR(1)   139.53   173.27   22.10\n",
       "14        Sosial            AR+MA   141.11   178.32   22.41\n",
       "15        Sosial            VARMA   518.94   603.92   90.89"
      ]
     },
     "metadata": {},
     "output_type": "display_data"
    },
    {
     "name": "stdout",
     "output_type": "stream",
     "text": [
      "\n",
      "Metrik Kesalahan untuk Wilayah Muara Satu:\n"
     ]
    },
    {
     "data": {
      "text/html": [
       "<div>\n",
       "<style scoped>\n",
       "    .dataframe tbody tr th:only-of-type {\n",
       "        vertical-align: middle;\n",
       "    }\n",
       "\n",
       "    .dataframe tbody tr th {\n",
       "        vertical-align: top;\n",
       "    }\n",
       "\n",
       "    .dataframe thead th {\n",
       "        text-align: right;\n",
       "    }\n",
       "</style>\n",
       "<table border=\"1\" class=\"dataframe\">\n",
       "  <thead>\n",
       "    <tr style=\"text-align: right;\">\n",
       "      <th></th>\n",
       "      <th>Kategori</th>\n",
       "      <th>Model</th>\n",
       "      <th>MAE</th>\n",
       "      <th>RMSE</th>\n",
       "      <th>MAPE</th>\n",
       "    </tr>\n",
       "  </thead>\n",
       "  <tbody>\n",
       "    <tr>\n",
       "      <th>0</th>\n",
       "      <td>Industri</td>\n",
       "      <td>MA (3-Mingguan)</td>\n",
       "      <td>135.01</td>\n",
       "      <td>163.78</td>\n",
       "      <td>3.64</td>\n",
       "    </tr>\n",
       "    <tr>\n",
       "      <th>1</th>\n",
       "      <td>Industri</td>\n",
       "      <td>AR(1)</td>\n",
       "      <td>747.34</td>\n",
       "      <td>791.22</td>\n",
       "      <td>19.90</td>\n",
       "    </tr>\n",
       "    <tr>\n",
       "      <th>2</th>\n",
       "      <td>Industri</td>\n",
       "      <td>AR+MA</td>\n",
       "      <td>746.45</td>\n",
       "      <td>796.22</td>\n",
       "      <td>19.88</td>\n",
       "    </tr>\n",
       "    <tr>\n",
       "      <th>3</th>\n",
       "      <td>Industri</td>\n",
       "      <td>VARMA</td>\n",
       "      <td>2713.41</td>\n",
       "      <td>2856.84</td>\n",
       "      <td>73.59</td>\n",
       "    </tr>\n",
       "    <tr>\n",
       "      <th>4</th>\n",
       "      <td>Lain-lain</td>\n",
       "      <td>MA (3-Mingguan)</td>\n",
       "      <td>151.11</td>\n",
       "      <td>188.00</td>\n",
       "      <td>14.88</td>\n",
       "    </tr>\n",
       "    <tr>\n",
       "      <th>5</th>\n",
       "      <td>Lain-lain</td>\n",
       "      <td>AR(1)</td>\n",
       "      <td>312.99</td>\n",
       "      <td>390.10</td>\n",
       "      <td>27.19</td>\n",
       "    </tr>\n",
       "    <tr>\n",
       "      <th>6</th>\n",
       "      <td>Lain-lain</td>\n",
       "      <td>AR+MA</td>\n",
       "      <td>322.88</td>\n",
       "      <td>408.02</td>\n",
       "      <td>28.13</td>\n",
       "    </tr>\n",
       "    <tr>\n",
       "      <th>7</th>\n",
       "      <td>Lain-lain</td>\n",
       "      <td>VARMA</td>\n",
       "      <td>1146.79</td>\n",
       "      <td>1358.45</td>\n",
       "      <td>110.46</td>\n",
       "    </tr>\n",
       "    <tr>\n",
       "      <th>8</th>\n",
       "      <td>Rumah Tangga</td>\n",
       "      <td>MA (3-Mingguan)</td>\n",
       "      <td>159.99</td>\n",
       "      <td>210.36</td>\n",
       "      <td>26.50</td>\n",
       "    </tr>\n",
       "    <tr>\n",
       "      <th>9</th>\n",
       "      <td>Rumah Tangga</td>\n",
       "      <td>AR(1)</td>\n",
       "      <td>284.56</td>\n",
       "      <td>343.59</td>\n",
       "      <td>40.31</td>\n",
       "    </tr>\n",
       "    <tr>\n",
       "      <th>10</th>\n",
       "      <td>Rumah Tangga</td>\n",
       "      <td>AR+MA</td>\n",
       "      <td>299.79</td>\n",
       "      <td>360.95</td>\n",
       "      <td>42.87</td>\n",
       "    </tr>\n",
       "    <tr>\n",
       "      <th>11</th>\n",
       "      <td>Rumah Tangga</td>\n",
       "      <td>VARMA</td>\n",
       "      <td>1057.74</td>\n",
       "      <td>1261.21</td>\n",
       "      <td>161.65</td>\n",
       "    </tr>\n",
       "    <tr>\n",
       "      <th>12</th>\n",
       "      <td>Sosial</td>\n",
       "      <td>MA (3-Mingguan)</td>\n",
       "      <td>60.49</td>\n",
       "      <td>76.41</td>\n",
       "      <td>10.23</td>\n",
       "    </tr>\n",
       "    <tr>\n",
       "      <th>13</th>\n",
       "      <td>Sosial</td>\n",
       "      <td>AR(1)</td>\n",
       "      <td>138.03</td>\n",
       "      <td>169.30</td>\n",
       "      <td>21.56</td>\n",
       "    </tr>\n",
       "    <tr>\n",
       "      <th>14</th>\n",
       "      <td>Sosial</td>\n",
       "      <td>AR+MA</td>\n",
       "      <td>140.17</td>\n",
       "      <td>174.05</td>\n",
       "      <td>21.95</td>\n",
       "    </tr>\n",
       "    <tr>\n",
       "      <th>15</th>\n",
       "      <td>Sosial</td>\n",
       "      <td>VARMA</td>\n",
       "      <td>500.39</td>\n",
       "      <td>592.01</td>\n",
       "      <td>85.58</td>\n",
       "    </tr>\n",
       "  </tbody>\n",
       "</table>\n",
       "</div>"
      ],
      "text/plain": [
       "        Kategori            Model      MAE     RMSE    MAPE\n",
       "0       Industri  MA (3-Mingguan)   135.01   163.78    3.64\n",
       "1       Industri            AR(1)   747.34   791.22   19.90\n",
       "2       Industri            AR+MA   746.45   796.22   19.88\n",
       "3       Industri            VARMA  2713.41  2856.84   73.59\n",
       "4      Lain-lain  MA (3-Mingguan)   151.11   188.00   14.88\n",
       "5      Lain-lain            AR(1)   312.99   390.10   27.19\n",
       "6      Lain-lain            AR+MA   322.88   408.02   28.13\n",
       "7      Lain-lain            VARMA  1146.79  1358.45  110.46\n",
       "8   Rumah Tangga  MA (3-Mingguan)   159.99   210.36   26.50\n",
       "9   Rumah Tangga            AR(1)   284.56   343.59   40.31\n",
       "10  Rumah Tangga            AR+MA   299.79   360.95   42.87\n",
       "11  Rumah Tangga            VARMA  1057.74  1261.21  161.65\n",
       "12        Sosial  MA (3-Mingguan)    60.49    76.41   10.23\n",
       "13        Sosial            AR(1)   138.03   169.30   21.56\n",
       "14        Sosial            AR+MA   140.17   174.05   21.95\n",
       "15        Sosial            VARMA   500.39   592.01   85.58"
      ]
     },
     "metadata": {},
     "output_type": "display_data"
    }
   ],
   "source": [
    "# Menyimpan hasil dan metrik kesalahan\n",
    "df_results = {}\n",
    "error_metrics = {}\n",
    "\n",
    "# Inisialisasi DataFrame untuk menyimpan semua prediksi\n",
    "prediksi_final = pd.DataFrame()\n",
    "\n",
    "for wilayah in wilayah_list:\n",
    "    # Memfilter data untuk wilayah tertentu\n",
    "    df_wilayah = df_long[df_long['Wilayah'] == wilayah].copy()\n",
    "    \n",
    "    # Mengecek apakah data tersedia\n",
    "    if df_wilayah.empty:\n",
    "        continue  # Jika tidak ada data, lewati iterasi ini\n",
    "    \n",
    "    # Mengurutkan data berdasarkan 'Minggu' dan 'Kategori'\n",
    "    df_wilayah.sort_values(['Minggu', 'Kategori'], inplace=True)\n",
    "    df_wilayah.reset_index(drop=True, inplace=True)\n",
    "    \n",
    "    # Pivot data sehingga setiap kategori menjadi kolom\n",
    "    df_pivot = df_wilayah.pivot(index='Minggu', columns='Kategori', values='Pemakaian').reset_index()\n",
    "    \n",
    "    # Mengisi nilai NaN jika ada\n",
    "    df_pivot.fillna(0, inplace=True)\n",
    "    \n",
    "    # Menentukan Kategori yang Tersedia dalam df_pivot\n",
    "    available_categories = [kategori for kategori in kategori_list if kategori in df_pivot.columns]\n",
    "    \n",
    "    # Jika tidak ada kategori yang tersedia, lewati wilayah ini\n",
    "    if not available_categories:\n",
    "        print(f\"Tidak ada kategori yang tersedia untuk wilayah {wilayah}.\")\n",
    "        continue\n",
    "    \n",
    "    # Menyimpan 'Pemakaian Asli' per kategori yang tersedia\n",
    "    pemakaian_asli = df_pivot[available_categories].values  # Bentuknya (jumlah_minggu, jumlah_kategori)\n",
    "    \n",
    "    # Inisialisasi DataFrame hasil untuk wilayah ini\n",
    "    df_region_results = df_pivot[['Minggu']].copy()\n",
    "    \n",
    "    for idx, kategori in enumerate(available_categories):\n",
    "        series = pemakaian_asli[:, idx]\n",
    "        \n",
    "        if np.all(series == 0):\n",
    "            continue\n",
    "        \n",
    "        df_region_results[f'{kategori}'] = series\n",
    "        \n",
    "        # Menghitung Moving Average\n",
    "        ma_values = moving_average(series, period=3)\n",
    "        df_region_results[f'{kategori} - MA (3-Mingguan)'] = ma_values\n",
    "        \n",
    "        # Model AR\n",
    "        ar_values = np.append([np.nan], series[:-1] * phi_ar)\n",
    "        df_region_results[f'{kategori} - AR(1)'] = ar_values\n",
    "        \n",
    "        # Model AR+MA\n",
    "        residuals = series - ma_values\n",
    "        residuals[np.isnan(residuals)] = 0\n",
    "        ar_ma_values = ar_values + theta_ma * np.append([0], residuals[:-1])\n",
    "        df_region_results[f'{kategori} - AR+MA'] = ar_ma_values\n",
    "        \n",
    "        # Model VARMA\n",
    "        varma_values = calculate_varma_values(series, residuals, phi_varma, theta_varma, beta1, beta2)\n",
    "        df_region_results[f'{kategori} - VARMA'] = varma_values\n",
    "        \n",
    "        # Menghitung MAPE, RMSE, dan MAE\n",
    "        error_metrics_model = {}\n",
    "        for model in models:\n",
    "            model_col = f'{kategori} - {model}'\n",
    "            actual = df_region_results[f'{kategori}'][~np.isnan(df_region_results[model_col])]\n",
    "            predicted = df_region_results[model_col][~np.isnan(df_region_results[model_col])]\n",
    "            if len(actual) > 0:  # Pastikan ada data untuk menghitung metrik\n",
    "                mae = mean_absolute_error(actual, predicted)\n",
    "                rmse = mean_squared_error(actual, predicted, squared=False)\n",
    "                mape = np.mean(np.abs((actual - predicted) / actual)) * 100\n",
    "                error_metrics_model[model] = {'MAE': round(mae, 2), 'RMSE': round(rmse, 2), 'MAPE': round(mape, 2)}\n",
    "        \n",
    "        # Menyimpan metrik kesalahan per kategori\n",
    "        error_metrics[(wilayah, kategori)] = error_metrics_model\n",
    "    \n",
    "    df_results[wilayah] = df_region_results.copy()\n",
    "\n",
    "    # **Prediksi untuk Minggu 53 hingga 62**\n",
    "    for week in range(53, 63):\n",
    "        new_data = {'Minggu': week}\n",
    "        \n",
    "        for kategori in available_categories:\n",
    "            series = df_region_results[kategori].values\n",
    "            last_value = series[-1]\n",
    "            \n",
    "            # Contoh prediksi yang lebih realistis\n",
    "            ar_ma_pred = max(0, last_value * (1 + np.random.uniform(-0.1, 0.1)))  # Menggunakan noise kecil\n",
    "            \n",
    "            new_data[kategori] = ar_ma_pred\n",
    "        \n",
    "        df_region_results = pd.concat([df_region_results, pd.DataFrame([new_data])], ignore_index=True)\n",
    "\n",
    "    # Menyiapkan DataFrame untuk hasil prediksi\n",
    "    prediksi_df = df_region_results[df_region_results['Minggu'].isin(range(53, 63))].copy()\n",
    "    prediksi_df['Region'] = wilayah  # Menambahkan kolom Region\n",
    "    \n",
    "    # Menggabungkan hasil prediksi ke dalam prediksi_final DataFrame\n",
    "    prediksi_final = pd.concat([prediksi_final, prediksi_df], ignore_index=True)\n",
    "\n",
    "# Menampilkan tabel akhir hasil prediksi\n",
    "print(\"Hasil Prediksi untuk Setiap Wilayah:\")\n",
    "prediksi_final_display = prediksi_final[['Region', 'Minggu'] + available_categories]\n",
    "display(prediksi_final_display)\n",
    "\n",
    "# Menampilkan metrik kesalahan per wilayah dalam tabel terpisah\n",
    "print(\"Metrik Kesalahan untuk Setiap Wilayah:\")\n",
    "for wilayah in wilayah_list:\n",
    "    error_df_region = pd.DataFrame.from_dict(\n",
    "        {(kategori, model): metrics for (w, kategori), models_metrics in error_metrics.items() if w == wilayah for model, metrics in models_metrics.items()}, \n",
    "        orient='index'\n",
    "    )\n",
    "    error_df_region.reset_index(inplace=True)\n",
    "    error_df_region.columns = ['Kategori', 'Model', 'MAE', 'RMSE', 'MAPE']\n",
    "    \n",
    "    print(f\"\\nMetrik Kesalahan untuk Wilayah {wilayah}:\")\n",
    "    display(error_df_region)\n"
   ]
  },
  {
   "cell_type": "code",
   "execution_count": 83,
   "metadata": {},
   "outputs": [
    {
     "data": {
      "application/vnd.plotly.v1+json": {
       "config": {
        "plotlyServerURL": "https://plot.ly"
       },
       "data": [
        {
         "line": {
          "color": "blue"
         },
         "marker": {
          "size": 8
         },
         "mode": "lines+markers",
         "name": "Industri",
         "showlegend": true,
         "type": "scatter",
         "x": [
          53,
          54,
          55,
          56,
          57,
          58,
          59,
          60,
          61,
          62
         ],
         "xaxis": "x",
         "y": [
          1261.6575714877633,
          1250.7978330318515,
          1332.810555850516,
          1349.3107146843531,
          1258.131230367477,
          1297.054582805707,
          1414.88342328188,
          1487.0621863042008,
          1618.4200534177548,
          1733.9966805722859
         ],
         "yaxis": "y"
        },
        {
         "line": {
          "color": "orange"
         },
         "marker": {
          "size": 8
         },
         "mode": "lines+markers",
         "name": "Lain-lain",
         "showlegend": true,
         "type": "scatter",
         "x": [
          53,
          54,
          55,
          56,
          57,
          58,
          59,
          60,
          61,
          62
         ],
         "xaxis": "x",
         "y": [
          1096.0776228136167,
          1181.4467964849266,
          1221.6902622891043,
          1306.1122248842025,
          1435.0130703557813,
          1355.5839862280748,
          1382.026385190038,
          1332.5233385725285,
          1400.3659356157218,
          1313.1341734915302
         ],
         "yaxis": "y"
        },
        {
         "line": {
          "color": "green"
         },
         "marker": {
          "size": 8
         },
         "mode": "lines+markers",
         "name": "Rumah Tangga",
         "showlegend": true,
         "type": "scatter",
         "x": [
          53,
          54,
          55,
          56,
          57,
          58,
          59,
          60,
          61,
          62
         ],
         "xaxis": "x",
         "y": [
          616.4705911557381,
          566.7467579669818,
          614.2886741336001,
          602.3330341737811,
          651.4481566619935,
          614.4211855214742,
          662.956495165304,
          675.0664863355955,
          714.8178567763424,
          732.4603362857032
         ],
         "yaxis": "y"
        },
        {
         "line": {
          "color": "red"
         },
         "marker": {
          "size": 8
         },
         "mode": "lines+markers",
         "name": "Sosial",
         "showlegend": true,
         "type": "scatter",
         "x": [
          53,
          54,
          55,
          56,
          57,
          58,
          59,
          60,
          61,
          62
         ],
         "xaxis": "x",
         "y": [
          1221.5543151875884,
          1341.9714111392898,
          1469.0873737818101,
          1465.2865021832874,
          1561.4021534093456,
          1500.4686820220993,
          1599.7811145971157,
          1539.579874177113,
          1566.4246195165517,
          1664.6382543490936
         ],
         "yaxis": "y"
        },
        {
         "line": {
          "color": "blue"
         },
         "marker": {
          "size": 8
         },
         "mode": "lines+markers",
         "name": "Industri",
         "showlegend": false,
         "type": "scatter",
         "x": [
          53,
          54,
          55,
          56,
          57,
          58,
          59,
          60,
          61,
          62
         ],
         "xaxis": "x2",
         "y": [
          2785.1164188115595,
          2676.7102500593423,
          2677.039489376362,
          2754.562567591833,
          2768.222644368969,
          2758.70822521454,
          2697.826919058743,
          2759.3375992551614,
          2583.367866509651,
          2510.9907636168323
         ],
         "yaxis": "y2"
        },
        {
         "line": {
          "color": "orange"
         },
         "marker": {
          "size": 8
         },
         "mode": "lines+markers",
         "name": "Lain-lain",
         "showlegend": false,
         "type": "scatter",
         "x": [
          53,
          54,
          55,
          56,
          57,
          58,
          59,
          60,
          61,
          62
         ],
         "xaxis": "x2",
         "y": [
          666.1107922714735,
          605.5373513725543,
          599.1794947494625,
          588.6998255688784,
          641.9644075237094,
          595.7749602832068,
          567.8853981641649,
          597.672344212196,
          643.1307099964461,
          639.0289117128965
         ],
         "yaxis": "y2"
        },
        {
         "line": {
          "color": "green"
         },
         "marker": {
          "size": 8
         },
         "mode": "lines+markers",
         "name": "Rumah Tangga",
         "showlegend": false,
         "type": "scatter",
         "x": [
          53,
          54,
          55,
          56,
          57,
          58,
          59,
          60,
          61,
          62
         ],
         "xaxis": "x2",
         "y": [
          670.785742085594,
          611.9500363296272,
          656.4669663343396,
          709.6311474019235,
          641.6560133328632,
          610.5940872249049,
          604.4492387751371,
          554.920201281755,
          559.9511723369657,
          579.5381396277963
         ],
         "yaxis": "y2"
        },
        {
         "line": {
          "color": "red"
         },
         "marker": {
          "size": 8
         },
         "mode": "lines+markers",
         "name": "Sosial",
         "showlegend": false,
         "type": "scatter",
         "x": [
          53,
          54,
          55,
          56,
          57,
          58,
          59,
          60,
          61,
          62
         ],
         "xaxis": "x2",
         "y": [
          429.359215412791,
          443.9143132400023,
          485.5885454043792,
          440.2062853165139,
          453.0897837992252,
          477.1573934710066,
          466.9065267316208,
          423.3188113338439,
          440.1777097591913,
          433.5838984946048
         ],
         "yaxis": "y2"
        },
        {
         "line": {
          "color": "blue"
         },
         "marker": {
          "size": 8
         },
         "mode": "lines+markers",
         "name": "Industri",
         "showlegend": false,
         "type": "scatter",
         "x": [
          53,
          54,
          55,
          56,
          57,
          58,
          59,
          60,
          61,
          62
         ],
         "xaxis": "x3",
         "y": [
          null,
          null,
          null,
          null,
          null,
          null,
          null,
          null,
          null,
          null
         ],
         "yaxis": "y3"
        },
        {
         "line": {
          "color": "orange"
         },
         "marker": {
          "size": 8
         },
         "mode": "lines+markers",
         "name": "Lain-lain",
         "showlegend": false,
         "type": "scatter",
         "x": [
          53,
          54,
          55,
          56,
          57,
          58,
          59,
          60,
          61,
          62
         ],
         "xaxis": "x3",
         "y": [
          452.5935448233047,
          424.30333360152287,
          458.8854891655312,
          458.1427886042548,
          460.5255334350522,
          461.9512720892515,
          430.3754928686148,
          402.0936341764913,
          432.45463423240386,
          397.5479516202154
         ],
         "yaxis": "y3"
        },
        {
         "line": {
          "color": "green"
         },
         "marker": {
          "size": 8
         },
         "mode": "lines+markers",
         "name": "Rumah Tangga",
         "showlegend": false,
         "type": "scatter",
         "x": [
          53,
          54,
          55,
          56,
          57,
          58,
          59,
          60,
          61,
          62
         ],
         "xaxis": "x3",
         "y": [
          235.06539668241652,
          253.0503693534488,
          266.0448310313836,
          273.829524486031,
          286.6032089002327,
          290.20147582458753,
          269.61579622136634,
          258.19928226652536,
          262.47965203535307,
          282.5023953540895
         ],
         "yaxis": "y3"
        },
        {
         "line": {
          "color": "red"
         },
         "marker": {
          "size": 8
         },
         "mode": "lines+markers",
         "name": "Sosial",
         "showlegend": false,
         "type": "scatter",
         "x": [
          53,
          54,
          55,
          56,
          57,
          58,
          59,
          60,
          61,
          62
         ],
         "xaxis": "x3",
         "y": [
          749.1451273959044,
          691.6290885848732,
          699.1832121307365,
          730.3756020741256,
          697.996857852013,
          719.234827181206,
          777.5083978258613,
          841.018722934591,
          850.898092327725,
          805.8010991988102
         ],
         "yaxis": "y3"
        },
        {
         "line": {
          "color": "blue"
         },
         "marker": {
          "size": 8
         },
         "mode": "lines+markers",
         "name": "Industri",
         "showlegend": false,
         "type": "scatter",
         "x": [
          53,
          54,
          55,
          56,
          57,
          58,
          59,
          60,
          61,
          62
         ],
         "xaxis": "x4",
         "y": [
          4150.354209543264,
          4511.642021607966,
          4075.552627926396,
          4472.90510771857,
          4104.235118520538,
          4009.1427906840736,
          4367.684433369444,
          4074.4932489107064,
          4358.842472793821,
          4542.873319525498
         ],
         "yaxis": "y4"
        },
        {
         "line": {
          "color": "orange"
         },
         "marker": {
          "size": 8
         },
         "mode": "lines+markers",
         "name": "Lain-lain",
         "showlegend": false,
         "type": "scatter",
         "x": [
          53,
          54,
          55,
          56,
          57,
          58,
          59,
          60,
          61,
          62
         ],
         "xaxis": "x4",
         "y": [
          937.8221800491789,
          916.81933543232,
          999.8354319867002,
          953.8449889902954,
          903.3080498411912,
          968.6365655882202,
          1062.9506452408525,
          965.4002117465993,
          968.3124639921944,
          972.4713384393367
         ],
         "yaxis": "y4"
        },
        {
         "line": {
          "color": "green"
         },
         "marker": {
          "size": 8
         },
         "mode": "lines+markers",
         "name": "Rumah Tangga",
         "showlegend": false,
         "type": "scatter",
         "x": [
          53,
          54,
          55,
          56,
          57,
          58,
          59,
          60,
          61,
          62
         ],
         "xaxis": "x4",
         "y": [
          507.71825227078756,
          464.9668097413773,
          500.6294119390408,
          455.7881707452026,
          453.6583248379435,
          467.3890232611419,
          487.41768288237245,
          476.7618907272981,
          518.841324253861,
          534.6990186114782
         ],
         "yaxis": "y4"
        },
        {
         "line": {
          "color": "red"
         },
         "marker": {
          "size": 8
         },
         "mode": "lines+markers",
         "name": "Sosial",
         "showlegend": false,
         "type": "scatter",
         "x": [
          53,
          54,
          55,
          56,
          57,
          58,
          59,
          60,
          61,
          62
         ],
         "xaxis": "x4",
         "y": [
          682.8620607106209,
          661.1086998586749,
          623.3128421369373,
          563.7858668894114,
          607.5779187201392,
          651.2583867192718,
          621.6995837840743,
          596.1959759142684,
          578.5926313232039,
          570.262811020587
         ],
         "yaxis": "y4"
        }
       ],
       "layout": {
        "annotations": [
         {
          "font": {
           "size": 16
          },
          "showarrow": false,
          "text": "Banda Sakti",
          "x": 0.225,
          "xanchor": "center",
          "xref": "paper",
          "y": 1,
          "yanchor": "bottom",
          "yref": "paper"
         },
         {
          "font": {
           "size": 16
          },
          "showarrow": false,
          "text": "Blang Mangat",
          "x": 0.775,
          "xanchor": "center",
          "xref": "paper",
          "y": 1,
          "yanchor": "bottom",
          "yref": "paper"
         },
         {
          "font": {
           "size": 16
          },
          "showarrow": false,
          "text": "Muara Dua",
          "x": 0.225,
          "xanchor": "center",
          "xref": "paper",
          "y": 0.375,
          "yanchor": "bottom",
          "yref": "paper"
         },
         {
          "font": {
           "size": 16
          },
          "showarrow": false,
          "text": "Muara Satu",
          "x": 0.775,
          "xanchor": "center",
          "xref": "paper",
          "y": 0.375,
          "yanchor": "bottom",
          "yref": "paper"
         }
        ],
        "height": 800,
        "legend": {
         "title": {
          "text": "Kategori"
         }
        },
        "template": {
         "data": {
          "bar": [
           {
            "error_x": {
             "color": "#2a3f5f"
            },
            "error_y": {
             "color": "#2a3f5f"
            },
            "marker": {
             "line": {
              "color": "white",
              "width": 0.5
             },
             "pattern": {
              "fillmode": "overlay",
              "size": 10,
              "solidity": 0.2
             }
            },
            "type": "bar"
           }
          ],
          "barpolar": [
           {
            "marker": {
             "line": {
              "color": "white",
              "width": 0.5
             },
             "pattern": {
              "fillmode": "overlay",
              "size": 10,
              "solidity": 0.2
             }
            },
            "type": "barpolar"
           }
          ],
          "carpet": [
           {
            "aaxis": {
             "endlinecolor": "#2a3f5f",
             "gridcolor": "#C8D4E3",
             "linecolor": "#C8D4E3",
             "minorgridcolor": "#C8D4E3",
             "startlinecolor": "#2a3f5f"
            },
            "baxis": {
             "endlinecolor": "#2a3f5f",
             "gridcolor": "#C8D4E3",
             "linecolor": "#C8D4E3",
             "minorgridcolor": "#C8D4E3",
             "startlinecolor": "#2a3f5f"
            },
            "type": "carpet"
           }
          ],
          "choropleth": [
           {
            "colorbar": {
             "outlinewidth": 0,
             "ticks": ""
            },
            "type": "choropleth"
           }
          ],
          "contour": [
           {
            "colorbar": {
             "outlinewidth": 0,
             "ticks": ""
            },
            "colorscale": [
             [
              0,
              "#0d0887"
             ],
             [
              0.1111111111111111,
              "#46039f"
             ],
             [
              0.2222222222222222,
              "#7201a8"
             ],
             [
              0.3333333333333333,
              "#9c179e"
             ],
             [
              0.4444444444444444,
              "#bd3786"
             ],
             [
              0.5555555555555556,
              "#d8576b"
             ],
             [
              0.6666666666666666,
              "#ed7953"
             ],
             [
              0.7777777777777778,
              "#fb9f3a"
             ],
             [
              0.8888888888888888,
              "#fdca26"
             ],
             [
              1,
              "#f0f921"
             ]
            ],
            "type": "contour"
           }
          ],
          "contourcarpet": [
           {
            "colorbar": {
             "outlinewidth": 0,
             "ticks": ""
            },
            "type": "contourcarpet"
           }
          ],
          "heatmap": [
           {
            "colorbar": {
             "outlinewidth": 0,
             "ticks": ""
            },
            "colorscale": [
             [
              0,
              "#0d0887"
             ],
             [
              0.1111111111111111,
              "#46039f"
             ],
             [
              0.2222222222222222,
              "#7201a8"
             ],
             [
              0.3333333333333333,
              "#9c179e"
             ],
             [
              0.4444444444444444,
              "#bd3786"
             ],
             [
              0.5555555555555556,
              "#d8576b"
             ],
             [
              0.6666666666666666,
              "#ed7953"
             ],
             [
              0.7777777777777778,
              "#fb9f3a"
             ],
             [
              0.8888888888888888,
              "#fdca26"
             ],
             [
              1,
              "#f0f921"
             ]
            ],
            "type": "heatmap"
           }
          ],
          "heatmapgl": [
           {
            "colorbar": {
             "outlinewidth": 0,
             "ticks": ""
            },
            "colorscale": [
             [
              0,
              "#0d0887"
             ],
             [
              0.1111111111111111,
              "#46039f"
             ],
             [
              0.2222222222222222,
              "#7201a8"
             ],
             [
              0.3333333333333333,
              "#9c179e"
             ],
             [
              0.4444444444444444,
              "#bd3786"
             ],
             [
              0.5555555555555556,
              "#d8576b"
             ],
             [
              0.6666666666666666,
              "#ed7953"
             ],
             [
              0.7777777777777778,
              "#fb9f3a"
             ],
             [
              0.8888888888888888,
              "#fdca26"
             ],
             [
              1,
              "#f0f921"
             ]
            ],
            "type": "heatmapgl"
           }
          ],
          "histogram": [
           {
            "marker": {
             "pattern": {
              "fillmode": "overlay",
              "size": 10,
              "solidity": 0.2
             }
            },
            "type": "histogram"
           }
          ],
          "histogram2d": [
           {
            "colorbar": {
             "outlinewidth": 0,
             "ticks": ""
            },
            "colorscale": [
             [
              0,
              "#0d0887"
             ],
             [
              0.1111111111111111,
              "#46039f"
             ],
             [
              0.2222222222222222,
              "#7201a8"
             ],
             [
              0.3333333333333333,
              "#9c179e"
             ],
             [
              0.4444444444444444,
              "#bd3786"
             ],
             [
              0.5555555555555556,
              "#d8576b"
             ],
             [
              0.6666666666666666,
              "#ed7953"
             ],
             [
              0.7777777777777778,
              "#fb9f3a"
             ],
             [
              0.8888888888888888,
              "#fdca26"
             ],
             [
              1,
              "#f0f921"
             ]
            ],
            "type": "histogram2d"
           }
          ],
          "histogram2dcontour": [
           {
            "colorbar": {
             "outlinewidth": 0,
             "ticks": ""
            },
            "colorscale": [
             [
              0,
              "#0d0887"
             ],
             [
              0.1111111111111111,
              "#46039f"
             ],
             [
              0.2222222222222222,
              "#7201a8"
             ],
             [
              0.3333333333333333,
              "#9c179e"
             ],
             [
              0.4444444444444444,
              "#bd3786"
             ],
             [
              0.5555555555555556,
              "#d8576b"
             ],
             [
              0.6666666666666666,
              "#ed7953"
             ],
             [
              0.7777777777777778,
              "#fb9f3a"
             ],
             [
              0.8888888888888888,
              "#fdca26"
             ],
             [
              1,
              "#f0f921"
             ]
            ],
            "type": "histogram2dcontour"
           }
          ],
          "mesh3d": [
           {
            "colorbar": {
             "outlinewidth": 0,
             "ticks": ""
            },
            "type": "mesh3d"
           }
          ],
          "parcoords": [
           {
            "line": {
             "colorbar": {
              "outlinewidth": 0,
              "ticks": ""
             }
            },
            "type": "parcoords"
           }
          ],
          "pie": [
           {
            "automargin": true,
            "type": "pie"
           }
          ],
          "scatter": [
           {
            "fillpattern": {
             "fillmode": "overlay",
             "size": 10,
             "solidity": 0.2
            },
            "type": "scatter"
           }
          ],
          "scatter3d": [
           {
            "line": {
             "colorbar": {
              "outlinewidth": 0,
              "ticks": ""
             }
            },
            "marker": {
             "colorbar": {
              "outlinewidth": 0,
              "ticks": ""
             }
            },
            "type": "scatter3d"
           }
          ],
          "scattercarpet": [
           {
            "marker": {
             "colorbar": {
              "outlinewidth": 0,
              "ticks": ""
             }
            },
            "type": "scattercarpet"
           }
          ],
          "scattergeo": [
           {
            "marker": {
             "colorbar": {
              "outlinewidth": 0,
              "ticks": ""
             }
            },
            "type": "scattergeo"
           }
          ],
          "scattergl": [
           {
            "marker": {
             "colorbar": {
              "outlinewidth": 0,
              "ticks": ""
             }
            },
            "type": "scattergl"
           }
          ],
          "scattermapbox": [
           {
            "marker": {
             "colorbar": {
              "outlinewidth": 0,
              "ticks": ""
             }
            },
            "type": "scattermapbox"
           }
          ],
          "scatterpolar": [
           {
            "marker": {
             "colorbar": {
              "outlinewidth": 0,
              "ticks": ""
             }
            },
            "type": "scatterpolar"
           }
          ],
          "scatterpolargl": [
           {
            "marker": {
             "colorbar": {
              "outlinewidth": 0,
              "ticks": ""
             }
            },
            "type": "scatterpolargl"
           }
          ],
          "scatterternary": [
           {
            "marker": {
             "colorbar": {
              "outlinewidth": 0,
              "ticks": ""
             }
            },
            "type": "scatterternary"
           }
          ],
          "surface": [
           {
            "colorbar": {
             "outlinewidth": 0,
             "ticks": ""
            },
            "colorscale": [
             [
              0,
              "#0d0887"
             ],
             [
              0.1111111111111111,
              "#46039f"
             ],
             [
              0.2222222222222222,
              "#7201a8"
             ],
             [
              0.3333333333333333,
              "#9c179e"
             ],
             [
              0.4444444444444444,
              "#bd3786"
             ],
             [
              0.5555555555555556,
              "#d8576b"
             ],
             [
              0.6666666666666666,
              "#ed7953"
             ],
             [
              0.7777777777777778,
              "#fb9f3a"
             ],
             [
              0.8888888888888888,
              "#fdca26"
             ],
             [
              1,
              "#f0f921"
             ]
            ],
            "type": "surface"
           }
          ],
          "table": [
           {
            "cells": {
             "fill": {
              "color": "#EBF0F8"
             },
             "line": {
              "color": "white"
             }
            },
            "header": {
             "fill": {
              "color": "#C8D4E3"
             },
             "line": {
              "color": "white"
             }
            },
            "type": "table"
           }
          ]
         },
         "layout": {
          "annotationdefaults": {
           "arrowcolor": "#2a3f5f",
           "arrowhead": 0,
           "arrowwidth": 1
          },
          "autotypenumbers": "strict",
          "coloraxis": {
           "colorbar": {
            "outlinewidth": 0,
            "ticks": ""
           }
          },
          "colorscale": {
           "diverging": [
            [
             0,
             "#8e0152"
            ],
            [
             0.1,
             "#c51b7d"
            ],
            [
             0.2,
             "#de77ae"
            ],
            [
             0.3,
             "#f1b6da"
            ],
            [
             0.4,
             "#fde0ef"
            ],
            [
             0.5,
             "#f7f7f7"
            ],
            [
             0.6,
             "#e6f5d0"
            ],
            [
             0.7,
             "#b8e186"
            ],
            [
             0.8,
             "#7fbc41"
            ],
            [
             0.9,
             "#4d9221"
            ],
            [
             1,
             "#276419"
            ]
           ],
           "sequential": [
            [
             0,
             "#0d0887"
            ],
            [
             0.1111111111111111,
             "#46039f"
            ],
            [
             0.2222222222222222,
             "#7201a8"
            ],
            [
             0.3333333333333333,
             "#9c179e"
            ],
            [
             0.4444444444444444,
             "#bd3786"
            ],
            [
             0.5555555555555556,
             "#d8576b"
            ],
            [
             0.6666666666666666,
             "#ed7953"
            ],
            [
             0.7777777777777778,
             "#fb9f3a"
            ],
            [
             0.8888888888888888,
             "#fdca26"
            ],
            [
             1,
             "#f0f921"
            ]
           ],
           "sequentialminus": [
            [
             0,
             "#0d0887"
            ],
            [
             0.1111111111111111,
             "#46039f"
            ],
            [
             0.2222222222222222,
             "#7201a8"
            ],
            [
             0.3333333333333333,
             "#9c179e"
            ],
            [
             0.4444444444444444,
             "#bd3786"
            ],
            [
             0.5555555555555556,
             "#d8576b"
            ],
            [
             0.6666666666666666,
             "#ed7953"
            ],
            [
             0.7777777777777778,
             "#fb9f3a"
            ],
            [
             0.8888888888888888,
             "#fdca26"
            ],
            [
             1,
             "#f0f921"
            ]
           ]
          },
          "colorway": [
           "#636efa",
           "#EF553B",
           "#00cc96",
           "#ab63fa",
           "#FFA15A",
           "#19d3f3",
           "#FF6692",
           "#B6E880",
           "#FF97FF",
           "#FECB52"
          ],
          "font": {
           "color": "#2a3f5f"
          },
          "geo": {
           "bgcolor": "white",
           "lakecolor": "white",
           "landcolor": "white",
           "showlakes": true,
           "showland": true,
           "subunitcolor": "#C8D4E3"
          },
          "hoverlabel": {
           "align": "left"
          },
          "hovermode": "closest",
          "mapbox": {
           "style": "light"
          },
          "paper_bgcolor": "white",
          "plot_bgcolor": "white",
          "polar": {
           "angularaxis": {
            "gridcolor": "#EBF0F8",
            "linecolor": "#EBF0F8",
            "ticks": ""
           },
           "bgcolor": "white",
           "radialaxis": {
            "gridcolor": "#EBF0F8",
            "linecolor": "#EBF0F8",
            "ticks": ""
           }
          },
          "scene": {
           "xaxis": {
            "backgroundcolor": "white",
            "gridcolor": "#DFE8F3",
            "gridwidth": 2,
            "linecolor": "#EBF0F8",
            "showbackground": true,
            "ticks": "",
            "zerolinecolor": "#EBF0F8"
           },
           "yaxis": {
            "backgroundcolor": "white",
            "gridcolor": "#DFE8F3",
            "gridwidth": 2,
            "linecolor": "#EBF0F8",
            "showbackground": true,
            "ticks": "",
            "zerolinecolor": "#EBF0F8"
           },
           "zaxis": {
            "backgroundcolor": "white",
            "gridcolor": "#DFE8F3",
            "gridwidth": 2,
            "linecolor": "#EBF0F8",
            "showbackground": true,
            "ticks": "",
            "zerolinecolor": "#EBF0F8"
           }
          },
          "shapedefaults": {
           "line": {
            "color": "#2a3f5f"
           }
          },
          "ternary": {
           "aaxis": {
            "gridcolor": "#DFE8F3",
            "linecolor": "#A2B1C6",
            "ticks": ""
           },
           "baxis": {
            "gridcolor": "#DFE8F3",
            "linecolor": "#A2B1C6",
            "ticks": ""
           },
           "bgcolor": "white",
           "caxis": {
            "gridcolor": "#DFE8F3",
            "linecolor": "#A2B1C6",
            "ticks": ""
           }
          },
          "title": {
           "x": 0.05
          },
          "xaxis": {
           "automargin": true,
           "gridcolor": "#EBF0F8",
           "linecolor": "#EBF0F8",
           "ticks": "",
           "title": {
            "standoff": 15
           },
           "zerolinecolor": "#EBF0F8",
           "zerolinewidth": 2
          },
          "yaxis": {
           "automargin": true,
           "gridcolor": "#EBF0F8",
           "linecolor": "#EBF0F8",
           "ticks": "",
           "title": {
            "standoff": 15
           },
           "zerolinecolor": "#EBF0F8",
           "zerolinewidth": 2
          }
         }
        },
        "title": {
         "text": "Hasil Prediksi Pemakaian Listrik (Minggu 53-62) per Wilayah"
        },
        "xaxis": {
         "anchor": "y",
         "domain": [
          0,
          0.45
         ],
         "gridcolor": "LightGrey",
         "showgrid": true,
         "title": {
          "text": "Minggu"
         }
        },
        "xaxis2": {
         "anchor": "y2",
         "domain": [
          0.55,
          1
         ],
         "gridcolor": "LightGrey",
         "showgrid": true
        },
        "xaxis3": {
         "anchor": "y3",
         "domain": [
          0,
          0.45
         ],
         "gridcolor": "LightGrey",
         "showgrid": true
        },
        "xaxis4": {
         "anchor": "y4",
         "domain": [
          0.55,
          1
         ],
         "gridcolor": "LightGrey",
         "showgrid": true
        },
        "yaxis": {
         "anchor": "x",
         "domain": [
          0.625,
          1
         ],
         "gridcolor": "LightGrey",
         "showgrid": true,
         "title": {
          "text": "Pemakaian"
         }
        },
        "yaxis2": {
         "anchor": "x2",
         "domain": [
          0.625,
          1
         ],
         "gridcolor": "LightGrey",
         "showgrid": true
        },
        "yaxis3": {
         "anchor": "x3",
         "domain": [
          0,
          0.375
         ],
         "gridcolor": "LightGrey",
         "showgrid": true
        },
        "yaxis4": {
         "anchor": "x4",
         "domain": [
          0,
          0.375
         ],
         "gridcolor": "LightGrey",
         "showgrid": true
        }
       }
      }
     },
     "metadata": {},
     "output_type": "display_data"
    }
   ],
   "source": [
    "from plotly.subplots import make_subplots\n",
    "import plotly.graph_objects as go\n",
    "\n",
    "# Membuat subplot untuk setiap wilayah dengan format 2x2\n",
    "cols = 2\n",
    "rows = (len(wilayah_list) + cols - 1) // cols  # Menghitung jumlah baris yang diperlukan\n",
    "\n",
    "fig = make_subplots(\n",
    "    rows=rows, \n",
    "    cols=cols,\n",
    "    subplot_titles=wilayah_list\n",
    ")\n",
    "\n",
    "# Warna yang akan digunakan untuk setiap kategori\n",
    "colors = {\n",
    "    'Industri': 'blue',\n",
    "    'Lain-lain': 'orange',\n",
    "    'Rumah Tangga': 'green',\n",
    "    'Sosial': 'red'\n",
    "}\n",
    "\n",
    "# Menambahkan data prediksi ke subplot\n",
    "for idx, wilayah in enumerate(wilayah_list):\n",
    "    prediksi_region = prediksi_final[prediksi_final['Region'] == wilayah]\n",
    "    \n",
    "    # Menentukan posisi subplot\n",
    "    row = idx // cols + 1\n",
    "    col = idx % cols + 1\n",
    "    \n",
    "    for kategori in available_categories:\n",
    "        if kategori in prediksi_region.columns:\n",
    "            # Menentukan apakah jejak ini adalah yang pertama untuk kategori ini\n",
    "            show_legend = True if (idx == 0) else False  # Hanya menampilkan legend untuk kategori pertama\n",
    "            \n",
    "            # Menambahkan jejak hanya jika kategori memiliki nilai\n",
    "            fig.add_trace(go.Scatter(\n",
    "                x=prediksi_region['Minggu'],\n",
    "                y=prediksi_region[kategori],\n",
    "                mode='lines+markers',\n",
    "                name=kategori,  # Menyederhanakan nama kategori\n",
    "                line=dict(color=colors[kategori]),  # Menggunakan warna sesuai kategori\n",
    "                marker=dict(size=8),\n",
    "                showlegend=show_legend  # Menentukan apakah legend ditampilkan\n",
    "            ), row=row, col=col)\n",
    "\n",
    "# Menyusun layout grafik\n",
    "fig.update_layout(\n",
    "    title='Hasil Prediksi Pemakaian Listrik (Minggu 53-62) per Wilayah',\n",
    "    xaxis_title='Minggu',\n",
    "    yaxis_title='Pemakaian',\n",
    "    legend_title='Kategori',\n",
    "    template='plotly_white',\n",
    "    height=400 * rows  # Menyesuaikan tinggi berdasarkan jumlah wilayah\n",
    ")\n",
    "\n",
    "# Menampilkan garis grid\n",
    "fig.update_xaxes(showgrid=True, gridcolor='LightGrey')\n",
    "fig.update_yaxes(showgrid=True, gridcolor='LightGrey')\n",
    "\n",
    "# Menampilkan grafik\n",
    "fig.show()\n"
   ]
  },
  {
   "cell_type": "code",
   "execution_count": null,
   "metadata": {},
   "outputs": [],
   "source": [
    "import matplotlib.pyplot as plt\n",
    "\n",
    "# Membuat subplot untuk setiap wilayah, dengan kategori sebagai subplots\n",
    "for wilayah in wilayah_list:\n",
    "    # Dapatkan daftar kategori yang tersedia untuk wilayah ini\n",
    "    kategori_wilayah = [kategori for kategori in kategori_list if (wilayah, kategori) in df_results]\n",
    "    num_kategori = len(kategori_wilayah)\n",
    "    \n",
    "    if num_kategori == 0:\n",
    "        print(f\"Tidak ada kategori untuk wilayah {wilayah}.\")  # Jika tidak ada kategori, cetak pesan\n",
    "        continue  # Jika tidak ada kategori untuk wilayah ini, lewati\n",
    "    \n",
    "    # Tentukan jumlah baris dan kolom untuk subplots\n",
    "    cols = 2  # Misalnya, kita gunakan 2 kolom\n",
    "    rows = (num_kategori + cols - 1) // cols  # Menghitung jumlah baris yang diperlukan\n",
    "    \n",
    "    # Membuat figure dan subplots\n",
    "    fig, axes = plt.subplots(rows, cols, figsize=(15, 5 * rows))\n",
    "    axes = axes.flatten()  # Meratakan array axes untuk mempermudah akses\n",
    "    \n",
    "    # Loop melalui kategori untuk wilayah ini\n",
    "    for idx, kategori in enumerate(kategori_wilayah):\n",
    "        key = (wilayah, kategori)\n",
    "        df_region = df_results[key]\n",
    "        \n",
    "        # Menambahkan Pemakaian Asli\n",
    "        axes[idx].plot(df_region['Minggu'], df_region['Pemakaian'], marker='o', color='blue', label='Pemakaian Asli')\n",
    "        \n",
    "        # Menambahkan model-model\n",
    "        colors = {'MA (3-Mingguan)': 'orange', 'AR(1)': 'green', 'AR+MA': 'red', 'VARMA': 'purple'}\n",
    "        for model in models:\n",
    "            if model in df_region.columns:  # Memeriksa apakah model ada dalam DataFrame\n",
    "                axes[idx].plot(df_region['Minggu'], df_region[model], marker='o', label=model, color=colors[model])\n",
    "        \n",
    "        # Menambahkan judul dan label sumbu pada subplot\n",
    "        axes[idx].set_title(f'Perbandingan {kategori} di {wilayah}')\n",
    "        axes[idx].set_xlabel('Minggu')\n",
    "        axes[idx].set_ylabel('Pemakaian Listrik')\n",
    "        axes[idx].legend()\n",
    "    \n",
    "    # Menghapus subplot kosong jika ada\n",
    "    for j in range(num_kategori, len(axes)):\n",
    "        fig.delaxes(axes[j])\n",
    "    \n",
    "    # Menyesuaikan layout keseluruhan\n",
    "    plt.tight_layout()\n",
    "    plt.suptitle(f'Perbandingan Model untuk Wilayah {wilayah}', fontsize=16)\n",
    "    plt.subplots_adjust(top=0.9)  # Menyesuaikan jarak judul utama\n",
    "    plt.show()\n"
   ]
  },
  {
   "cell_type": "code",
   "execution_count": null,
   "metadata": {},
   "outputs": [],
   "source": [
    "# Menggabungkan semua hasil ke dalam satu DataFrame\n",
    "combined_results = pd.DataFrame()\n",
    "\n",
    "for wilayah in df_results:\n",
    "    df_region = df_results[wilayah].copy()\n",
    "    df_region['Wilayah'] = wilayah\n",
    "    df_region.reset_index(drop=True, inplace=True)\n",
    "    \n",
    "    # Mendapatkan daftar kolom\n",
    "    columns = df_region.columns.tolist()\n",
    "    columns.remove('Minggu')\n",
    "    columns.remove('Wilayah')\n",
    "    \n",
    "    # Mengekstrak kategori dari nama kolom\n",
    "    categories = set()\n",
    "    for col in columns:\n",
    "        base = col.split(' - ')[0]\n",
    "        categories.add(base)\n",
    "    \n",
    "    # Loop melalui setiap kategori\n",
    "    for kategori in categories:\n",
    "        # Memilih kolom untuk kategori ini\n",
    "        cols_to_select = ['Minggu', 'Wilayah']\n",
    "        kategori_cols = [col for col in df_region.columns if col.startswith(kategori)]\n",
    "        cols_to_select.extend(kategori_cols)\n",
    "        \n",
    "        df_kategori = df_region[cols_to_select].copy()\n",
    "        df_kategori['Kategori'] = kategori\n",
    "        \n",
    "        # Mengganti nama kolom\n",
    "        rename_dict = {f'{kategori}': 'Pemakaian Asli'}\n",
    "        for model in models:\n",
    "            old_col = f'{kategori} - {model}'\n",
    "            if old_col in df_kategori.columns:\n",
    "                rename_dict[old_col] = model\n",
    "        df_kategori.rename(columns=rename_dict, inplace=True)\n",
    "        \n",
    "        # Mengubah DataFrame menjadi format long\n",
    "        df_melted = df_kategori.melt(id_vars=['Minggu', 'Wilayah', 'Kategori'], value_vars=['Pemakaian Asli'] + models,\n",
    "                                     var_name='Model', value_name='Nilai')\n",
    "        \n",
    "        # Menambahkan hasil ke combined_results\n",
    "        combined_results = pd.concat([combined_results, df_melted], ignore_index=True)\n",
    "\n",
    "# Menampilkan DataFrame gabungan\n",
    "display(combined_results)\n"
   ]
  },
  {
   "cell_type": "code",
   "execution_count": null,
   "metadata": {},
   "outputs": [],
   "source": [
    "# Menggabungkan metrik kesalahan ke dalam DataFrame\n",
    "error_metrics_list = []\n",
    "\n",
    "for key, metrics in error_metrics.items():\n",
    "    wilayah, kategori = key\n",
    "    for model, values in metrics.items():\n",
    "        temp_dict = {'Wilayah': wilayah, 'Kategori': kategori, 'Model': model}\n",
    "        temp_dict.update(values)\n",
    "        error_metrics_list.append(temp_dict)\n",
    "\n",
    "error_metrics_df = pd.DataFrame(error_metrics_list)\n",
    "\n",
    "# Menampilkan metrik kesalahan\n",
    "display(error_metrics_df)\n"
   ]
  }
 ],
 "metadata": {
  "kernelspec": {
   "display_name": "base",
   "language": "python",
   "name": "python3"
  },
  "language_info": {
   "codemirror_mode": {
    "name": "ipython",
    "version": 3
   },
   "file_extension": ".py",
   "mimetype": "text/x-python",
   "name": "python",
   "nbconvert_exporter": "python",
   "pygments_lexer": "ipython3",
   "version": "3.11.7"
  }
 },
 "nbformat": 4,
 "nbformat_minor": 2
}
