import numpy as np
import pandas as pd
import matplotlib.pyplot as plt

# Generate dummy data
np.random.seed(0)
n_obs = 100
weekly_electricity_data = pd.DataFrame({
    'Family_1_Electricity': np.random.normal(1000, 200, n_obs),
    'Family_2_Electricity': np.random.normal(900, 150, n_obs),
    'Family_3_Electricity': np.random.normal(1100, 250, n_obs),
    'Family_4_Electricity': np.random.normal(950, 180, n_obs),
    'Family_5_Electricity': np.random.normal(1050, 220, n_obs),
    'Temperature': np.random.normal(25, 5, n_obs),
    'Unemployment_Rate': np.random.normal(5, 2, n_obs)
})

# Split data into train and test sets
train_size = int(0.8 * len(weekly_electricity_data))
train_data = weekly_electricity_data[:train_size]
test_data = weekly_electricity_data[train_size:]

# VARMA model fitting

# Parameters
p = 1  # Order of autoregressive
q = 1  # Order of moving average
k_exog = 2  # Number of exogenous variables

# Initialize coefficients randomly
np.random.seed(1)
phi = np.random.randn(len(train_data.columns), p)  # Autoregressive coefficients
theta = np.random.randn(len(train_data.columns), q)  # Moving average coefficients
beta = np.random.randn(k_exog, len(train_data.columns))  # Coefficients for exogenous variables

# Preallocate arrays to store forecasts
forecast = np.zeros((len(test_data), len(train_data.columns)))

# Loop over each time step in the test set
for t in range(len(test_data)):
    # Construct lagged values matrix for endogenous variables
    endog_lagged = np.zeros((p, len(train_data.columns)))
    for lag in range(p):
        endog_lagged[lag, :] = train_data.iloc[-(lag + 1)].values
    
    # Construct lagged values matrix for exogenous variables
    exog_lagged = np.zeros((p, k_exog))
    for lag in range(p):
        exog_lagged[lag, :] = train_data[['Temperature', 'Unemployment_Rate']].iloc[-(lag + 1)].values
    
    # Forecast using VARMA formula
    forecast[t] = np.dot(phi.T, endog_lagged[-1, :]) + np.dot(theta.T, forecast[t-1:t-q-1:-1].T).sum(axis=1) + np.dot(beta.T, exog_lagged[-1, :])
    
    # Update train_data with the observed test_data point
    new_row = pd.DataFrame(test_data.iloc[t]).transpose()
    train_data = pd.concat([train_data, new_row], ignore_index=True)

# Plot forecast vs actual
fig, axes = plt.subplots(nrows=5, ncols=1, figsize=(12, 15))

for i, family in enumerate(['Family_1', 'Family_2', 'Family_3', 'Family_4', 'Family_5']):
    axes[i].plot(test_data.index, test_data[f'{family}_Electricity'], label='Actual', color='blue')
    axes[i].plot(test_data.index, forecast[:, i], label='Forecast', color='red')
    axes[i].set_title(f'{family} Electricity Consumption Forecast')
    axes[i].set_xlabel('Time')
    axes[i].set_ylabel('Electricity Consumption')
    axes[i].legend()

plt.tight_layout()
plt.show()







