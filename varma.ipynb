{
 "cells": [
  {
   "cell_type": "code",
   "execution_count": 140,
   "metadata": {},
   "outputs": [
    {
     "data": {
      "text/html": [
       "<div>\n",
       "<style scoped>\n",
       "    .dataframe tbody tr th:only-of-type {\n",
       "        vertical-align: middle;\n",
       "    }\n",
       "\n",
       "    .dataframe tbody tr th {\n",
       "        vertical-align: top;\n",
       "    }\n",
       "\n",
       "    .dataframe thead th {\n",
       "        text-align: right;\n",
       "    }\n",
       "</style>\n",
       "<table border=\"1\" class=\"dataframe\">\n",
       "  <thead>\n",
       "    <tr style=\"text-align: right;\">\n",
       "      <th></th>\n",
       "      <th>Minggu</th>\n",
       "      <th>Banda Sakti</th>\n",
       "      <th>Blang Mangat</th>\n",
       "      <th>Muara Satu</th>\n",
       "      <th>Muara Dua</th>\n",
       "      <th>Suhu (X1)</th>\n",
       "      <th>Harga Listrik per Watt (X2)</th>\n",
       "    </tr>\n",
       "  </thead>\n",
       "  <tbody>\n",
       "    <tr>\n",
       "      <th>0</th>\n",
       "      <td>Week 1</td>\n",
       "      <td>150</td>\n",
       "      <td>200</td>\n",
       "      <td>130</td>\n",
       "      <td>180</td>\n",
       "      <td>20</td>\n",
       "      <td>5.5</td>\n",
       "    </tr>\n",
       "    <tr>\n",
       "      <th>1</th>\n",
       "      <td>Week 2</td>\n",
       "      <td>160</td>\n",
       "      <td>210</td>\n",
       "      <td>135</td>\n",
       "      <td>185</td>\n",
       "      <td>21</td>\n",
       "      <td>5.4</td>\n",
       "    </tr>\n",
       "    <tr>\n",
       "      <th>2</th>\n",
       "      <td>Week 3</td>\n",
       "      <td>155</td>\n",
       "      <td>205</td>\n",
       "      <td>140</td>\n",
       "      <td>190</td>\n",
       "      <td>19</td>\n",
       "      <td>5.6</td>\n",
       "    </tr>\n",
       "    <tr>\n",
       "      <th>3</th>\n",
       "      <td>Week 4</td>\n",
       "      <td>165</td>\n",
       "      <td>220</td>\n",
       "      <td>145</td>\n",
       "      <td>195</td>\n",
       "      <td>22</td>\n",
       "      <td>5.5</td>\n",
       "    </tr>\n",
       "    <tr>\n",
       "      <th>4</th>\n",
       "      <td>Week 5</td>\n",
       "      <td>170</td>\n",
       "      <td>225</td>\n",
       "      <td>150</td>\n",
       "      <td>200</td>\n",
       "      <td>20</td>\n",
       "      <td>5.7</td>\n",
       "    </tr>\n",
       "    <tr>\n",
       "      <th>5</th>\n",
       "      <td>Week 6</td>\n",
       "      <td>175</td>\n",
       "      <td>230</td>\n",
       "      <td>155</td>\n",
       "      <td>205</td>\n",
       "      <td>23</td>\n",
       "      <td>5.8</td>\n",
       "    </tr>\n",
       "    <tr>\n",
       "      <th>6</th>\n",
       "      <td>Week 7</td>\n",
       "      <td>180</td>\n",
       "      <td>235</td>\n",
       "      <td>160</td>\n",
       "      <td>210</td>\n",
       "      <td>24</td>\n",
       "      <td>5.9</td>\n",
       "    </tr>\n",
       "    <tr>\n",
       "      <th>7</th>\n",
       "      <td>Week 8</td>\n",
       "      <td>185</td>\n",
       "      <td>240</td>\n",
       "      <td>165</td>\n",
       "      <td>215</td>\n",
       "      <td>22</td>\n",
       "      <td>5.6</td>\n",
       "    </tr>\n",
       "  </tbody>\n",
       "</table>\n",
       "</div>"
      ],
      "text/plain": [
       "   Minggu  Banda Sakti  Blang Mangat  Muara Satu  Muara Dua  Suhu (X1)  \\\n",
       "0  Week 1          150           200         130        180         20   \n",
       "1  Week 2          160           210         135        185         21   \n",
       "2  Week 3          155           205         140        190         19   \n",
       "3  Week 4          165           220         145        195         22   \n",
       "4  Week 5          170           225         150        200         20   \n",
       "5  Week 6          175           230         155        205         23   \n",
       "6  Week 7          180           235         160        210         24   \n",
       "7  Week 8          185           240         165        215         22   \n",
       "\n",
       "   Harga Listrik per Watt (X2)  \n",
       "0                          5.5  \n",
       "1                          5.4  \n",
       "2                          5.6  \n",
       "3                          5.5  \n",
       "4                          5.7  \n",
       "5                          5.8  \n",
       "6                          5.9  \n",
       "7                          5.6  "
      ]
     },
     "metadata": {},
     "output_type": "display_data"
    }
   ],
   "source": [
    "import pandas as pd\n",
    "import numpy as np\n",
    "import plotly.graph_objects as go\n",
    "from plotly.subplots import make_subplots\n",
    "from sklearn.metrics import mean_absolute_error, mean_squared_error\n",
    "from IPython.display import display\n",
    "\n",
    "# Data Pemakaian Listrik Mingguan dan Faktor Eksogen\n",
    "data = {\n",
    "    'Minggu': ['Week 1', 'Week 2', 'Week 3', 'Week 4',\n",
    "               'Week 5', 'Week 6', 'Week 7', 'Week 8'],\n",
    "    'Banda Sakti': [150, 160, 155, 165, 170, 175, 180, 185],\n",
    "    'Blang Mangat': [200, 210, 205, 220, 225, 230, 235, 240],\n",
    "    'Muara Satu': [130, 135, 140, 145, 150, 155, 160, 165],\n",
    "    'Muara Dua': [180, 185, 190, 195, 200, 205, 210, 215],\n",
    "    'Suhu (X1)': [20, 21, 19, 22, 20, 23, 24, 22],  # Faktor Eksogen 1\n",
    "    'Harga Listrik per Watt (X2)': [5.5, 5.4, 5.6, 5.5,\n",
    "                                    5.7, 5.8, 5.9, 5.6]  # Faktor Eksogen 2\n",
    "}\n",
    "\n",
    "# Membuat DataFrame\n",
    "df = pd.DataFrame(data)\n",
    "\n",
    "# Tampilkan DataFrame\n",
    "display(df)\n"
   ]
  },
  {
   "cell_type": "code",
   "execution_count": 141,
   "metadata": {},
   "outputs": [
    {
     "name": "stdout",
     "output_type": "stream",
     "text": [
      "5.6\n",
      "5.5\n",
      "5.7\n",
      "5.8\n",
      "5.9\n",
      "5.6\n",
      "5.6\n",
      "5.5\n",
      "5.7\n",
      "5.8\n",
      "5.9\n",
      "5.6\n",
      "5.6\n",
      "5.5\n",
      "5.7\n",
      "5.8\n",
      "5.9\n",
      "5.6\n",
      "5.6\n",
      "5.5\n",
      "5.7\n",
      "5.8\n",
      "5.9\n",
      "5.6\n",
      "\n",
      "Metrik Kesalahan untuk Banda Sakti:\n"
     ]
    },
    {
     "data": {
      "text/html": [
       "<div>\n",
       "<style scoped>\n",
       "    .dataframe tbody tr th:only-of-type {\n",
       "        vertical-align: middle;\n",
       "    }\n",
       "\n",
       "    .dataframe tbody tr th {\n",
       "        vertical-align: top;\n",
       "    }\n",
       "\n",
       "    .dataframe thead th {\n",
       "        text-align: right;\n",
       "    }\n",
       "</style>\n",
       "<table border=\"1\" class=\"dataframe\">\n",
       "  <thead>\n",
       "    <tr style=\"text-align: right;\">\n",
       "      <th></th>\n",
       "      <th>MAE</th>\n",
       "      <th>RMSE</th>\n",
       "      <th>MAPE</th>\n",
       "    </tr>\n",
       "  </thead>\n",
       "  <tbody>\n",
       "    <tr>\n",
       "      <th>MA (3-Mingguan)</th>\n",
       "      <td>4.44</td>\n",
       "      <td>4.91</td>\n",
       "      <td>2.55</td>\n",
       "    </tr>\n",
       "    <tr>\n",
       "      <th>AR(1)</th>\n",
       "      <td>10.17</td>\n",
       "      <td>11.11</td>\n",
       "      <td>6.23</td>\n",
       "    </tr>\n",
       "    <tr>\n",
       "      <th>AR+MA</th>\n",
       "      <td>42.24</td>\n",
       "      <td>69.32</td>\n",
       "      <td>23.91</td>\n",
       "    </tr>\n",
       "    <tr>\n",
       "      <th>VARMA</th>\n",
       "      <td>28.22</td>\n",
       "      <td>28.91</td>\n",
       "      <td>16.33</td>\n",
       "    </tr>\n",
       "  </tbody>\n",
       "</table>\n",
       "</div>"
      ],
      "text/plain": [
       "                   MAE   RMSE   MAPE\n",
       "MA (3-Mingguan)   4.44   4.91   2.55\n",
       "AR(1)            10.17  11.11   6.23\n",
       "AR+MA            42.24  69.32  23.91\n",
       "VARMA            28.22  28.91  16.33"
      ]
     },
     "metadata": {},
     "output_type": "display_data"
    },
    {
     "name": "stdout",
     "output_type": "stream",
     "text": [
      "\n",
      "Metrik Kesalahan untuk Blang Mangat:\n"
     ]
    },
    {
     "data": {
      "text/html": [
       "<div>\n",
       "<style scoped>\n",
       "    .dataframe tbody tr th:only-of-type {\n",
       "        vertical-align: middle;\n",
       "    }\n",
       "\n",
       "    .dataframe tbody tr th {\n",
       "        vertical-align: top;\n",
       "    }\n",
       "\n",
       "    .dataframe thead th {\n",
       "        text-align: right;\n",
       "    }\n",
       "</style>\n",
       "<table border=\"1\" class=\"dataframe\">\n",
       "  <thead>\n",
       "    <tr style=\"text-align: right;\">\n",
       "      <th></th>\n",
       "      <th>MAE</th>\n",
       "      <th>RMSE</th>\n",
       "      <th>MAPE</th>\n",
       "    </tr>\n",
       "  </thead>\n",
       "  <tbody>\n",
       "    <tr>\n",
       "      <th>MA (3-Mingguan)</th>\n",
       "      <td>5.28</td>\n",
       "      <td>5.97</td>\n",
       "      <td>2.31</td>\n",
       "    </tr>\n",
       "    <tr>\n",
       "      <th>AR(1)</th>\n",
       "      <td>12.38</td>\n",
       "      <td>13.62</td>\n",
       "      <td>5.74</td>\n",
       "    </tr>\n",
       "    <tr>\n",
       "      <th>AR+MA</th>\n",
       "      <td>53.28</td>\n",
       "      <td>89.42</td>\n",
       "      <td>23.10</td>\n",
       "    </tr>\n",
       "    <tr>\n",
       "      <th>VARMA</th>\n",
       "      <td>32.68</td>\n",
       "      <td>33.67</td>\n",
       "      <td>14.41</td>\n",
       "    </tr>\n",
       "  </tbody>\n",
       "</table>\n",
       "</div>"
      ],
      "text/plain": [
       "                   MAE   RMSE   MAPE\n",
       "MA (3-Mingguan)   5.28   5.97   2.31\n",
       "AR(1)            12.38  13.62   5.74\n",
       "AR+MA            53.28  89.42  23.10\n",
       "VARMA            32.68  33.67  14.41"
      ]
     },
     "metadata": {},
     "output_type": "display_data"
    },
    {
     "name": "stdout",
     "output_type": "stream",
     "text": [
      "\n",
      "Metrik Kesalahan untuk Muara Satu:\n"
     ]
    },
    {
     "data": {
      "text/html": [
       "<div>\n",
       "<style scoped>\n",
       "    .dataframe tbody tr th:only-of-type {\n",
       "        vertical-align: middle;\n",
       "    }\n",
       "\n",
       "    .dataframe tbody tr th {\n",
       "        vertical-align: top;\n",
       "    }\n",
       "\n",
       "    .dataframe thead th {\n",
       "        text-align: right;\n",
       "    }\n",
       "</style>\n",
       "<table border=\"1\" class=\"dataframe\">\n",
       "  <thead>\n",
       "    <tr style=\"text-align: right;\">\n",
       "      <th></th>\n",
       "      <th>MAE</th>\n",
       "      <th>RMSE</th>\n",
       "      <th>MAPE</th>\n",
       "    </tr>\n",
       "  </thead>\n",
       "  <tbody>\n",
       "    <tr>\n",
       "      <th>MA (3-Mingguan)</th>\n",
       "      <td>5.00</td>\n",
       "      <td>5.00</td>\n",
       "      <td>3.29</td>\n",
       "    </tr>\n",
       "    <tr>\n",
       "      <th>AR(1)</th>\n",
       "      <td>9.47</td>\n",
       "      <td>9.47</td>\n",
       "      <td>6.55</td>\n",
       "    </tr>\n",
       "    <tr>\n",
       "      <th>AR+MA</th>\n",
       "      <td>41.07</td>\n",
       "      <td>62.74</td>\n",
       "      <td>26.45</td>\n",
       "    </tr>\n",
       "    <tr>\n",
       "      <th>VARMA</th>\n",
       "      <td>29.26</td>\n",
       "      <td>29.27</td>\n",
       "      <td>19.22</td>\n",
       "    </tr>\n",
       "  </tbody>\n",
       "</table>\n",
       "</div>"
      ],
      "text/plain": [
       "                   MAE   RMSE   MAPE\n",
       "MA (3-Mingguan)   5.00   5.00   3.29\n",
       "AR(1)             9.47   9.47   6.55\n",
       "AR+MA            41.07  62.74  26.45\n",
       "VARMA            29.26  29.27  19.22"
      ]
     },
     "metadata": {},
     "output_type": "display_data"
    },
    {
     "name": "stdout",
     "output_type": "stream",
     "text": [
      "\n",
      "Metrik Kesalahan untuk Muara Dua:\n"
     ]
    },
    {
     "data": {
      "text/html": [
       "<div>\n",
       "<style scoped>\n",
       "    .dataframe tbody tr th:only-of-type {\n",
       "        vertical-align: middle;\n",
       "    }\n",
       "\n",
       "    .dataframe tbody tr th {\n",
       "        vertical-align: top;\n",
       "    }\n",
       "\n",
       "    .dataframe thead th {\n",
       "        text-align: right;\n",
       "    }\n",
       "</style>\n",
       "<table border=\"1\" class=\"dataframe\">\n",
       "  <thead>\n",
       "    <tr style=\"text-align: right;\">\n",
       "      <th></th>\n",
       "      <th>MAE</th>\n",
       "      <th>RMSE</th>\n",
       "      <th>MAPE</th>\n",
       "    </tr>\n",
       "  </thead>\n",
       "  <tbody>\n",
       "    <tr>\n",
       "      <th>MA (3-Mingguan)</th>\n",
       "      <td>5.00</td>\n",
       "      <td>5.00</td>\n",
       "      <td>2.47</td>\n",
       "    </tr>\n",
       "    <tr>\n",
       "      <th>AR(1)</th>\n",
       "      <td>10.96</td>\n",
       "      <td>10.96</td>\n",
       "      <td>5.63</td>\n",
       "    </tr>\n",
       "    <tr>\n",
       "      <th>AR+MA</th>\n",
       "      <td>48.63</td>\n",
       "      <td>79.84</td>\n",
       "      <td>23.56</td>\n",
       "    </tr>\n",
       "    <tr>\n",
       "      <th>VARMA</th>\n",
       "      <td>30.75</td>\n",
       "      <td>30.76</td>\n",
       "      <td>15.20</td>\n",
       "    </tr>\n",
       "  </tbody>\n",
       "</table>\n",
       "</div>"
      ],
      "text/plain": [
       "                   MAE   RMSE   MAPE\n",
       "MA (3-Mingguan)   5.00   5.00   2.47\n",
       "AR(1)            10.96  10.96   5.63\n",
       "AR+MA            48.63  79.84  23.56\n",
       "VARMA            30.75  30.76  15.20"
      ]
     },
     "metadata": {},
     "output_type": "display_data"
    }
   ],
   "source": [
    "import numpy as np\n",
    "import pandas as pd\n",
    "import matplotlib.pyplot as plt\n",
    "from sklearn.metrics import mean_absolute_error, mean_squared_error\n",
    "\n",
    "# Parameter untuk model VARMA\n",
    "phi_varma = 1.0298\n",
    "theta_varma = 4.445\n",
    "beta1 = 0.3\n",
    "beta2 = 0.2\n",
    "\n",
    "# Daftar wilayah\n",
    "regions = ['Banda Sakti', 'Blang Mangat', 'Muara Satu', 'Muara Dua']\n",
    "\n",
    "# Menyimpan DataFrame per wilayah\n",
    "df_regions = {}\n",
    "\n",
    "# Metrik kesalahan per wilayah\n",
    "error_metrics = {}\n",
    "\n",
    "# Definisikan warna untuk model\n",
    "colors = {\n",
    "    'Pemakaian Asli': 'blue',\n",
    "    'MA (3-Mingguan)': 'orange',\n",
    "    'AR(1)': 'green',\n",
    "    'AR+MA': 'red',\n",
    "    'VARMA': 'purple'\n",
    "}\n",
    "\n",
    "for region in regions:\n",
    "    # Membuat salinan DataFrame untuk setiap wilayah\n",
    "    df_region = df[['Minggu', region, 'Suhu (X1)', 'Harga Listrik per Watt (X2)']].copy()\n",
    "    df_region.rename(columns={region: 'Y'}, inplace=True)\n",
    "    \n",
    "    # 1. Menghitung Moving Average (MA) 3-mingguan\n",
    "    def moving_average(series, period=3):\n",
    "        return series.rolling(window=period).mean()\n",
    "    \n",
    "    df_region['MA (3-Mingguan)'] = moving_average(df_region['Y'])\n",
    "    \n",
    "    # 2. Menghitung model Autoregressive (AR)\n",
    "    phi_ar = 1.0298  # Nilai phi untuk model AR(1)\n",
    "    df_region['AR(1)'] = df_region['Y'].shift(-1) * phi_ar\n",
    "    \n",
    "    # 3. Menghitung model AR + MA\n",
    "    df_region['Residuals'] = df_region['Y'] - df_region['MA (3-Mingguan)']\n",
    "    df_region['Residuals'].fillna(0, inplace=True)  # Mengganti NaN dengan 0\n",
    "    \n",
    "    df_region['AR+MA'] = (phi_varma * df_region['Y'])+(df_region['Residuals'].shift(-1) * theta_varma)  # Menggunakan residual H-1\n",
    "    df_region['AR+MA'].fillna(0, inplace=True)  # Mengganti NaN dengan 0\n",
    "    \n",
    "    # 4. Menghitung model VARMA(1,1)\n",
    "    def calculate_varma_values(series, residuals, phi, theta, x1, x2, beta1, beta2):\n",
    "        varma_values = [None, None]  # VARMA tidak dapat dihitung untuk 2 minggu pertama\n",
    "        for t in range(2, len(series)):\n",
    "            varma_value = ((phi * series[t-2]) + theta * residuals[t-2] + (\n",
    "                           beta1 * x1[t]) + beta2 * x2[t])\n",
    "            varma_values.append(varma_value)\n",
    "        return varma_values\n",
    "    \n",
    "    df_region['VARMA'] = calculate_varma_values(\n",
    "        df_region['Y'].shift(-1), df_region['Residuals'].shift(-2), phi_varma, theta_varma,\n",
    "        df_region['Suhu (X1)'], df_region['Harga Listrik per Watt (X2)'], beta1, beta2)\n",
    "    \n",
    "    # 5. Menghitung MAPE, RMSE, dan MAE\n",
    "    error_metrics_region = {}\n",
    "    models = ['MA (3-Mingguan)', 'AR(1)', 'AR+MA', 'VARMA']\n",
    "    for model in models:\n",
    "        actual = df_region['Y'][df_region[model].notna()]\n",
    "        predicted = df_region[model][df_region[model].notna()]\n",
    "        mae = mean_absolute_error(actual, predicted)\n",
    "        rmse = mean_squared_error(actual, predicted, squared=False)\n",
    "        mape = np.mean(np.abs((actual - predicted) / actual)) * 100\n",
    "        error_metrics_region[model] = {'MAE': round(mae, 2), 'RMSE': round(rmse, 2), 'MAPE': round(mape, 2)}\n",
    "    error_metrics[region] = error_metrics_region\n",
    "    \n",
    "    # Menyimpan df_region\n",
    "    df_regions[region] = df_region.copy()\n",
    "\n",
    "# Menampilkan metrik kesalahan untuk setiap wilayah\n",
    "for region in regions:\n",
    "    print(f\"\\nMetrik Kesalahan untuk {region}:\")\n",
    "    error_df_region = pd.DataFrame(error_metrics[region]).T\n",
    "    display(error_df_region)\n"
   ]
  },
  {
   "cell_type": "code",
   "execution_count": 142,
   "metadata": {},
   "outputs": [
    {
     "data": {
      "application/vnd.plotly.v1+json": {
       "config": {
        "plotlyServerURL": "https://plot.ly"
       },
       "data": [
        {
         "line": {
          "color": "blue"
         },
         "mode": "lines+markers",
         "name": "Pemakaian Asli",
         "type": "scatter",
         "x": [
          "Week 1",
          "Week 2",
          "Week 3",
          "Week 4",
          "Week 5",
          "Week 6",
          "Week 7",
          "Week 8"
         ],
         "xaxis": "x",
         "y": [
          150,
          160,
          155,
          165,
          170,
          175,
          180,
          185
         ],
         "yaxis": "y"
        },
        {
         "line": {
          "color": "orange"
         },
         "mode": "lines+markers",
         "name": "MA (3-Mingguan)",
         "showlegend": true,
         "type": "scatter",
         "x": [
          "Week 1",
          "Week 2",
          "Week 3",
          "Week 4",
          "Week 5",
          "Week 6",
          "Week 7",
          "Week 8"
         ],
         "xaxis": "x",
         "y": [
          null,
          null,
          155,
          160,
          163.33333333333334,
          170,
          175,
          180
         ],
         "yaxis": "y"
        },
        {
         "line": {
          "color": "green"
         },
         "mode": "lines+markers",
         "name": "AR(1)",
         "showlegend": true,
         "type": "scatter",
         "x": [
          "Week 1",
          "Week 2",
          "Week 3",
          "Week 4",
          "Week 5",
          "Week 6",
          "Week 7",
          "Week 8"
         ],
         "xaxis": "x",
         "y": [
          164.768,
          159.619,
          169.917,
          175.066,
          180.215,
          185.364,
          190.513,
          null
         ],
         "yaxis": "y"
        },
        {
         "line": {
          "color": "red"
         },
         "mode": "lines+markers",
         "name": "AR+MA",
         "showlegend": true,
         "type": "scatter",
         "x": [
          "Week 1",
          "Week 2",
          "Week 3",
          "Week 4",
          "Week 5",
          "Week 6",
          "Week 7",
          "Week 8"
         ],
         "xaxis": "x",
         "y": [
          154.47,
          164.768,
          181.844,
          199.5503333333333,
          197.291,
          202.44,
          207.589,
          0
         ],
         "yaxis": "y"
        },
        {
         "line": {
          "color": "purple"
         },
         "mode": "lines+markers",
         "name": "VARMA",
         "showlegend": true,
         "type": "scatter",
         "x": [
          "Week 1",
          "Week 2",
          "Week 3",
          "Week 4",
          "Week 5",
          "Week 6",
          "Week 7",
          "Week 8"
         ],
         "xaxis": "x",
         "y": [
          null,
          null,
          171.588,
          189.54399999999998,
          206.69033333333329,
          205.351,
          210.82,
          215.309
         ],
         "yaxis": "y"
        },
        {
         "line": {
          "color": "blue"
         },
         "mode": "lines+markers",
         "name": "Pemakaian Asli",
         "type": "scatter",
         "x": [
          "Week 1",
          "Week 2",
          "Week 3",
          "Week 4",
          "Week 5",
          "Week 6",
          "Week 7",
          "Week 8"
         ],
         "xaxis": "x2",
         "y": [
          200,
          210,
          205,
          220,
          225,
          230,
          235,
          240
         ],
         "yaxis": "y2"
        },
        {
         "line": {
          "color": "orange"
         },
         "mode": "lines+markers",
         "name": "",
         "showlegend": false,
         "type": "scatter",
         "x": [
          "Week 1",
          "Week 2",
          "Week 3",
          "Week 4",
          "Week 5",
          "Week 6",
          "Week 7",
          "Week 8"
         ],
         "xaxis": "x2",
         "y": [
          null,
          null,
          205,
          211.66666666666666,
          216.66666666666666,
          225,
          230,
          235
         ],
         "yaxis": "y2"
        },
        {
         "line": {
          "color": "green"
         },
         "mode": "lines+markers",
         "name": "",
         "showlegend": false,
         "type": "scatter",
         "x": [
          "Week 1",
          "Week 2",
          "Week 3",
          "Week 4",
          "Week 5",
          "Week 6",
          "Week 7",
          "Week 8"
         ],
         "xaxis": "x2",
         "y": [
          216.258,
          211.109,
          226.556,
          231.705,
          236.854,
          242.00300000000001,
          247.15200000000002,
          null
         ],
         "yaxis": "y2"
        },
        {
         "line": {
          "color": "red"
         },
         "mode": "lines+markers",
         "name": "",
         "showlegend": false,
         "type": "scatter",
         "x": [
          "Week 1",
          "Week 2",
          "Week 3",
          "Week 4",
          "Week 5",
          "Week 6",
          "Week 7",
          "Week 8"
         ],
         "xaxis": "x2",
         "y": [
          205.96,
          216.258,
          248.15066666666672,
          263.5976666666667,
          253.93,
          259.079,
          264.228,
          0
         ],
         "yaxis": "y2"
        },
        {
         "line": {
          "color": "purple"
         },
         "mode": "lines+markers",
         "name": "",
         "showlegend": false,
         "type": "scatter",
         "x": [
          "Week 1",
          "Week 2",
          "Week 3",
          "Week 4",
          "Week 5",
          "Week 6",
          "Week 7",
          "Week 8"
         ],
         "xaxis": "x2",
         "y": [
          null,
          null,
          223.078,
          255.8506666666667,
          270.7376666666667,
          261.99,
          267.459,
          271.94800000000004
         ],
         "yaxis": "y2"
        },
        {
         "line": {
          "color": "blue"
         },
         "mode": "lines+markers",
         "name": "Pemakaian Asli",
         "type": "scatter",
         "x": [
          "Week 1",
          "Week 2",
          "Week 3",
          "Week 4",
          "Week 5",
          "Week 6",
          "Week 7",
          "Week 8"
         ],
         "xaxis": "x3",
         "y": [
          130,
          135,
          140,
          145,
          150,
          155,
          160,
          165
         ],
         "yaxis": "y3"
        },
        {
         "line": {
          "color": "orange"
         },
         "mode": "lines+markers",
         "name": "",
         "showlegend": false,
         "type": "scatter",
         "x": [
          "Week 1",
          "Week 2",
          "Week 3",
          "Week 4",
          "Week 5",
          "Week 6",
          "Week 7",
          "Week 8"
         ],
         "xaxis": "x3",
         "y": [
          null,
          null,
          135,
          140,
          145,
          150,
          155,
          160
         ],
         "yaxis": "y3"
        },
        {
         "line": {
          "color": "green"
         },
         "mode": "lines+markers",
         "name": "",
         "showlegend": false,
         "type": "scatter",
         "x": [
          "Week 1",
          "Week 2",
          "Week 3",
          "Week 4",
          "Week 5",
          "Week 6",
          "Week 7",
          "Week 8"
         ],
         "xaxis": "x3",
         "y": [
          139.023,
          144.172,
          149.321,
          154.47,
          159.619,
          164.768,
          169.917,
          null
         ],
         "yaxis": "y3"
        },
        {
         "line": {
          "color": "red"
         },
         "mode": "lines+markers",
         "name": "",
         "showlegend": false,
         "type": "scatter",
         "x": [
          "Week 1",
          "Week 2",
          "Week 3",
          "Week 4",
          "Week 5",
          "Week 6",
          "Week 7",
          "Week 8"
         ],
         "xaxis": "x3",
         "y": [
          133.874,
          161.248,
          166.397,
          171.546,
          176.695,
          181.844,
          186.993,
          0
         ],
         "yaxis": "y3"
        },
        {
         "line": {
          "color": "purple"
         },
         "mode": "lines+markers",
         "name": "",
         "showlegend": false,
         "type": "scatter",
         "x": [
          "Week 1",
          "Week 2",
          "Week 3",
          "Week 4",
          "Week 5",
          "Week 6",
          "Week 7",
          "Week 8"
         ],
         "xaxis": "x3",
         "y": [
          null,
          null,
          168.06799999999998,
          174.09699999999998,
          178.68599999999998,
          184.755,
          190.224,
          194.713
         ],
         "yaxis": "y3"
        },
        {
         "line": {
          "color": "blue"
         },
         "mode": "lines+markers",
         "name": "Pemakaian Asli",
         "type": "scatter",
         "x": [
          "Week 1",
          "Week 2",
          "Week 3",
          "Week 4",
          "Week 5",
          "Week 6",
          "Week 7",
          "Week 8"
         ],
         "xaxis": "x4",
         "y": [
          180,
          185,
          190,
          195,
          200,
          205,
          210,
          215
         ],
         "yaxis": "y4"
        },
        {
         "line": {
          "color": "orange"
         },
         "mode": "lines+markers",
         "name": "",
         "showlegend": false,
         "type": "scatter",
         "x": [
          "Week 1",
          "Week 2",
          "Week 3",
          "Week 4",
          "Week 5",
          "Week 6",
          "Week 7",
          "Week 8"
         ],
         "xaxis": "x4",
         "y": [
          null,
          null,
          185,
          190,
          195,
          200,
          205,
          210
         ],
         "yaxis": "y4"
        },
        {
         "line": {
          "color": "green"
         },
         "mode": "lines+markers",
         "name": "",
         "showlegend": false,
         "type": "scatter",
         "x": [
          "Week 1",
          "Week 2",
          "Week 3",
          "Week 4",
          "Week 5",
          "Week 6",
          "Week 7",
          "Week 8"
         ],
         "xaxis": "x4",
         "y": [
          190.513,
          195.662,
          200.811,
          205.96,
          211.109,
          216.258,
          221.407,
          null
         ],
         "yaxis": "y4"
        },
        {
         "line": {
          "color": "red"
         },
         "mode": "lines+markers",
         "name": "",
         "showlegend": false,
         "type": "scatter",
         "x": [
          "Week 1",
          "Week 2",
          "Week 3",
          "Week 4",
          "Week 5",
          "Week 6",
          "Week 7",
          "Week 8"
         ],
         "xaxis": "x4",
         "y": [
          185.364,
          212.738,
          217.887,
          223.036,
          228.185,
          233.334,
          238.483,
          0
         ],
         "yaxis": "y4"
        },
        {
         "line": {
          "color": "purple"
         },
         "mode": "lines+markers",
         "name": "",
         "showlegend": false,
         "type": "scatter",
         "x": [
          "Week 1",
          "Week 2",
          "Week 3",
          "Week 4",
          "Week 5",
          "Week 6",
          "Week 7",
          "Week 8"
         ],
         "xaxis": "x4",
         "y": [
          null,
          null,
          219.558,
          225.587,
          230.176,
          236.245,
          241.714,
          246.203
         ],
         "yaxis": "y4"
        }
       ],
       "layout": {
        "annotations": [
         {
          "font": {
           "size": 16
          },
          "showarrow": false,
          "text": "Banda Sakti",
          "x": 0.225,
          "xanchor": "center",
          "xref": "paper",
          "y": 1,
          "yanchor": "bottom",
          "yref": "paper"
         },
         {
          "font": {
           "size": 16
          },
          "showarrow": false,
          "text": "Blang Mangat",
          "x": 0.775,
          "xanchor": "center",
          "xref": "paper",
          "y": 1,
          "yanchor": "bottom",
          "yref": "paper"
         },
         {
          "font": {
           "size": 16
          },
          "showarrow": false,
          "text": "Muara Satu",
          "x": 0.225,
          "xanchor": "center",
          "xref": "paper",
          "y": 0.375,
          "yanchor": "bottom",
          "yref": "paper"
         },
         {
          "font": {
           "size": 16
          },
          "showarrow": false,
          "text": "Muara Dua",
          "x": 0.775,
          "xanchor": "center",
          "xref": "paper",
          "y": 0.375,
          "yanchor": "bottom",
          "yref": "paper"
         }
        ],
        "height": 800,
        "template": {
         "data": {
          "bar": [
           {
            "error_x": {
             "color": "#2a3f5f"
            },
            "error_y": {
             "color": "#2a3f5f"
            },
            "marker": {
             "line": {
              "color": "#E5ECF6",
              "width": 0.5
             },
             "pattern": {
              "fillmode": "overlay",
              "size": 10,
              "solidity": 0.2
             }
            },
            "type": "bar"
           }
          ],
          "barpolar": [
           {
            "marker": {
             "line": {
              "color": "#E5ECF6",
              "width": 0.5
             },
             "pattern": {
              "fillmode": "overlay",
              "size": 10,
              "solidity": 0.2
             }
            },
            "type": "barpolar"
           }
          ],
          "carpet": [
           {
            "aaxis": {
             "endlinecolor": "#2a3f5f",
             "gridcolor": "white",
             "linecolor": "white",
             "minorgridcolor": "white",
             "startlinecolor": "#2a3f5f"
            },
            "baxis": {
             "endlinecolor": "#2a3f5f",
             "gridcolor": "white",
             "linecolor": "white",
             "minorgridcolor": "white",
             "startlinecolor": "#2a3f5f"
            },
            "type": "carpet"
           }
          ],
          "choropleth": [
           {
            "colorbar": {
             "outlinewidth": 0,
             "ticks": ""
            },
            "type": "choropleth"
           }
          ],
          "contour": [
           {
            "colorbar": {
             "outlinewidth": 0,
             "ticks": ""
            },
            "colorscale": [
             [
              0,
              "#0d0887"
             ],
             [
              0.1111111111111111,
              "#46039f"
             ],
             [
              0.2222222222222222,
              "#7201a8"
             ],
             [
              0.3333333333333333,
              "#9c179e"
             ],
             [
              0.4444444444444444,
              "#bd3786"
             ],
             [
              0.5555555555555556,
              "#d8576b"
             ],
             [
              0.6666666666666666,
              "#ed7953"
             ],
             [
              0.7777777777777778,
              "#fb9f3a"
             ],
             [
              0.8888888888888888,
              "#fdca26"
             ],
             [
              1,
              "#f0f921"
             ]
            ],
            "type": "contour"
           }
          ],
          "contourcarpet": [
           {
            "colorbar": {
             "outlinewidth": 0,
             "ticks": ""
            },
            "type": "contourcarpet"
           }
          ],
          "heatmap": [
           {
            "colorbar": {
             "outlinewidth": 0,
             "ticks": ""
            },
            "colorscale": [
             [
              0,
              "#0d0887"
             ],
             [
              0.1111111111111111,
              "#46039f"
             ],
             [
              0.2222222222222222,
              "#7201a8"
             ],
             [
              0.3333333333333333,
              "#9c179e"
             ],
             [
              0.4444444444444444,
              "#bd3786"
             ],
             [
              0.5555555555555556,
              "#d8576b"
             ],
             [
              0.6666666666666666,
              "#ed7953"
             ],
             [
              0.7777777777777778,
              "#fb9f3a"
             ],
             [
              0.8888888888888888,
              "#fdca26"
             ],
             [
              1,
              "#f0f921"
             ]
            ],
            "type": "heatmap"
           }
          ],
          "heatmapgl": [
           {
            "colorbar": {
             "outlinewidth": 0,
             "ticks": ""
            },
            "colorscale": [
             [
              0,
              "#0d0887"
             ],
             [
              0.1111111111111111,
              "#46039f"
             ],
             [
              0.2222222222222222,
              "#7201a8"
             ],
             [
              0.3333333333333333,
              "#9c179e"
             ],
             [
              0.4444444444444444,
              "#bd3786"
             ],
             [
              0.5555555555555556,
              "#d8576b"
             ],
             [
              0.6666666666666666,
              "#ed7953"
             ],
             [
              0.7777777777777778,
              "#fb9f3a"
             ],
             [
              0.8888888888888888,
              "#fdca26"
             ],
             [
              1,
              "#f0f921"
             ]
            ],
            "type": "heatmapgl"
           }
          ],
          "histogram": [
           {
            "marker": {
             "pattern": {
              "fillmode": "overlay",
              "size": 10,
              "solidity": 0.2
             }
            },
            "type": "histogram"
           }
          ],
          "histogram2d": [
           {
            "colorbar": {
             "outlinewidth": 0,
             "ticks": ""
            },
            "colorscale": [
             [
              0,
              "#0d0887"
             ],
             [
              0.1111111111111111,
              "#46039f"
             ],
             [
              0.2222222222222222,
              "#7201a8"
             ],
             [
              0.3333333333333333,
              "#9c179e"
             ],
             [
              0.4444444444444444,
              "#bd3786"
             ],
             [
              0.5555555555555556,
              "#d8576b"
             ],
             [
              0.6666666666666666,
              "#ed7953"
             ],
             [
              0.7777777777777778,
              "#fb9f3a"
             ],
             [
              0.8888888888888888,
              "#fdca26"
             ],
             [
              1,
              "#f0f921"
             ]
            ],
            "type": "histogram2d"
           }
          ],
          "histogram2dcontour": [
           {
            "colorbar": {
             "outlinewidth": 0,
             "ticks": ""
            },
            "colorscale": [
             [
              0,
              "#0d0887"
             ],
             [
              0.1111111111111111,
              "#46039f"
             ],
             [
              0.2222222222222222,
              "#7201a8"
             ],
             [
              0.3333333333333333,
              "#9c179e"
             ],
             [
              0.4444444444444444,
              "#bd3786"
             ],
             [
              0.5555555555555556,
              "#d8576b"
             ],
             [
              0.6666666666666666,
              "#ed7953"
             ],
             [
              0.7777777777777778,
              "#fb9f3a"
             ],
             [
              0.8888888888888888,
              "#fdca26"
             ],
             [
              1,
              "#f0f921"
             ]
            ],
            "type": "histogram2dcontour"
           }
          ],
          "mesh3d": [
           {
            "colorbar": {
             "outlinewidth": 0,
             "ticks": ""
            },
            "type": "mesh3d"
           }
          ],
          "parcoords": [
           {
            "line": {
             "colorbar": {
              "outlinewidth": 0,
              "ticks": ""
             }
            },
            "type": "parcoords"
           }
          ],
          "pie": [
           {
            "automargin": true,
            "type": "pie"
           }
          ],
          "scatter": [
           {
            "fillpattern": {
             "fillmode": "overlay",
             "size": 10,
             "solidity": 0.2
            },
            "type": "scatter"
           }
          ],
          "scatter3d": [
           {
            "line": {
             "colorbar": {
              "outlinewidth": 0,
              "ticks": ""
             }
            },
            "marker": {
             "colorbar": {
              "outlinewidth": 0,
              "ticks": ""
             }
            },
            "type": "scatter3d"
           }
          ],
          "scattercarpet": [
           {
            "marker": {
             "colorbar": {
              "outlinewidth": 0,
              "ticks": ""
             }
            },
            "type": "scattercarpet"
           }
          ],
          "scattergeo": [
           {
            "marker": {
             "colorbar": {
              "outlinewidth": 0,
              "ticks": ""
             }
            },
            "type": "scattergeo"
           }
          ],
          "scattergl": [
           {
            "marker": {
             "colorbar": {
              "outlinewidth": 0,
              "ticks": ""
             }
            },
            "type": "scattergl"
           }
          ],
          "scattermapbox": [
           {
            "marker": {
             "colorbar": {
              "outlinewidth": 0,
              "ticks": ""
             }
            },
            "type": "scattermapbox"
           }
          ],
          "scatterpolar": [
           {
            "marker": {
             "colorbar": {
              "outlinewidth": 0,
              "ticks": ""
             }
            },
            "type": "scatterpolar"
           }
          ],
          "scatterpolargl": [
           {
            "marker": {
             "colorbar": {
              "outlinewidth": 0,
              "ticks": ""
             }
            },
            "type": "scatterpolargl"
           }
          ],
          "scatterternary": [
           {
            "marker": {
             "colorbar": {
              "outlinewidth": 0,
              "ticks": ""
             }
            },
            "type": "scatterternary"
           }
          ],
          "surface": [
           {
            "colorbar": {
             "outlinewidth": 0,
             "ticks": ""
            },
            "colorscale": [
             [
              0,
              "#0d0887"
             ],
             [
              0.1111111111111111,
              "#46039f"
             ],
             [
              0.2222222222222222,
              "#7201a8"
             ],
             [
              0.3333333333333333,
              "#9c179e"
             ],
             [
              0.4444444444444444,
              "#bd3786"
             ],
             [
              0.5555555555555556,
              "#d8576b"
             ],
             [
              0.6666666666666666,
              "#ed7953"
             ],
             [
              0.7777777777777778,
              "#fb9f3a"
             ],
             [
              0.8888888888888888,
              "#fdca26"
             ],
             [
              1,
              "#f0f921"
             ]
            ],
            "type": "surface"
           }
          ],
          "table": [
           {
            "cells": {
             "fill": {
              "color": "#EBF0F8"
             },
             "line": {
              "color": "white"
             }
            },
            "header": {
             "fill": {
              "color": "#C8D4E3"
             },
             "line": {
              "color": "white"
             }
            },
            "type": "table"
           }
          ]
         },
         "layout": {
          "annotationdefaults": {
           "arrowcolor": "#2a3f5f",
           "arrowhead": 0,
           "arrowwidth": 1
          },
          "autotypenumbers": "strict",
          "coloraxis": {
           "colorbar": {
            "outlinewidth": 0,
            "ticks": ""
           }
          },
          "colorscale": {
           "diverging": [
            [
             0,
             "#8e0152"
            ],
            [
             0.1,
             "#c51b7d"
            ],
            [
             0.2,
             "#de77ae"
            ],
            [
             0.3,
             "#f1b6da"
            ],
            [
             0.4,
             "#fde0ef"
            ],
            [
             0.5,
             "#f7f7f7"
            ],
            [
             0.6,
             "#e6f5d0"
            ],
            [
             0.7,
             "#b8e186"
            ],
            [
             0.8,
             "#7fbc41"
            ],
            [
             0.9,
             "#4d9221"
            ],
            [
             1,
             "#276419"
            ]
           ],
           "sequential": [
            [
             0,
             "#0d0887"
            ],
            [
             0.1111111111111111,
             "#46039f"
            ],
            [
             0.2222222222222222,
             "#7201a8"
            ],
            [
             0.3333333333333333,
             "#9c179e"
            ],
            [
             0.4444444444444444,
             "#bd3786"
            ],
            [
             0.5555555555555556,
             "#d8576b"
            ],
            [
             0.6666666666666666,
             "#ed7953"
            ],
            [
             0.7777777777777778,
             "#fb9f3a"
            ],
            [
             0.8888888888888888,
             "#fdca26"
            ],
            [
             1,
             "#f0f921"
            ]
           ],
           "sequentialminus": [
            [
             0,
             "#0d0887"
            ],
            [
             0.1111111111111111,
             "#46039f"
            ],
            [
             0.2222222222222222,
             "#7201a8"
            ],
            [
             0.3333333333333333,
             "#9c179e"
            ],
            [
             0.4444444444444444,
             "#bd3786"
            ],
            [
             0.5555555555555556,
             "#d8576b"
            ],
            [
             0.6666666666666666,
             "#ed7953"
            ],
            [
             0.7777777777777778,
             "#fb9f3a"
            ],
            [
             0.8888888888888888,
             "#fdca26"
            ],
            [
             1,
             "#f0f921"
            ]
           ]
          },
          "colorway": [
           "#636efa",
           "#EF553B",
           "#00cc96",
           "#ab63fa",
           "#FFA15A",
           "#19d3f3",
           "#FF6692",
           "#B6E880",
           "#FF97FF",
           "#FECB52"
          ],
          "font": {
           "color": "#2a3f5f"
          },
          "geo": {
           "bgcolor": "white",
           "lakecolor": "white",
           "landcolor": "#E5ECF6",
           "showlakes": true,
           "showland": true,
           "subunitcolor": "white"
          },
          "hoverlabel": {
           "align": "left"
          },
          "hovermode": "closest",
          "mapbox": {
           "style": "light"
          },
          "paper_bgcolor": "white",
          "plot_bgcolor": "#E5ECF6",
          "polar": {
           "angularaxis": {
            "gridcolor": "white",
            "linecolor": "white",
            "ticks": ""
           },
           "bgcolor": "#E5ECF6",
           "radialaxis": {
            "gridcolor": "white",
            "linecolor": "white",
            "ticks": ""
           }
          },
          "scene": {
           "xaxis": {
            "backgroundcolor": "#E5ECF6",
            "gridcolor": "white",
            "gridwidth": 2,
            "linecolor": "white",
            "showbackground": true,
            "ticks": "",
            "zerolinecolor": "white"
           },
           "yaxis": {
            "backgroundcolor": "#E5ECF6",
            "gridcolor": "white",
            "gridwidth": 2,
            "linecolor": "white",
            "showbackground": true,
            "ticks": "",
            "zerolinecolor": "white"
           },
           "zaxis": {
            "backgroundcolor": "#E5ECF6",
            "gridcolor": "white",
            "gridwidth": 2,
            "linecolor": "white",
            "showbackground": true,
            "ticks": "",
            "zerolinecolor": "white"
           }
          },
          "shapedefaults": {
           "line": {
            "color": "#2a3f5f"
           }
          },
          "ternary": {
           "aaxis": {
            "gridcolor": "white",
            "linecolor": "white",
            "ticks": ""
           },
           "baxis": {
            "gridcolor": "white",
            "linecolor": "white",
            "ticks": ""
           },
           "bgcolor": "#E5ECF6",
           "caxis": {
            "gridcolor": "white",
            "linecolor": "white",
            "ticks": ""
           }
          },
          "title": {
           "x": 0.05
          },
          "xaxis": {
           "automargin": true,
           "gridcolor": "white",
           "linecolor": "white",
           "ticks": "",
           "title": {
            "standoff": 15
           },
           "zerolinecolor": "white",
           "zerolinewidth": 2
          },
          "yaxis": {
           "automargin": true,
           "gridcolor": "white",
           "linecolor": "white",
           "ticks": "",
           "title": {
            "standoff": 15
           },
           "zerolinecolor": "white",
           "zerolinewidth": 2
          }
         }
        },
        "title": {
         "text": "Perbandingan Pemakaian Listrik per Wilayah"
        },
        "xaxis": {
         "anchor": "y",
         "domain": [
          0,
          0.45
         ],
         "title": {
          "text": "Minggu"
         }
        },
        "xaxis2": {
         "anchor": "y2",
         "domain": [
          0.55,
          1
         ],
         "title": {
          "text": "Minggu"
         }
        },
        "xaxis3": {
         "anchor": "y3",
         "domain": [
          0,
          0.45
         ],
         "title": {
          "text": "Minggu"
         }
        },
        "xaxis4": {
         "anchor": "y4",
         "domain": [
          0.55,
          1
         ],
         "title": {
          "text": "Minggu"
         }
        },
        "yaxis": {
         "anchor": "x",
         "domain": [
          0.625,
          1
         ],
         "title": {
          "text": "Pemakaian Listrik (mWh)"
         }
        },
        "yaxis2": {
         "anchor": "x2",
         "domain": [
          0.625,
          1
         ],
         "title": {
          "text": "Pemakaian Listrik (mWh)"
         }
        },
        "yaxis3": {
         "anchor": "x3",
         "domain": [
          0,
          0.375
         ],
         "title": {
          "text": "Pemakaian Listrik (mWh)"
         }
        },
        "yaxis4": {
         "anchor": "x4",
         "domain": [
          0,
          0.375
         ],
         "title": {
          "text": "Pemakaian Listrik (mWh)"
         }
        }
       }
      }
     },
     "metadata": {},
     "output_type": "display_data"
    }
   ],
   "source": [
    "# 7. Plotting grafik perbandingan per wilayah dalam grid 2x2 menggunakan Plotly\n",
    "fig = make_subplots(rows=2, cols=2, subplot_titles=regions)\n",
    "\n",
    "for idx, region in enumerate(regions):\n",
    "    df_region = df_regions[region]\n",
    "    row = idx // 2 + 1\n",
    "    col = idx % 2 + 1\n",
    "    \n",
    "    # Pemakaian Asli\n",
    "    fig.add_trace(go.Scatter(x=df_region['Minggu'], y=df_region['Y'], mode='lines+markers', \n",
    "                             name='Pemakaian Asli', line=dict(color=colors['Pemakaian Asli'])), row=row, col=col)\n",
    "    \n",
    "    # Menambahkan model dengan warna yang ditentukan\n",
    "    for model in models:\n",
    "        show_legend = (region == regions[0])  # Hanya tunjukkan legend pada subplot pertama\n",
    "        fig.add_trace(go.Scatter(x=df_region['Minggu'], y=df_region[model], mode='lines+markers', \n",
    "                                 name=model if show_legend else '', line=dict(color=colors[model]), showlegend=show_legend), row=row, col=col)\n",
    "\n",
    "# Menyesuaikan layout\n",
    "fig.update_layout(title_text='Perbandingan Pemakaian Listrik per Wilayah', height=800)\n",
    "fig.update_xaxes(title_text='Minggu')\n",
    "fig.update_yaxes(title_text='Pemakaian Listrik (mWh)')\n",
    "fig.show()\n"
   ]
  },
  {
   "cell_type": "code",
   "execution_count": 143,
   "metadata": {},
   "outputs": [
    {
     "name": "stderr",
     "output_type": "stream",
     "text": [
      "C:\\Users\\User\\AppData\\Local\\Temp\\ipykernel_14000\\741637472.py:8: FutureWarning:\n",
      "\n",
      "The behavior of DataFrame concatenation with empty or all-NA entries is deprecated. In a future version, this will no longer exclude empty or all-NA columns when determining the result dtypes. To retain the old behavior, exclude the relevant entries before the concat operation.\n",
      "\n"
     ]
    },
    {
     "data": {
      "text/html": [
       "<div>\n",
       "<style scoped>\n",
       "    .dataframe tbody tr th:only-of-type {\n",
       "        vertical-align: middle;\n",
       "    }\n",
       "\n",
       "    .dataframe tbody tr th {\n",
       "        vertical-align: top;\n",
       "    }\n",
       "\n",
       "    .dataframe thead th {\n",
       "        text-align: right;\n",
       "    }\n",
       "</style>\n",
       "<table border=\"1\" class=\"dataframe\">\n",
       "  <thead>\n",
       "    <tr style=\"text-align: right;\">\n",
       "      <th></th>\n",
       "      <th>Minggu</th>\n",
       "      <th>Wilayah</th>\n",
       "      <th>Pemakaian Asli</th>\n",
       "      <th>MA (3-Mingguan)</th>\n",
       "      <th>AR(1)</th>\n",
       "      <th>AR+MA</th>\n",
       "      <th>VARMA</th>\n",
       "    </tr>\n",
       "  </thead>\n",
       "  <tbody>\n",
       "    <tr>\n",
       "      <th>0</th>\n",
       "      <td>Week 1</td>\n",
       "      <td>Banda Sakti</td>\n",
       "      <td>150</td>\n",
       "      <td>NaN</td>\n",
       "      <td>164.768</td>\n",
       "      <td>154.470</td>\n",
       "      <td>NaN</td>\n",
       "    </tr>\n",
       "    <tr>\n",
       "      <th>1</th>\n",
       "      <td>Week 2</td>\n",
       "      <td>Banda Sakti</td>\n",
       "      <td>160</td>\n",
       "      <td>NaN</td>\n",
       "      <td>159.619</td>\n",
       "      <td>164.768</td>\n",
       "      <td>NaN</td>\n",
       "    </tr>\n",
       "    <tr>\n",
       "      <th>2</th>\n",
       "      <td>Week 3</td>\n",
       "      <td>Banda Sakti</td>\n",
       "      <td>155</td>\n",
       "      <td>155.000</td>\n",
       "      <td>169.917</td>\n",
       "      <td>181.844</td>\n",
       "      <td>171.588</td>\n",
       "    </tr>\n",
       "    <tr>\n",
       "      <th>3</th>\n",
       "      <td>Week 4</td>\n",
       "      <td>Banda Sakti</td>\n",
       "      <td>165</td>\n",
       "      <td>160.000</td>\n",
       "      <td>175.066</td>\n",
       "      <td>199.550</td>\n",
       "      <td>189.544</td>\n",
       "    </tr>\n",
       "    <tr>\n",
       "      <th>4</th>\n",
       "      <td>Week 5</td>\n",
       "      <td>Banda Sakti</td>\n",
       "      <td>170</td>\n",
       "      <td>163.333</td>\n",
       "      <td>180.215</td>\n",
       "      <td>197.291</td>\n",
       "      <td>206.690</td>\n",
       "    </tr>\n",
       "    <tr>\n",
       "      <th>5</th>\n",
       "      <td>Week 6</td>\n",
       "      <td>Banda Sakti</td>\n",
       "      <td>175</td>\n",
       "      <td>170.000</td>\n",
       "      <td>185.364</td>\n",
       "      <td>202.440</td>\n",
       "      <td>205.351</td>\n",
       "    </tr>\n",
       "    <tr>\n",
       "      <th>6</th>\n",
       "      <td>Week 7</td>\n",
       "      <td>Banda Sakti</td>\n",
       "      <td>180</td>\n",
       "      <td>175.000</td>\n",
       "      <td>190.513</td>\n",
       "      <td>207.589</td>\n",
       "      <td>210.820</td>\n",
       "    </tr>\n",
       "    <tr>\n",
       "      <th>7</th>\n",
       "      <td>Week 8</td>\n",
       "      <td>Banda Sakti</td>\n",
       "      <td>185</td>\n",
       "      <td>180.000</td>\n",
       "      <td>NaN</td>\n",
       "      <td>0.000</td>\n",
       "      <td>215.309</td>\n",
       "    </tr>\n",
       "    <tr>\n",
       "      <th>8</th>\n",
       "      <td>Week 1</td>\n",
       "      <td>Blang Mangat</td>\n",
       "      <td>200</td>\n",
       "      <td>NaN</td>\n",
       "      <td>216.258</td>\n",
       "      <td>205.960</td>\n",
       "      <td>NaN</td>\n",
       "    </tr>\n",
       "    <tr>\n",
       "      <th>9</th>\n",
       "      <td>Week 2</td>\n",
       "      <td>Blang Mangat</td>\n",
       "      <td>210</td>\n",
       "      <td>NaN</td>\n",
       "      <td>211.109</td>\n",
       "      <td>216.258</td>\n",
       "      <td>NaN</td>\n",
       "    </tr>\n",
       "    <tr>\n",
       "      <th>10</th>\n",
       "      <td>Week 3</td>\n",
       "      <td>Blang Mangat</td>\n",
       "      <td>205</td>\n",
       "      <td>205.000</td>\n",
       "      <td>226.556</td>\n",
       "      <td>248.151</td>\n",
       "      <td>223.078</td>\n",
       "    </tr>\n",
       "    <tr>\n",
       "      <th>11</th>\n",
       "      <td>Week 4</td>\n",
       "      <td>Blang Mangat</td>\n",
       "      <td>220</td>\n",
       "      <td>211.667</td>\n",
       "      <td>231.705</td>\n",
       "      <td>263.598</td>\n",
       "      <td>255.851</td>\n",
       "    </tr>\n",
       "    <tr>\n",
       "      <th>12</th>\n",
       "      <td>Week 5</td>\n",
       "      <td>Blang Mangat</td>\n",
       "      <td>225</td>\n",
       "      <td>216.667</td>\n",
       "      <td>236.854</td>\n",
       "      <td>253.930</td>\n",
       "      <td>270.738</td>\n",
       "    </tr>\n",
       "    <tr>\n",
       "      <th>13</th>\n",
       "      <td>Week 6</td>\n",
       "      <td>Blang Mangat</td>\n",
       "      <td>230</td>\n",
       "      <td>225.000</td>\n",
       "      <td>242.003</td>\n",
       "      <td>259.079</td>\n",
       "      <td>261.990</td>\n",
       "    </tr>\n",
       "    <tr>\n",
       "      <th>14</th>\n",
       "      <td>Week 7</td>\n",
       "      <td>Blang Mangat</td>\n",
       "      <td>235</td>\n",
       "      <td>230.000</td>\n",
       "      <td>247.152</td>\n",
       "      <td>264.228</td>\n",
       "      <td>267.459</td>\n",
       "    </tr>\n",
       "    <tr>\n",
       "      <th>15</th>\n",
       "      <td>Week 8</td>\n",
       "      <td>Blang Mangat</td>\n",
       "      <td>240</td>\n",
       "      <td>235.000</td>\n",
       "      <td>NaN</td>\n",
       "      <td>0.000</td>\n",
       "      <td>271.948</td>\n",
       "    </tr>\n",
       "    <tr>\n",
       "      <th>16</th>\n",
       "      <td>Week 1</td>\n",
       "      <td>Muara Satu</td>\n",
       "      <td>130</td>\n",
       "      <td>NaN</td>\n",
       "      <td>139.023</td>\n",
       "      <td>133.874</td>\n",
       "      <td>NaN</td>\n",
       "    </tr>\n",
       "    <tr>\n",
       "      <th>17</th>\n",
       "      <td>Week 2</td>\n",
       "      <td>Muara Satu</td>\n",
       "      <td>135</td>\n",
       "      <td>NaN</td>\n",
       "      <td>144.172</td>\n",
       "      <td>161.248</td>\n",
       "      <td>NaN</td>\n",
       "    </tr>\n",
       "    <tr>\n",
       "      <th>18</th>\n",
       "      <td>Week 3</td>\n",
       "      <td>Muara Satu</td>\n",
       "      <td>140</td>\n",
       "      <td>135.000</td>\n",
       "      <td>149.321</td>\n",
       "      <td>166.397</td>\n",
       "      <td>168.068</td>\n",
       "    </tr>\n",
       "    <tr>\n",
       "      <th>19</th>\n",
       "      <td>Week 4</td>\n",
       "      <td>Muara Satu</td>\n",
       "      <td>145</td>\n",
       "      <td>140.000</td>\n",
       "      <td>154.470</td>\n",
       "      <td>171.546</td>\n",
       "      <td>174.097</td>\n",
       "    </tr>\n",
       "    <tr>\n",
       "      <th>20</th>\n",
       "      <td>Week 5</td>\n",
       "      <td>Muara Satu</td>\n",
       "      <td>150</td>\n",
       "      <td>145.000</td>\n",
       "      <td>159.619</td>\n",
       "      <td>176.695</td>\n",
       "      <td>178.686</td>\n",
       "    </tr>\n",
       "    <tr>\n",
       "      <th>21</th>\n",
       "      <td>Week 6</td>\n",
       "      <td>Muara Satu</td>\n",
       "      <td>155</td>\n",
       "      <td>150.000</td>\n",
       "      <td>164.768</td>\n",
       "      <td>181.844</td>\n",
       "      <td>184.755</td>\n",
       "    </tr>\n",
       "    <tr>\n",
       "      <th>22</th>\n",
       "      <td>Week 7</td>\n",
       "      <td>Muara Satu</td>\n",
       "      <td>160</td>\n",
       "      <td>155.000</td>\n",
       "      <td>169.917</td>\n",
       "      <td>186.993</td>\n",
       "      <td>190.224</td>\n",
       "    </tr>\n",
       "    <tr>\n",
       "      <th>23</th>\n",
       "      <td>Week 8</td>\n",
       "      <td>Muara Satu</td>\n",
       "      <td>165</td>\n",
       "      <td>160.000</td>\n",
       "      <td>NaN</td>\n",
       "      <td>0.000</td>\n",
       "      <td>194.713</td>\n",
       "    </tr>\n",
       "    <tr>\n",
       "      <th>24</th>\n",
       "      <td>Week 1</td>\n",
       "      <td>Muara Dua</td>\n",
       "      <td>180</td>\n",
       "      <td>NaN</td>\n",
       "      <td>190.513</td>\n",
       "      <td>185.364</td>\n",
       "      <td>NaN</td>\n",
       "    </tr>\n",
       "    <tr>\n",
       "      <th>25</th>\n",
       "      <td>Week 2</td>\n",
       "      <td>Muara Dua</td>\n",
       "      <td>185</td>\n",
       "      <td>NaN</td>\n",
       "      <td>195.662</td>\n",
       "      <td>212.738</td>\n",
       "      <td>NaN</td>\n",
       "    </tr>\n",
       "    <tr>\n",
       "      <th>26</th>\n",
       "      <td>Week 3</td>\n",
       "      <td>Muara Dua</td>\n",
       "      <td>190</td>\n",
       "      <td>185.000</td>\n",
       "      <td>200.811</td>\n",
       "      <td>217.887</td>\n",
       "      <td>219.558</td>\n",
       "    </tr>\n",
       "    <tr>\n",
       "      <th>27</th>\n",
       "      <td>Week 4</td>\n",
       "      <td>Muara Dua</td>\n",
       "      <td>195</td>\n",
       "      <td>190.000</td>\n",
       "      <td>205.960</td>\n",
       "      <td>223.036</td>\n",
       "      <td>225.587</td>\n",
       "    </tr>\n",
       "    <tr>\n",
       "      <th>28</th>\n",
       "      <td>Week 5</td>\n",
       "      <td>Muara Dua</td>\n",
       "      <td>200</td>\n",
       "      <td>195.000</td>\n",
       "      <td>211.109</td>\n",
       "      <td>228.185</td>\n",
       "      <td>230.176</td>\n",
       "    </tr>\n",
       "    <tr>\n",
       "      <th>29</th>\n",
       "      <td>Week 6</td>\n",
       "      <td>Muara Dua</td>\n",
       "      <td>205</td>\n",
       "      <td>200.000</td>\n",
       "      <td>216.258</td>\n",
       "      <td>233.334</td>\n",
       "      <td>236.245</td>\n",
       "    </tr>\n",
       "    <tr>\n",
       "      <th>30</th>\n",
       "      <td>Week 7</td>\n",
       "      <td>Muara Dua</td>\n",
       "      <td>210</td>\n",
       "      <td>205.000</td>\n",
       "      <td>221.407</td>\n",
       "      <td>238.483</td>\n",
       "      <td>241.714</td>\n",
       "    </tr>\n",
       "    <tr>\n",
       "      <th>31</th>\n",
       "      <td>Week 8</td>\n",
       "      <td>Muara Dua</td>\n",
       "      <td>215</td>\n",
       "      <td>210.000</td>\n",
       "      <td>NaN</td>\n",
       "      <td>0.000</td>\n",
       "      <td>246.203</td>\n",
       "    </tr>\n",
       "  </tbody>\n",
       "</table>\n",
       "</div>"
      ],
      "text/plain": [
       "    Minggu       Wilayah Pemakaian Asli  MA (3-Mingguan)    AR(1)    AR+MA  \\\n",
       "0   Week 1   Banda Sakti            150              NaN  164.768  154.470   \n",
       "1   Week 2   Banda Sakti            160              NaN  159.619  164.768   \n",
       "2   Week 3   Banda Sakti            155          155.000  169.917  181.844   \n",
       "3   Week 4   Banda Sakti            165          160.000  175.066  199.550   \n",
       "4   Week 5   Banda Sakti            170          163.333  180.215  197.291   \n",
       "5   Week 6   Banda Sakti            175          170.000  185.364  202.440   \n",
       "6   Week 7   Banda Sakti            180          175.000  190.513  207.589   \n",
       "7   Week 8   Banda Sakti            185          180.000      NaN    0.000   \n",
       "8   Week 1  Blang Mangat            200              NaN  216.258  205.960   \n",
       "9   Week 2  Blang Mangat            210              NaN  211.109  216.258   \n",
       "10  Week 3  Blang Mangat            205          205.000  226.556  248.151   \n",
       "11  Week 4  Blang Mangat            220          211.667  231.705  263.598   \n",
       "12  Week 5  Blang Mangat            225          216.667  236.854  253.930   \n",
       "13  Week 6  Blang Mangat            230          225.000  242.003  259.079   \n",
       "14  Week 7  Blang Mangat            235          230.000  247.152  264.228   \n",
       "15  Week 8  Blang Mangat            240          235.000      NaN    0.000   \n",
       "16  Week 1    Muara Satu            130              NaN  139.023  133.874   \n",
       "17  Week 2    Muara Satu            135              NaN  144.172  161.248   \n",
       "18  Week 3    Muara Satu            140          135.000  149.321  166.397   \n",
       "19  Week 4    Muara Satu            145          140.000  154.470  171.546   \n",
       "20  Week 5    Muara Satu            150          145.000  159.619  176.695   \n",
       "21  Week 6    Muara Satu            155          150.000  164.768  181.844   \n",
       "22  Week 7    Muara Satu            160          155.000  169.917  186.993   \n",
       "23  Week 8    Muara Satu            165          160.000      NaN    0.000   \n",
       "24  Week 1     Muara Dua            180              NaN  190.513  185.364   \n",
       "25  Week 2     Muara Dua            185              NaN  195.662  212.738   \n",
       "26  Week 3     Muara Dua            190          185.000  200.811  217.887   \n",
       "27  Week 4     Muara Dua            195          190.000  205.960  223.036   \n",
       "28  Week 5     Muara Dua            200          195.000  211.109  228.185   \n",
       "29  Week 6     Muara Dua            205          200.000  216.258  233.334   \n",
       "30  Week 7     Muara Dua            210          205.000  221.407  238.483   \n",
       "31  Week 8     Muara Dua            215          210.000      NaN    0.000   \n",
       "\n",
       "      VARMA  \n",
       "0       NaN  \n",
       "1       NaN  \n",
       "2   171.588  \n",
       "3   189.544  \n",
       "4   206.690  \n",
       "5   205.351  \n",
       "6   210.820  \n",
       "7   215.309  \n",
       "8       NaN  \n",
       "9       NaN  \n",
       "10  223.078  \n",
       "11  255.851  \n",
       "12  270.738  \n",
       "13  261.990  \n",
       "14  267.459  \n",
       "15  271.948  \n",
       "16      NaN  \n",
       "17      NaN  \n",
       "18  168.068  \n",
       "19  174.097  \n",
       "20  178.686  \n",
       "21  184.755  \n",
       "22  190.224  \n",
       "23  194.713  \n",
       "24      NaN  \n",
       "25      NaN  \n",
       "26  219.558  \n",
       "27  225.587  \n",
       "28  230.176  \n",
       "29  236.245  \n",
       "30  241.714  \n",
       "31  246.203  "
      ]
     },
     "metadata": {},
     "output_type": "display_data"
    }
   ],
   "source": [
    "# Menggabungkan semua wilayah dalam satu DataFrame untuk ditampilkan\n",
    "combined_results = pd.DataFrame(columns=['Minggu', 'Wilayah', 'Pemakaian Asli', 'MA (3-Mingguan)', 'AR(1)', 'AR+MA', 'VARMA'])\n",
    "\n",
    "for region in regions:\n",
    "    df_region = df_regions[region][['Minggu', 'Y', 'MA (3-Mingguan)', 'AR(1)', 'AR+MA', 'VARMA']].copy()\n",
    "    df_region['Wilayah'] = region\n",
    "    df_region.rename(columns={'Y': 'Pemakaian Asli'}, inplace=True)\n",
    "    combined_results = pd.concat([combined_results, df_region], ignore_index=True)\n",
    "\n",
    "# Mengatur format desimal\n",
    "combined_results = combined_results.round(3)\n",
    "\n",
    "# Menampilkan DataFrame gabungan\n",
    "display(combined_results)\n"
   ]
  }
 ],
 "metadata": {
  "kernelspec": {
   "display_name": "base",
   "language": "python",
   "name": "python3"
  },
  "language_info": {
   "codemirror_mode": {
    "name": "ipython",
    "version": 3
   },
   "file_extension": ".py",
   "mimetype": "text/x-python",
   "name": "python",
   "nbconvert_exporter": "python",
   "pygments_lexer": "ipython3",
   "version": "3.11.7"
  }
 },
 "nbformat": 4,
 "nbformat_minor": 2
}
