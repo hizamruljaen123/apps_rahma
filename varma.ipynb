{
 "cells": [
  {
   "cell_type": "code",
   "execution_count": 8,
   "metadata": {},
   "outputs": [
    {
     "data": {
      "text/html": [
       "<div>\n",
       "<style scoped>\n",
       "    .dataframe tbody tr th:only-of-type {\n",
       "        vertical-align: middle;\n",
       "    }\n",
       "\n",
       "    .dataframe tbody tr th {\n",
       "        vertical-align: top;\n",
       "    }\n",
       "\n",
       "    .dataframe thead th {\n",
       "        text-align: right;\n",
       "    }\n",
       "</style>\n",
       "<table border=\"1\" class=\"dataframe\">\n",
       "  <thead>\n",
       "    <tr style=\"text-align: right;\">\n",
       "      <th></th>\n",
       "      <th>Minggu</th>\n",
       "      <th>Banda Sakti</th>\n",
       "      <th>Blang Mangat</th>\n",
       "      <th>Muara Satu</th>\n",
       "      <th>Muara Dua</th>\n",
       "      <th>Suhu (X1)</th>\n",
       "      <th>Harga Listrik per Watt (X2)</th>\n",
       "    </tr>\n",
       "  </thead>\n",
       "  <tbody>\n",
       "    <tr>\n",
       "      <th>0</th>\n",
       "      <td>Week 1</td>\n",
       "      <td>150</td>\n",
       "      <td>200</td>\n",
       "      <td>130</td>\n",
       "      <td>180</td>\n",
       "      <td>20</td>\n",
       "      <td>5.5</td>\n",
       "    </tr>\n",
       "    <tr>\n",
       "      <th>1</th>\n",
       "      <td>Week 2</td>\n",
       "      <td>160</td>\n",
       "      <td>210</td>\n",
       "      <td>135</td>\n",
       "      <td>185</td>\n",
       "      <td>21</td>\n",
       "      <td>5.4</td>\n",
       "    </tr>\n",
       "    <tr>\n",
       "      <th>2</th>\n",
       "      <td>Week 3</td>\n",
       "      <td>155</td>\n",
       "      <td>205</td>\n",
       "      <td>140</td>\n",
       "      <td>190</td>\n",
       "      <td>19</td>\n",
       "      <td>5.6</td>\n",
       "    </tr>\n",
       "    <tr>\n",
       "      <th>3</th>\n",
       "      <td>Week 4</td>\n",
       "      <td>165</td>\n",
       "      <td>220</td>\n",
       "      <td>145</td>\n",
       "      <td>195</td>\n",
       "      <td>22</td>\n",
       "      <td>5.5</td>\n",
       "    </tr>\n",
       "    <tr>\n",
       "      <th>4</th>\n",
       "      <td>Week 5</td>\n",
       "      <td>170</td>\n",
       "      <td>225</td>\n",
       "      <td>150</td>\n",
       "      <td>200</td>\n",
       "      <td>20</td>\n",
       "      <td>5.7</td>\n",
       "    </tr>\n",
       "    <tr>\n",
       "      <th>5</th>\n",
       "      <td>Week 6</td>\n",
       "      <td>175</td>\n",
       "      <td>230</td>\n",
       "      <td>155</td>\n",
       "      <td>205</td>\n",
       "      <td>23</td>\n",
       "      <td>5.8</td>\n",
       "    </tr>\n",
       "    <tr>\n",
       "      <th>6</th>\n",
       "      <td>Week 7</td>\n",
       "      <td>180</td>\n",
       "      <td>235</td>\n",
       "      <td>160</td>\n",
       "      <td>210</td>\n",
       "      <td>24</td>\n",
       "      <td>5.9</td>\n",
       "    </tr>\n",
       "    <tr>\n",
       "      <th>7</th>\n",
       "      <td>Week 8</td>\n",
       "      <td>185</td>\n",
       "      <td>240</td>\n",
       "      <td>165</td>\n",
       "      <td>215</td>\n",
       "      <td>22</td>\n",
       "      <td>5.6</td>\n",
       "    </tr>\n",
       "  </tbody>\n",
       "</table>\n",
       "</div>"
      ],
      "text/plain": [
       "   Minggu  Banda Sakti  Blang Mangat  Muara Satu  Muara Dua  Suhu (X1)  \\\n",
       "0  Week 1          150           200         130        180         20   \n",
       "1  Week 2          160           210         135        185         21   \n",
       "2  Week 3          155           205         140        190         19   \n",
       "3  Week 4          165           220         145        195         22   \n",
       "4  Week 5          170           225         150        200         20   \n",
       "5  Week 6          175           230         155        205         23   \n",
       "6  Week 7          180           235         160        210         24   \n",
       "7  Week 8          185           240         165        215         22   \n",
       "\n",
       "   Harga Listrik per Watt (X2)  \n",
       "0                          5.5  \n",
       "1                          5.4  \n",
       "2                          5.6  \n",
       "3                          5.5  \n",
       "4                          5.7  \n",
       "5                          5.8  \n",
       "6                          5.9  \n",
       "7                          5.6  "
      ]
     },
     "metadata": {},
     "output_type": "display_data"
    }
   ],
   "source": [
    "import pandas as pd\n",
    "import numpy as np\n",
    "import plotly.graph_objects as go\n",
    "from plotly.subplots import make_subplots\n",
    "from sklearn.metrics import mean_absolute_error, mean_squared_error\n",
    "from IPython.display import display\n",
    "\n",
    "# Data Pemakaian Listrik Mingguan dan Faktor Eksogen\n",
    "data = {\n",
    "    'Minggu': ['Week 1', 'Week 2', 'Week 3', 'Week 4',\n",
    "               'Week 5', 'Week 6', 'Week 7', 'Week 8'],\n",
    "    'Banda Sakti': [150, 160, 155, 165, 170, 175, 180, 185],\n",
    "    'Blang Mangat': [200, 210, 205, 220, 225, 230, 235, 240],\n",
    "    'Muara Satu': [130, 135, 140, 145, 150, 155, 160, 165],\n",
    "    'Muara Dua': [180, 185, 190, 195, 200, 205, 210, 215],\n",
    "    'Suhu (X1)': [20, 21, 19, 22, 20, 23, 24, 22],  # Faktor Eksogen 1\n",
    "    'Harga Listrik per Watt (X2)': [5.5, 5.4, 5.6, 5.5,\n",
    "                                    5.7, 5.8, 5.9, 5.6]  # Faktor Eksogen 2\n",
    "}\n",
    "\n",
    "# Membuat DataFrame\n",
    "df = pd.DataFrame(data)\n",
    "\n",
    "# Tampilkan DataFrame\n",
    "display(df)\n"
   ]
  },
  {
   "cell_type": "code",
   "execution_count": 12,
   "metadata": {},
   "outputs": [
    {
     "name": "stdout",
     "output_type": "stream",
     "text": [
      "\n",
      "Metrik Kesalahan untuk Banda Sakti:\n"
     ]
    },
    {
     "data": {
      "text/html": [
       "<div>\n",
       "<style scoped>\n",
       "    .dataframe tbody tr th:only-of-type {\n",
       "        vertical-align: middle;\n",
       "    }\n",
       "\n",
       "    .dataframe tbody tr th {\n",
       "        vertical-align: top;\n",
       "    }\n",
       "\n",
       "    .dataframe thead th {\n",
       "        text-align: right;\n",
       "    }\n",
       "</style>\n",
       "<table border=\"1\" class=\"dataframe\">\n",
       "  <thead>\n",
       "    <tr style=\"text-align: right;\">\n",
       "      <th></th>\n",
       "      <th>MAE</th>\n",
       "      <th>RMSE</th>\n",
       "      <th>MAPE</th>\n",
       "    </tr>\n",
       "  </thead>\n",
       "  <tbody>\n",
       "    <tr>\n",
       "      <th>MA (3-Mingguan)</th>\n",
       "      <td>4.44</td>\n",
       "      <td>4.91</td>\n",
       "      <td>2.55</td>\n",
       "    </tr>\n",
       "    <tr>\n",
       "      <th>AR(1)</th>\n",
       "      <td>38.00</td>\n",
       "      <td>38.28</td>\n",
       "      <td>22.33</td>\n",
       "    </tr>\n",
       "    <tr>\n",
       "      <th>AR+MA</th>\n",
       "      <td>51.46</td>\n",
       "      <td>63.66</td>\n",
       "      <td>31.73</td>\n",
       "    </tr>\n",
       "    <tr>\n",
       "      <th>VARMA</th>\n",
       "      <td>24.46</td>\n",
       "      <td>27.18</td>\n",
       "      <td>14.04</td>\n",
       "    </tr>\n",
       "  </tbody>\n",
       "</table>\n",
       "</div>"
      ],
      "text/plain": [
       "                   MAE   RMSE   MAPE\n",
       "MA (3-Mingguan)   4.44   4.91   2.55\n",
       "AR(1)            38.00  38.28  22.33\n",
       "AR+MA            51.46  63.66  31.73\n",
       "VARMA            24.46  27.18  14.04"
      ]
     },
     "metadata": {},
     "output_type": "display_data"
    },
    {
     "name": "stdout",
     "output_type": "stream",
     "text": [
      "\n",
      "Metrik Kesalahan untuk Blang Mangat:\n"
     ]
    },
    {
     "data": {
      "text/html": [
       "<div>\n",
       "<style scoped>\n",
       "    .dataframe tbody tr th:only-of-type {\n",
       "        vertical-align: middle;\n",
       "    }\n",
       "\n",
       "    .dataframe tbody tr th {\n",
       "        vertical-align: top;\n",
       "    }\n",
       "\n",
       "    .dataframe thead th {\n",
       "        text-align: right;\n",
       "    }\n",
       "</style>\n",
       "<table border=\"1\" class=\"dataframe\">\n",
       "  <thead>\n",
       "    <tr style=\"text-align: right;\">\n",
       "      <th></th>\n",
       "      <th>MAE</th>\n",
       "      <th>RMSE</th>\n",
       "      <th>MAPE</th>\n",
       "    </tr>\n",
       "  </thead>\n",
       "  <tbody>\n",
       "    <tr>\n",
       "      <th>MA (3-Mingguan)</th>\n",
       "      <td>5.28</td>\n",
       "      <td>5.97</td>\n",
       "      <td>2.31</td>\n",
       "    </tr>\n",
       "    <tr>\n",
       "      <th>AR(1)</th>\n",
       "      <td>49.29</td>\n",
       "      <td>49.59</td>\n",
       "      <td>22.03</td>\n",
       "    </tr>\n",
       "    <tr>\n",
       "      <th>AR+MA</th>\n",
       "      <td>67.46</td>\n",
       "      <td>84.17</td>\n",
       "      <td>31.49</td>\n",
       "    </tr>\n",
       "    <tr>\n",
       "      <th>VARMA</th>\n",
       "      <td>29.61</td>\n",
       "      <td>33.41</td>\n",
       "      <td>12.97</td>\n",
       "    </tr>\n",
       "  </tbody>\n",
       "</table>\n",
       "</div>"
      ],
      "text/plain": [
       "                   MAE   RMSE   MAPE\n",
       "MA (3-Mingguan)   5.28   5.97   2.31\n",
       "AR(1)            49.29  49.59  22.03\n",
       "AR+MA            67.46  84.17  31.49\n",
       "VARMA            29.61  33.41  12.97"
      ]
     },
     "metadata": {},
     "output_type": "display_data"
    },
    {
     "name": "stdout",
     "output_type": "stream",
     "text": [
      "\n",
      "Metrik Kesalahan untuk Muara Satu:\n"
     ]
    },
    {
     "data": {
      "text/html": [
       "<div>\n",
       "<style scoped>\n",
       "    .dataframe tbody tr th:only-of-type {\n",
       "        vertical-align: middle;\n",
       "    }\n",
       "\n",
       "    .dataframe tbody tr th {\n",
       "        vertical-align: top;\n",
       "    }\n",
       "\n",
       "    .dataframe thead th {\n",
       "        text-align: right;\n",
       "    }\n",
       "</style>\n",
       "<table border=\"1\" class=\"dataframe\">\n",
       "  <thead>\n",
       "    <tr style=\"text-align: right;\">\n",
       "      <th></th>\n",
       "      <th>MAE</th>\n",
       "      <th>RMSE</th>\n",
       "      <th>MAPE</th>\n",
       "    </tr>\n",
       "  </thead>\n",
       "  <tbody>\n",
       "    <tr>\n",
       "      <th>MA (3-Mingguan)</th>\n",
       "      <td>5.00</td>\n",
       "      <td>5.00</td>\n",
       "      <td>3.29</td>\n",
       "    </tr>\n",
       "    <tr>\n",
       "      <th>AR(1)</th>\n",
       "      <td>34.00</td>\n",
       "      <td>34.06</td>\n",
       "      <td>22.68</td>\n",
       "    </tr>\n",
       "    <tr>\n",
       "      <th>AR+MA</th>\n",
       "      <td>45.38</td>\n",
       "      <td>55.54</td>\n",
       "      <td>31.94</td>\n",
       "    </tr>\n",
       "    <tr>\n",
       "      <th>VARMA</th>\n",
       "      <td>25.50</td>\n",
       "      <td>26.90</td>\n",
       "      <td>16.54</td>\n",
       "    </tr>\n",
       "  </tbody>\n",
       "</table>\n",
       "</div>"
      ],
      "text/plain": [
       "                   MAE   RMSE   MAPE\n",
       "MA (3-Mingguan)   5.00   5.00   3.29\n",
       "AR(1)            34.00  34.06  22.68\n",
       "AR+MA            45.38  55.54  31.94\n",
       "VARMA            25.50  26.90  16.54"
      ]
     },
     "metadata": {},
     "output_type": "display_data"
    },
    {
     "name": "stdout",
     "output_type": "stream",
     "text": [
      "\n",
      "Metrik Kesalahan untuk Muara Dua:\n"
     ]
    },
    {
     "data": {
      "text/html": [
       "<div>\n",
       "<style scoped>\n",
       "    .dataframe tbody tr th:only-of-type {\n",
       "        vertical-align: middle;\n",
       "    }\n",
       "\n",
       "    .dataframe tbody tr th {\n",
       "        vertical-align: top;\n",
       "    }\n",
       "\n",
       "    .dataframe thead th {\n",
       "        text-align: right;\n",
       "    }\n",
       "</style>\n",
       "<table border=\"1\" class=\"dataframe\">\n",
       "  <thead>\n",
       "    <tr style=\"text-align: right;\">\n",
       "      <th></th>\n",
       "      <th>MAE</th>\n",
       "      <th>RMSE</th>\n",
       "      <th>MAPE</th>\n",
       "    </tr>\n",
       "  </thead>\n",
       "  <tbody>\n",
       "    <tr>\n",
       "      <th>MA (3-Mingguan)</th>\n",
       "      <td>5.00</td>\n",
       "      <td>5.00</td>\n",
       "      <td>2.47</td>\n",
       "    </tr>\n",
       "    <tr>\n",
       "      <th>AR(1)</th>\n",
       "      <td>44.00</td>\n",
       "      <td>44.05</td>\n",
       "      <td>22.01</td>\n",
       "    </tr>\n",
       "    <tr>\n",
       "      <th>AR+MA</th>\n",
       "      <td>60.38</td>\n",
       "      <td>75.44</td>\n",
       "      <td>31.45</td>\n",
       "    </tr>\n",
       "    <tr>\n",
       "      <th>VARMA</th>\n",
       "      <td>26.99</td>\n",
       "      <td>28.31</td>\n",
       "      <td>13.22</td>\n",
       "    </tr>\n",
       "  </tbody>\n",
       "</table>\n",
       "</div>"
      ],
      "text/plain": [
       "                   MAE   RMSE   MAPE\n",
       "MA (3-Mingguan)   5.00   5.00   2.47\n",
       "AR(1)            44.00  44.05  22.01\n",
       "AR+MA            60.38  75.44  31.45\n",
       "VARMA            26.99  28.31  13.22"
      ]
     },
     "metadata": {},
     "output_type": "display_data"
    }
   ],
   "source": [
    "# Daftar wilayah\n",
    "regions = ['Banda Sakti', 'Blang Mangat', 'Muara Satu', 'Muara Dua']\n",
    "\n",
    "# Menyimpan DataFrame per wilayah\n",
    "df_regions = {}\n",
    "\n",
    "# Metrik kesalahan per wilayah\n",
    "error_metrics = {}\n",
    "\n",
    "# Definisikan warna untuk model\n",
    "colors = {\n",
    "    'Pemakaian Asli': 'blue',\n",
    "    'MA (3-Mingguan)': 'orange',\n",
    "    'AR(1)': 'green',\n",
    "    'AR+MA': 'red',\n",
    "    'VARMA': 'purple'\n",
    "}\n",
    "\n",
    "for region in regions:\n",
    "    # Membuat salinan DataFrame untuk setiap wilayah\n",
    "    df_region = df[['Minggu', region, 'Suhu (X1)', 'Harga Listrik per Watt (X2)']].copy()\n",
    "    df_region.rename(columns={region: 'Y'}, inplace=True)\n",
    "    \n",
    "    # 1. Menghitung Moving Average (MA) 3-mingguan\n",
    "    def moving_average(series, period=3):\n",
    "        return series.rolling(window=period).mean()\n",
    "    \n",
    "    df_region['MA (3-Mingguan)'] = moving_average(df_region['Y'])\n",
    "    \n",
    "    # 2. Menghitung model Autoregressive (AR)\n",
    "    phi_ar = 0.8  # Nilai phi untuk model AR(1)\n",
    "    df_region['AR(1)'] = df_region['Y'].shift(1) * phi_ar\n",
    "    \n",
    "    # 3. Menghitung model AR + MA\n",
    "    theta_ma = 0.2  # Nilai theta untuk model MA(1)\n",
    "    df_region['Residuals'] = df_region['Y'] - df_region['MA (3-Mingguan)']\n",
    "    df_region['Residuals'].fillna(0, inplace=True)  # Mengganti NaN dengan 0\n",
    "    \n",
    "    df_region['AR+MA'] = df_region['AR(1)'] + theta_ma * df_region['Residuals'].shift(1)\n",
    "    df_region['AR+MA'].fillna(0, inplace=True)  # Mengganti NaN dengan 0\n",
    "    \n",
    "    # 4. Menghitung model VARMA(1,1)\n",
    "    phi_varma = 1.0298\n",
    "    theta_varma = 4.445\n",
    "    beta1 = 0.3\n",
    "    beta2 = 0.2\n",
    "    \n",
    "    def calculate_varma_values(series, residuals, phi, theta, x1, x2, beta1, beta2):\n",
    "        varma_values = [None, None]  # VARMA tidak dapat dihitung untuk 2 minggu pertama\n",
    "        for t in range(2, len(series)):\n",
    "            varma_value = (phi * series[t-1] + theta * residuals[t-1] +\n",
    "                           beta1 * x1[t-1] + beta2 * x2[t-1])\n",
    "            varma_values.append(varma_value)\n",
    "        return varma_values\n",
    "    \n",
    "    df_region['VARMA'] = calculate_varma_values(\n",
    "        df_region['Y'], df_region['Residuals'], phi_varma, theta_varma,\n",
    "        df_region['Suhu (X1)'], df_region['Harga Listrik per Watt (X2)'], beta1, beta2)\n",
    "    \n",
    "    # 5. Menghitung MAPE, RMSE, dan MAE\n",
    "    error_metrics_region = {}\n",
    "    models = ['MA (3-Mingguan)', 'AR(1)', 'AR+MA', 'VARMA']\n",
    "    for model in models:\n",
    "        actual = df_region['Y'][df_region[model].notna()]\n",
    "        predicted = df_region[model][df_region[model].notna()]\n",
    "        mae = mean_absolute_error(actual, predicted)\n",
    "        rmse = mean_squared_error(actual, predicted, squared=False)\n",
    "        mape = np.mean(np.abs((actual - predicted) / actual)) * 100\n",
    "        error_metrics_region[model] = {'MAE': round(mae, 2), 'RMSE': round(rmse, 2), 'MAPE': round(mape, 2)}\n",
    "    error_metrics[region] = error_metrics_region\n",
    "    \n",
    "    # Menyimpan df_region\n",
    "    df_regions[region] = df_region.copy()\n",
    "\n",
    "# Menampilkan metrik kesalahan untuk setiap wilayah\n",
    "for region in regions:\n",
    "    print(f\"\\nMetrik Kesalahan untuk {region}:\")\n",
    "    error_df_region = pd.DataFrame(error_metrics[region]).T\n",
    "    display(error_df_region)\n"
   ]
  },
  {
   "cell_type": "code",
   "execution_count": 13,
   "metadata": {},
   "outputs": [
    {
     "data": {
      "application/vnd.plotly.v1+json": {
       "config": {
        "plotlyServerURL": "https://plot.ly"
       },
       "data": [
        {
         "line": {
          "color": "blue"
         },
         "mode": "lines+markers",
         "name": "Pemakaian Asli",
         "type": "scatter",
         "x": [
          "Week 1",
          "Week 2",
          "Week 3",
          "Week 4",
          "Week 5",
          "Week 6",
          "Week 7",
          "Week 8"
         ],
         "xaxis": "x",
         "y": [
          150,
          160,
          155,
          165,
          170,
          175,
          180,
          185
         ],
         "yaxis": "y"
        },
        {
         "line": {
          "color": "orange"
         },
         "mode": "lines+markers",
         "name": "MA (3-Mingguan)",
         "showlegend": true,
         "type": "scatter",
         "x": [
          "Week 1",
          "Week 2",
          "Week 3",
          "Week 4",
          "Week 5",
          "Week 6",
          "Week 7",
          "Week 8"
         ],
         "xaxis": "x",
         "y": [
          null,
          null,
          155,
          160,
          163.33333333333334,
          170,
          175,
          180
         ],
         "yaxis": "y"
        },
        {
         "line": {
          "color": "green"
         },
         "mode": "lines+markers",
         "name": "AR(1)",
         "showlegend": true,
         "type": "scatter",
         "x": [
          "Week 1",
          "Week 2",
          "Week 3",
          "Week 4",
          "Week 5",
          "Week 6",
          "Week 7",
          "Week 8"
         ],
         "xaxis": "x",
         "y": [
          null,
          120,
          128,
          124,
          132,
          136,
          140,
          144
         ],
         "yaxis": "y"
        },
        {
         "line": {
          "color": "red"
         },
         "mode": "lines+markers",
         "name": "AR+MA",
         "showlegend": true,
         "type": "scatter",
         "x": [
          "Week 1",
          "Week 2",
          "Week 3",
          "Week 4",
          "Week 5",
          "Week 6",
          "Week 7",
          "Week 8"
         ],
         "xaxis": "x",
         "y": [
          0,
          120,
          128,
          124,
          133,
          137.33333333333334,
          141,
          145
         ],
         "yaxis": "y"
        },
        {
         "line": {
          "color": "purple"
         },
         "mode": "lines+markers",
         "name": "VARMA",
         "showlegend": true,
         "type": "scatter",
         "x": [
          "Week 1",
          "Week 2",
          "Week 3",
          "Week 4",
          "Week 5",
          "Week 6",
          "Week 7",
          "Week 8"
         ],
         "xaxis": "x",
         "y": [
          null,
          null,
          172.14800000000002,
          166.439,
          199.84199999999998,
          211.8393333333333,
          210.5,
          215.969
         ],
         "yaxis": "y"
        },
        {
         "line": {
          "color": "blue"
         },
         "mode": "lines+markers",
         "name": "Pemakaian Asli",
         "type": "scatter",
         "x": [
          "Week 1",
          "Week 2",
          "Week 3",
          "Week 4",
          "Week 5",
          "Week 6",
          "Week 7",
          "Week 8"
         ],
         "xaxis": "x2",
         "y": [
          200,
          210,
          205,
          220,
          225,
          230,
          235,
          240
         ],
         "yaxis": "y2"
        },
        {
         "line": {
          "color": "orange"
         },
         "mode": "lines+markers",
         "name": "",
         "showlegend": false,
         "type": "scatter",
         "x": [
          "Week 1",
          "Week 2",
          "Week 3",
          "Week 4",
          "Week 5",
          "Week 6",
          "Week 7",
          "Week 8"
         ],
         "xaxis": "x2",
         "y": [
          null,
          null,
          205,
          211.66666666666666,
          216.66666666666666,
          225,
          230,
          235
         ],
         "yaxis": "y2"
        },
        {
         "line": {
          "color": "green"
         },
         "mode": "lines+markers",
         "name": "",
         "showlegend": false,
         "type": "scatter",
         "x": [
          "Week 1",
          "Week 2",
          "Week 3",
          "Week 4",
          "Week 5",
          "Week 6",
          "Week 7",
          "Week 8"
         ],
         "xaxis": "x2",
         "y": [
          null,
          160,
          168,
          164,
          176,
          180,
          184,
          188
         ],
         "yaxis": "y2"
        },
        {
         "line": {
          "color": "red"
         },
         "mode": "lines+markers",
         "name": "",
         "showlegend": false,
         "type": "scatter",
         "x": [
          "Week 1",
          "Week 2",
          "Week 3",
          "Week 4",
          "Week 5",
          "Week 6",
          "Week 7",
          "Week 8"
         ],
         "xaxis": "x2",
         "y": [
          0,
          160,
          168,
          164,
          177.66666666666666,
          181.66666666666666,
          185,
          189
         ],
         "yaxis": "y2"
        },
        {
         "line": {
          "color": "purple"
         },
         "mode": "lines+markers",
         "name": "",
         "showlegend": false,
         "type": "scatter",
         "x": [
          "Week 1",
          "Week 2",
          "Week 3",
          "Week 4",
          "Week 5",
          "Week 6",
          "Week 7",
          "Week 8"
         ],
         "xaxis": "x2",
         "y": [
          null,
          null,
          223.63800000000003,
          217.929,
          271.29766666666677,
          275.8866666666667,
          267.139,
          272.608
         ],
         "yaxis": "y2"
        },
        {
         "line": {
          "color": "blue"
         },
         "mode": "lines+markers",
         "name": "Pemakaian Asli",
         "type": "scatter",
         "x": [
          "Week 1",
          "Week 2",
          "Week 3",
          "Week 4",
          "Week 5",
          "Week 6",
          "Week 7",
          "Week 8"
         ],
         "xaxis": "x3",
         "y": [
          130,
          135,
          140,
          145,
          150,
          155,
          160,
          165
         ],
         "yaxis": "y3"
        },
        {
         "line": {
          "color": "orange"
         },
         "mode": "lines+markers",
         "name": "",
         "showlegend": false,
         "type": "scatter",
         "x": [
          "Week 1",
          "Week 2",
          "Week 3",
          "Week 4",
          "Week 5",
          "Week 6",
          "Week 7",
          "Week 8"
         ],
         "xaxis": "x3",
         "y": [
          null,
          null,
          135,
          140,
          145,
          150,
          155,
          160
         ],
         "yaxis": "y3"
        },
        {
         "line": {
          "color": "green"
         },
         "mode": "lines+markers",
         "name": "",
         "showlegend": false,
         "type": "scatter",
         "x": [
          "Week 1",
          "Week 2",
          "Week 3",
          "Week 4",
          "Week 5",
          "Week 6",
          "Week 7",
          "Week 8"
         ],
         "xaxis": "x3",
         "y": [
          null,
          104,
          108,
          112,
          116,
          120,
          124,
          128
         ],
         "yaxis": "y3"
        },
        {
         "line": {
          "color": "red"
         },
         "mode": "lines+markers",
         "name": "",
         "showlegend": false,
         "type": "scatter",
         "x": [
          "Week 1",
          "Week 2",
          "Week 3",
          "Week 4",
          "Week 5",
          "Week 6",
          "Week 7",
          "Week 8"
         ],
         "xaxis": "x3",
         "y": [
          0,
          104,
          108,
          113,
          117,
          121,
          125,
          129
         ],
         "yaxis": "y3"
        },
        {
         "line": {
          "color": "purple"
         },
         "mode": "lines+markers",
         "name": "",
         "showlegend": false,
         "type": "scatter",
         "x": [
          "Week 1",
          "Week 2",
          "Week 3",
          "Week 4",
          "Week 5",
          "Week 6",
          "Week 7",
          "Week 8"
         ],
         "xaxis": "x3",
         "y": [
          null,
          null,
          146.40300000000002,
          173.21699999999998,
          179.24599999999998,
          183.83499999999998,
          189.904,
          195.373
         ],
         "yaxis": "y3"
        },
        {
         "line": {
          "color": "blue"
         },
         "mode": "lines+markers",
         "name": "Pemakaian Asli",
         "type": "scatter",
         "x": [
          "Week 1",
          "Week 2",
          "Week 3",
          "Week 4",
          "Week 5",
          "Week 6",
          "Week 7",
          "Week 8"
         ],
         "xaxis": "x4",
         "y": [
          180,
          185,
          190,
          195,
          200,
          205,
          210,
          215
         ],
         "yaxis": "y4"
        },
        {
         "line": {
          "color": "orange"
         },
         "mode": "lines+markers",
         "name": "",
         "showlegend": false,
         "type": "scatter",
         "x": [
          "Week 1",
          "Week 2",
          "Week 3",
          "Week 4",
          "Week 5",
          "Week 6",
          "Week 7",
          "Week 8"
         ],
         "xaxis": "x4",
         "y": [
          null,
          null,
          185,
          190,
          195,
          200,
          205,
          210
         ],
         "yaxis": "y4"
        },
        {
         "line": {
          "color": "green"
         },
         "mode": "lines+markers",
         "name": "",
         "showlegend": false,
         "type": "scatter",
         "x": [
          "Week 1",
          "Week 2",
          "Week 3",
          "Week 4",
          "Week 5",
          "Week 6",
          "Week 7",
          "Week 8"
         ],
         "xaxis": "x4",
         "y": [
          null,
          144,
          148,
          152,
          156,
          160,
          164,
          168
         ],
         "yaxis": "y4"
        },
        {
         "line": {
          "color": "red"
         },
         "mode": "lines+markers",
         "name": "",
         "showlegend": false,
         "type": "scatter",
         "x": [
          "Week 1",
          "Week 2",
          "Week 3",
          "Week 4",
          "Week 5",
          "Week 6",
          "Week 7",
          "Week 8"
         ],
         "xaxis": "x4",
         "y": [
          0,
          144,
          148,
          153,
          157,
          161,
          165,
          169
         ],
         "yaxis": "y4"
        },
        {
         "line": {
          "color": "purple"
         },
         "mode": "lines+markers",
         "name": "",
         "showlegend": false,
         "type": "scatter",
         "x": [
          "Week 1",
          "Week 2",
          "Week 3",
          "Week 4",
          "Week 5",
          "Week 6",
          "Week 7",
          "Week 8"
         ],
         "xaxis": "x4",
         "y": [
          null,
          null,
          197.89300000000003,
          224.707,
          230.736,
          235.325,
          241.394,
          246.863
         ],
         "yaxis": "y4"
        }
       ],
       "layout": {
        "annotations": [
         {
          "font": {
           "size": 16
          },
          "showarrow": false,
          "text": "Banda Sakti",
          "x": 0.225,
          "xanchor": "center",
          "xref": "paper",
          "y": 1,
          "yanchor": "bottom",
          "yref": "paper"
         },
         {
          "font": {
           "size": 16
          },
          "showarrow": false,
          "text": "Blang Mangat",
          "x": 0.775,
          "xanchor": "center",
          "xref": "paper",
          "y": 1,
          "yanchor": "bottom",
          "yref": "paper"
         },
         {
          "font": {
           "size": 16
          },
          "showarrow": false,
          "text": "Muara Satu",
          "x": 0.225,
          "xanchor": "center",
          "xref": "paper",
          "y": 0.375,
          "yanchor": "bottom",
          "yref": "paper"
         },
         {
          "font": {
           "size": 16
          },
          "showarrow": false,
          "text": "Muara Dua",
          "x": 0.775,
          "xanchor": "center",
          "xref": "paper",
          "y": 0.375,
          "yanchor": "bottom",
          "yref": "paper"
         }
        ],
        "height": 800,
        "template": {
         "data": {
          "bar": [
           {
            "error_x": {
             "color": "#2a3f5f"
            },
            "error_y": {
             "color": "#2a3f5f"
            },
            "marker": {
             "line": {
              "color": "#E5ECF6",
              "width": 0.5
             },
             "pattern": {
              "fillmode": "overlay",
              "size": 10,
              "solidity": 0.2
             }
            },
            "type": "bar"
           }
          ],
          "barpolar": [
           {
            "marker": {
             "line": {
              "color": "#E5ECF6",
              "width": 0.5
             },
             "pattern": {
              "fillmode": "overlay",
              "size": 10,
              "solidity": 0.2
             }
            },
            "type": "barpolar"
           }
          ],
          "carpet": [
           {
            "aaxis": {
             "endlinecolor": "#2a3f5f",
             "gridcolor": "white",
             "linecolor": "white",
             "minorgridcolor": "white",
             "startlinecolor": "#2a3f5f"
            },
            "baxis": {
             "endlinecolor": "#2a3f5f",
             "gridcolor": "white",
             "linecolor": "white",
             "minorgridcolor": "white",
             "startlinecolor": "#2a3f5f"
            },
            "type": "carpet"
           }
          ],
          "choropleth": [
           {
            "colorbar": {
             "outlinewidth": 0,
             "ticks": ""
            },
            "type": "choropleth"
           }
          ],
          "contour": [
           {
            "colorbar": {
             "outlinewidth": 0,
             "ticks": ""
            },
            "colorscale": [
             [
              0,
              "#0d0887"
             ],
             [
              0.1111111111111111,
              "#46039f"
             ],
             [
              0.2222222222222222,
              "#7201a8"
             ],
             [
              0.3333333333333333,
              "#9c179e"
             ],
             [
              0.4444444444444444,
              "#bd3786"
             ],
             [
              0.5555555555555556,
              "#d8576b"
             ],
             [
              0.6666666666666666,
              "#ed7953"
             ],
             [
              0.7777777777777778,
              "#fb9f3a"
             ],
             [
              0.8888888888888888,
              "#fdca26"
             ],
             [
              1,
              "#f0f921"
             ]
            ],
            "type": "contour"
           }
          ],
          "contourcarpet": [
           {
            "colorbar": {
             "outlinewidth": 0,
             "ticks": ""
            },
            "type": "contourcarpet"
           }
          ],
          "heatmap": [
           {
            "colorbar": {
             "outlinewidth": 0,
             "ticks": ""
            },
            "colorscale": [
             [
              0,
              "#0d0887"
             ],
             [
              0.1111111111111111,
              "#46039f"
             ],
             [
              0.2222222222222222,
              "#7201a8"
             ],
             [
              0.3333333333333333,
              "#9c179e"
             ],
             [
              0.4444444444444444,
              "#bd3786"
             ],
             [
              0.5555555555555556,
              "#d8576b"
             ],
             [
              0.6666666666666666,
              "#ed7953"
             ],
             [
              0.7777777777777778,
              "#fb9f3a"
             ],
             [
              0.8888888888888888,
              "#fdca26"
             ],
             [
              1,
              "#f0f921"
             ]
            ],
            "type": "heatmap"
           }
          ],
          "heatmapgl": [
           {
            "colorbar": {
             "outlinewidth": 0,
             "ticks": ""
            },
            "colorscale": [
             [
              0,
              "#0d0887"
             ],
             [
              0.1111111111111111,
              "#46039f"
             ],
             [
              0.2222222222222222,
              "#7201a8"
             ],
             [
              0.3333333333333333,
              "#9c179e"
             ],
             [
              0.4444444444444444,
              "#bd3786"
             ],
             [
              0.5555555555555556,
              "#d8576b"
             ],
             [
              0.6666666666666666,
              "#ed7953"
             ],
             [
              0.7777777777777778,
              "#fb9f3a"
             ],
             [
              0.8888888888888888,
              "#fdca26"
             ],
             [
              1,
              "#f0f921"
             ]
            ],
            "type": "heatmapgl"
           }
          ],
          "histogram": [
           {
            "marker": {
             "pattern": {
              "fillmode": "overlay",
              "size": 10,
              "solidity": 0.2
             }
            },
            "type": "histogram"
           }
          ],
          "histogram2d": [
           {
            "colorbar": {
             "outlinewidth": 0,
             "ticks": ""
            },
            "colorscale": [
             [
              0,
              "#0d0887"
             ],
             [
              0.1111111111111111,
              "#46039f"
             ],
             [
              0.2222222222222222,
              "#7201a8"
             ],
             [
              0.3333333333333333,
              "#9c179e"
             ],
             [
              0.4444444444444444,
              "#bd3786"
             ],
             [
              0.5555555555555556,
              "#d8576b"
             ],
             [
              0.6666666666666666,
              "#ed7953"
             ],
             [
              0.7777777777777778,
              "#fb9f3a"
             ],
             [
              0.8888888888888888,
              "#fdca26"
             ],
             [
              1,
              "#f0f921"
             ]
            ],
            "type": "histogram2d"
           }
          ],
          "histogram2dcontour": [
           {
            "colorbar": {
             "outlinewidth": 0,
             "ticks": ""
            },
            "colorscale": [
             [
              0,
              "#0d0887"
             ],
             [
              0.1111111111111111,
              "#46039f"
             ],
             [
              0.2222222222222222,
              "#7201a8"
             ],
             [
              0.3333333333333333,
              "#9c179e"
             ],
             [
              0.4444444444444444,
              "#bd3786"
             ],
             [
              0.5555555555555556,
              "#d8576b"
             ],
             [
              0.6666666666666666,
              "#ed7953"
             ],
             [
              0.7777777777777778,
              "#fb9f3a"
             ],
             [
              0.8888888888888888,
              "#fdca26"
             ],
             [
              1,
              "#f0f921"
             ]
            ],
            "type": "histogram2dcontour"
           }
          ],
          "mesh3d": [
           {
            "colorbar": {
             "outlinewidth": 0,
             "ticks": ""
            },
            "type": "mesh3d"
           }
          ],
          "parcoords": [
           {
            "line": {
             "colorbar": {
              "outlinewidth": 0,
              "ticks": ""
             }
            },
            "type": "parcoords"
           }
          ],
          "pie": [
           {
            "automargin": true,
            "type": "pie"
           }
          ],
          "scatter": [
           {
            "fillpattern": {
             "fillmode": "overlay",
             "size": 10,
             "solidity": 0.2
            },
            "type": "scatter"
           }
          ],
          "scatter3d": [
           {
            "line": {
             "colorbar": {
              "outlinewidth": 0,
              "ticks": ""
             }
            },
            "marker": {
             "colorbar": {
              "outlinewidth": 0,
              "ticks": ""
             }
            },
            "type": "scatter3d"
           }
          ],
          "scattercarpet": [
           {
            "marker": {
             "colorbar": {
              "outlinewidth": 0,
              "ticks": ""
             }
            },
            "type": "scattercarpet"
           }
          ],
          "scattergeo": [
           {
            "marker": {
             "colorbar": {
              "outlinewidth": 0,
              "ticks": ""
             }
            },
            "type": "scattergeo"
           }
          ],
          "scattergl": [
           {
            "marker": {
             "colorbar": {
              "outlinewidth": 0,
              "ticks": ""
             }
            },
            "type": "scattergl"
           }
          ],
          "scattermapbox": [
           {
            "marker": {
             "colorbar": {
              "outlinewidth": 0,
              "ticks": ""
             }
            },
            "type": "scattermapbox"
           }
          ],
          "scatterpolar": [
           {
            "marker": {
             "colorbar": {
              "outlinewidth": 0,
              "ticks": ""
             }
            },
            "type": "scatterpolar"
           }
          ],
          "scatterpolargl": [
           {
            "marker": {
             "colorbar": {
              "outlinewidth": 0,
              "ticks": ""
             }
            },
            "type": "scatterpolargl"
           }
          ],
          "scatterternary": [
           {
            "marker": {
             "colorbar": {
              "outlinewidth": 0,
              "ticks": ""
             }
            },
            "type": "scatterternary"
           }
          ],
          "surface": [
           {
            "colorbar": {
             "outlinewidth": 0,
             "ticks": ""
            },
            "colorscale": [
             [
              0,
              "#0d0887"
             ],
             [
              0.1111111111111111,
              "#46039f"
             ],
             [
              0.2222222222222222,
              "#7201a8"
             ],
             [
              0.3333333333333333,
              "#9c179e"
             ],
             [
              0.4444444444444444,
              "#bd3786"
             ],
             [
              0.5555555555555556,
              "#d8576b"
             ],
             [
              0.6666666666666666,
              "#ed7953"
             ],
             [
              0.7777777777777778,
              "#fb9f3a"
             ],
             [
              0.8888888888888888,
              "#fdca26"
             ],
             [
              1,
              "#f0f921"
             ]
            ],
            "type": "surface"
           }
          ],
          "table": [
           {
            "cells": {
             "fill": {
              "color": "#EBF0F8"
             },
             "line": {
              "color": "white"
             }
            },
            "header": {
             "fill": {
              "color": "#C8D4E3"
             },
             "line": {
              "color": "white"
             }
            },
            "type": "table"
           }
          ]
         },
         "layout": {
          "annotationdefaults": {
           "arrowcolor": "#2a3f5f",
           "arrowhead": 0,
           "arrowwidth": 1
          },
          "autotypenumbers": "strict",
          "coloraxis": {
           "colorbar": {
            "outlinewidth": 0,
            "ticks": ""
           }
          },
          "colorscale": {
           "diverging": [
            [
             0,
             "#8e0152"
            ],
            [
             0.1,
             "#c51b7d"
            ],
            [
             0.2,
             "#de77ae"
            ],
            [
             0.3,
             "#f1b6da"
            ],
            [
             0.4,
             "#fde0ef"
            ],
            [
             0.5,
             "#f7f7f7"
            ],
            [
             0.6,
             "#e6f5d0"
            ],
            [
             0.7,
             "#b8e186"
            ],
            [
             0.8,
             "#7fbc41"
            ],
            [
             0.9,
             "#4d9221"
            ],
            [
             1,
             "#276419"
            ]
           ],
           "sequential": [
            [
             0,
             "#0d0887"
            ],
            [
             0.1111111111111111,
             "#46039f"
            ],
            [
             0.2222222222222222,
             "#7201a8"
            ],
            [
             0.3333333333333333,
             "#9c179e"
            ],
            [
             0.4444444444444444,
             "#bd3786"
            ],
            [
             0.5555555555555556,
             "#d8576b"
            ],
            [
             0.6666666666666666,
             "#ed7953"
            ],
            [
             0.7777777777777778,
             "#fb9f3a"
            ],
            [
             0.8888888888888888,
             "#fdca26"
            ],
            [
             1,
             "#f0f921"
            ]
           ],
           "sequentialminus": [
            [
             0,
             "#0d0887"
            ],
            [
             0.1111111111111111,
             "#46039f"
            ],
            [
             0.2222222222222222,
             "#7201a8"
            ],
            [
             0.3333333333333333,
             "#9c179e"
            ],
            [
             0.4444444444444444,
             "#bd3786"
            ],
            [
             0.5555555555555556,
             "#d8576b"
            ],
            [
             0.6666666666666666,
             "#ed7953"
            ],
            [
             0.7777777777777778,
             "#fb9f3a"
            ],
            [
             0.8888888888888888,
             "#fdca26"
            ],
            [
             1,
             "#f0f921"
            ]
           ]
          },
          "colorway": [
           "#636efa",
           "#EF553B",
           "#00cc96",
           "#ab63fa",
           "#FFA15A",
           "#19d3f3",
           "#FF6692",
           "#B6E880",
           "#FF97FF",
           "#FECB52"
          ],
          "font": {
           "color": "#2a3f5f"
          },
          "geo": {
           "bgcolor": "white",
           "lakecolor": "white",
           "landcolor": "#E5ECF6",
           "showlakes": true,
           "showland": true,
           "subunitcolor": "white"
          },
          "hoverlabel": {
           "align": "left"
          },
          "hovermode": "closest",
          "mapbox": {
           "style": "light"
          },
          "paper_bgcolor": "white",
          "plot_bgcolor": "#E5ECF6",
          "polar": {
           "angularaxis": {
            "gridcolor": "white",
            "linecolor": "white",
            "ticks": ""
           },
           "bgcolor": "#E5ECF6",
           "radialaxis": {
            "gridcolor": "white",
            "linecolor": "white",
            "ticks": ""
           }
          },
          "scene": {
           "xaxis": {
            "backgroundcolor": "#E5ECF6",
            "gridcolor": "white",
            "gridwidth": 2,
            "linecolor": "white",
            "showbackground": true,
            "ticks": "",
            "zerolinecolor": "white"
           },
           "yaxis": {
            "backgroundcolor": "#E5ECF6",
            "gridcolor": "white",
            "gridwidth": 2,
            "linecolor": "white",
            "showbackground": true,
            "ticks": "",
            "zerolinecolor": "white"
           },
           "zaxis": {
            "backgroundcolor": "#E5ECF6",
            "gridcolor": "white",
            "gridwidth": 2,
            "linecolor": "white",
            "showbackground": true,
            "ticks": "",
            "zerolinecolor": "white"
           }
          },
          "shapedefaults": {
           "line": {
            "color": "#2a3f5f"
           }
          },
          "ternary": {
           "aaxis": {
            "gridcolor": "white",
            "linecolor": "white",
            "ticks": ""
           },
           "baxis": {
            "gridcolor": "white",
            "linecolor": "white",
            "ticks": ""
           },
           "bgcolor": "#E5ECF6",
           "caxis": {
            "gridcolor": "white",
            "linecolor": "white",
            "ticks": ""
           }
          },
          "title": {
           "x": 0.05
          },
          "xaxis": {
           "automargin": true,
           "gridcolor": "white",
           "linecolor": "white",
           "ticks": "",
           "title": {
            "standoff": 15
           },
           "zerolinecolor": "white",
           "zerolinewidth": 2
          },
          "yaxis": {
           "automargin": true,
           "gridcolor": "white",
           "linecolor": "white",
           "ticks": "",
           "title": {
            "standoff": 15
           },
           "zerolinecolor": "white",
           "zerolinewidth": 2
          }
         }
        },
        "title": {
         "text": "Perbandingan Pemakaian Listrik per Wilayah"
        },
        "xaxis": {
         "anchor": "y",
         "domain": [
          0,
          0.45
         ],
         "title": {
          "text": "Minggu"
         }
        },
        "xaxis2": {
         "anchor": "y2",
         "domain": [
          0.55,
          1
         ],
         "title": {
          "text": "Minggu"
         }
        },
        "xaxis3": {
         "anchor": "y3",
         "domain": [
          0,
          0.45
         ],
         "title": {
          "text": "Minggu"
         }
        },
        "xaxis4": {
         "anchor": "y4",
         "domain": [
          0.55,
          1
         ],
         "title": {
          "text": "Minggu"
         }
        },
        "yaxis": {
         "anchor": "x",
         "domain": [
          0.625,
          1
         ],
         "title": {
          "text": "Pemakaian Listrik (mWh)"
         }
        },
        "yaxis2": {
         "anchor": "x2",
         "domain": [
          0.625,
          1
         ],
         "title": {
          "text": "Pemakaian Listrik (mWh)"
         }
        },
        "yaxis3": {
         "anchor": "x3",
         "domain": [
          0,
          0.375
         ],
         "title": {
          "text": "Pemakaian Listrik (mWh)"
         }
        },
        "yaxis4": {
         "anchor": "x4",
         "domain": [
          0,
          0.375
         ],
         "title": {
          "text": "Pemakaian Listrik (mWh)"
         }
        }
       }
      }
     },
     "metadata": {},
     "output_type": "display_data"
    }
   ],
   "source": [
    "# 7. Plotting grafik perbandingan per wilayah dalam grid 2x2 menggunakan Plotly\n",
    "fig = make_subplots(rows=2, cols=2, subplot_titles=regions)\n",
    "\n",
    "for idx, region in enumerate(regions):\n",
    "    df_region = df_regions[region]\n",
    "    row = idx // 2 + 1\n",
    "    col = idx % 2 + 1\n",
    "    \n",
    "    # Pemakaian Asli\n",
    "    fig.add_trace(go.Scatter(x=df_region['Minggu'], y=df_region['Y'], mode='lines+markers', \n",
    "                             name='Pemakaian Asli', line=dict(color=colors['Pemakaian Asli'])), row=row, col=col)\n",
    "    \n",
    "    # Menambahkan model dengan warna yang ditentukan\n",
    "    for model in models:\n",
    "        show_legend = (region == regions[0])  # Hanya tunjukkan legend pada subplot pertama\n",
    "        fig.add_trace(go.Scatter(x=df_region['Minggu'], y=df_region[model], mode='lines+markers', \n",
    "                                 name=model if show_legend else '', line=dict(color=colors[model]), showlegend=show_legend), row=row, col=col)\n",
    "\n",
    "# Menyesuaikan layout\n",
    "fig.update_layout(title_text='Perbandingan Pemakaian Listrik per Wilayah', height=800)\n",
    "fig.update_xaxes(title_text='Minggu')\n",
    "fig.update_yaxes(title_text='Pemakaian Listrik (mWh)')\n",
    "fig.show()\n"
   ]
  },
  {
   "cell_type": "code",
   "execution_count": 14,
   "metadata": {},
   "outputs": [
    {
     "name": "stderr",
     "output_type": "stream",
     "text": [
      "C:\\Users\\User\\AppData\\Local\\Temp\\ipykernel_14716\\3671013850.py:8: FutureWarning:\n",
      "\n",
      "The behavior of DataFrame concatenation with empty or all-NA entries is deprecated. In a future version, this will no longer exclude empty or all-NA columns when determining the result dtypes. To retain the old behavior, exclude the relevant entries before the concat operation.\n",
      "\n"
     ]
    },
    {
     "data": {
      "text/html": [
       "<div>\n",
       "<style scoped>\n",
       "    .dataframe tbody tr th:only-of-type {\n",
       "        vertical-align: middle;\n",
       "    }\n",
       "\n",
       "    .dataframe tbody tr th {\n",
       "        vertical-align: top;\n",
       "    }\n",
       "\n",
       "    .dataframe thead th {\n",
       "        text-align: right;\n",
       "    }\n",
       "</style>\n",
       "<table border=\"1\" class=\"dataframe\">\n",
       "  <thead>\n",
       "    <tr style=\"text-align: right;\">\n",
       "      <th></th>\n",
       "      <th>Minggu</th>\n",
       "      <th>Wilayah</th>\n",
       "      <th>Pemakaian Asli</th>\n",
       "      <th>MA (3-Mingguan)</th>\n",
       "      <th>AR(1)</th>\n",
       "      <th>AR+MA</th>\n",
       "      <th>VARMA</th>\n",
       "    </tr>\n",
       "  </thead>\n",
       "  <tbody>\n",
       "    <tr>\n",
       "      <th>0</th>\n",
       "      <td>Week 1</td>\n",
       "      <td>Banda Sakti</td>\n",
       "      <td>150</td>\n",
       "      <td>NaN</td>\n",
       "      <td>NaN</td>\n",
       "      <td>0.00</td>\n",
       "      <td>NaN</td>\n",
       "    </tr>\n",
       "    <tr>\n",
       "      <th>1</th>\n",
       "      <td>Week 2</td>\n",
       "      <td>Banda Sakti</td>\n",
       "      <td>160</td>\n",
       "      <td>NaN</td>\n",
       "      <td>120.0</td>\n",
       "      <td>120.00</td>\n",
       "      <td>NaN</td>\n",
       "    </tr>\n",
       "    <tr>\n",
       "      <th>2</th>\n",
       "      <td>Week 3</td>\n",
       "      <td>Banda Sakti</td>\n",
       "      <td>155</td>\n",
       "      <td>155.00</td>\n",
       "      <td>128.0</td>\n",
       "      <td>128.00</td>\n",
       "      <td>172.15</td>\n",
       "    </tr>\n",
       "    <tr>\n",
       "      <th>3</th>\n",
       "      <td>Week 4</td>\n",
       "      <td>Banda Sakti</td>\n",
       "      <td>165</td>\n",
       "      <td>160.00</td>\n",
       "      <td>124.0</td>\n",
       "      <td>124.00</td>\n",
       "      <td>166.44</td>\n",
       "    </tr>\n",
       "    <tr>\n",
       "      <th>4</th>\n",
       "      <td>Week 5</td>\n",
       "      <td>Banda Sakti</td>\n",
       "      <td>170</td>\n",
       "      <td>163.33</td>\n",
       "      <td>132.0</td>\n",
       "      <td>133.00</td>\n",
       "      <td>199.84</td>\n",
       "    </tr>\n",
       "    <tr>\n",
       "      <th>5</th>\n",
       "      <td>Week 6</td>\n",
       "      <td>Banda Sakti</td>\n",
       "      <td>175</td>\n",
       "      <td>170.00</td>\n",
       "      <td>136.0</td>\n",
       "      <td>137.33</td>\n",
       "      <td>211.84</td>\n",
       "    </tr>\n",
       "    <tr>\n",
       "      <th>6</th>\n",
       "      <td>Week 7</td>\n",
       "      <td>Banda Sakti</td>\n",
       "      <td>180</td>\n",
       "      <td>175.00</td>\n",
       "      <td>140.0</td>\n",
       "      <td>141.00</td>\n",
       "      <td>210.50</td>\n",
       "    </tr>\n",
       "    <tr>\n",
       "      <th>7</th>\n",
       "      <td>Week 8</td>\n",
       "      <td>Banda Sakti</td>\n",
       "      <td>185</td>\n",
       "      <td>180.00</td>\n",
       "      <td>144.0</td>\n",
       "      <td>145.00</td>\n",
       "      <td>215.97</td>\n",
       "    </tr>\n",
       "    <tr>\n",
       "      <th>8</th>\n",
       "      <td>Week 1</td>\n",
       "      <td>Blang Mangat</td>\n",
       "      <td>200</td>\n",
       "      <td>NaN</td>\n",
       "      <td>NaN</td>\n",
       "      <td>0.00</td>\n",
       "      <td>NaN</td>\n",
       "    </tr>\n",
       "    <tr>\n",
       "      <th>9</th>\n",
       "      <td>Week 2</td>\n",
       "      <td>Blang Mangat</td>\n",
       "      <td>210</td>\n",
       "      <td>NaN</td>\n",
       "      <td>160.0</td>\n",
       "      <td>160.00</td>\n",
       "      <td>NaN</td>\n",
       "    </tr>\n",
       "    <tr>\n",
       "      <th>10</th>\n",
       "      <td>Week 3</td>\n",
       "      <td>Blang Mangat</td>\n",
       "      <td>205</td>\n",
       "      <td>205.00</td>\n",
       "      <td>168.0</td>\n",
       "      <td>168.00</td>\n",
       "      <td>223.64</td>\n",
       "    </tr>\n",
       "    <tr>\n",
       "      <th>11</th>\n",
       "      <td>Week 4</td>\n",
       "      <td>Blang Mangat</td>\n",
       "      <td>220</td>\n",
       "      <td>211.67</td>\n",
       "      <td>164.0</td>\n",
       "      <td>164.00</td>\n",
       "      <td>217.93</td>\n",
       "    </tr>\n",
       "    <tr>\n",
       "      <th>12</th>\n",
       "      <td>Week 5</td>\n",
       "      <td>Blang Mangat</td>\n",
       "      <td>225</td>\n",
       "      <td>216.67</td>\n",
       "      <td>176.0</td>\n",
       "      <td>177.67</td>\n",
       "      <td>271.30</td>\n",
       "    </tr>\n",
       "    <tr>\n",
       "      <th>13</th>\n",
       "      <td>Week 6</td>\n",
       "      <td>Blang Mangat</td>\n",
       "      <td>230</td>\n",
       "      <td>225.00</td>\n",
       "      <td>180.0</td>\n",
       "      <td>181.67</td>\n",
       "      <td>275.89</td>\n",
       "    </tr>\n",
       "    <tr>\n",
       "      <th>14</th>\n",
       "      <td>Week 7</td>\n",
       "      <td>Blang Mangat</td>\n",
       "      <td>235</td>\n",
       "      <td>230.00</td>\n",
       "      <td>184.0</td>\n",
       "      <td>185.00</td>\n",
       "      <td>267.14</td>\n",
       "    </tr>\n",
       "    <tr>\n",
       "      <th>15</th>\n",
       "      <td>Week 8</td>\n",
       "      <td>Blang Mangat</td>\n",
       "      <td>240</td>\n",
       "      <td>235.00</td>\n",
       "      <td>188.0</td>\n",
       "      <td>189.00</td>\n",
       "      <td>272.61</td>\n",
       "    </tr>\n",
       "    <tr>\n",
       "      <th>16</th>\n",
       "      <td>Week 1</td>\n",
       "      <td>Muara Satu</td>\n",
       "      <td>130</td>\n",
       "      <td>NaN</td>\n",
       "      <td>NaN</td>\n",
       "      <td>0.00</td>\n",
       "      <td>NaN</td>\n",
       "    </tr>\n",
       "    <tr>\n",
       "      <th>17</th>\n",
       "      <td>Week 2</td>\n",
       "      <td>Muara Satu</td>\n",
       "      <td>135</td>\n",
       "      <td>NaN</td>\n",
       "      <td>104.0</td>\n",
       "      <td>104.00</td>\n",
       "      <td>NaN</td>\n",
       "    </tr>\n",
       "    <tr>\n",
       "      <th>18</th>\n",
       "      <td>Week 3</td>\n",
       "      <td>Muara Satu</td>\n",
       "      <td>140</td>\n",
       "      <td>135.00</td>\n",
       "      <td>108.0</td>\n",
       "      <td>108.00</td>\n",
       "      <td>146.40</td>\n",
       "    </tr>\n",
       "    <tr>\n",
       "      <th>19</th>\n",
       "      <td>Week 4</td>\n",
       "      <td>Muara Satu</td>\n",
       "      <td>145</td>\n",
       "      <td>140.00</td>\n",
       "      <td>112.0</td>\n",
       "      <td>113.00</td>\n",
       "      <td>173.22</td>\n",
       "    </tr>\n",
       "    <tr>\n",
       "      <th>20</th>\n",
       "      <td>Week 5</td>\n",
       "      <td>Muara Satu</td>\n",
       "      <td>150</td>\n",
       "      <td>145.00</td>\n",
       "      <td>116.0</td>\n",
       "      <td>117.00</td>\n",
       "      <td>179.25</td>\n",
       "    </tr>\n",
       "    <tr>\n",
       "      <th>21</th>\n",
       "      <td>Week 6</td>\n",
       "      <td>Muara Satu</td>\n",
       "      <td>155</td>\n",
       "      <td>150.00</td>\n",
       "      <td>120.0</td>\n",
       "      <td>121.00</td>\n",
       "      <td>183.83</td>\n",
       "    </tr>\n",
       "    <tr>\n",
       "      <th>22</th>\n",
       "      <td>Week 7</td>\n",
       "      <td>Muara Satu</td>\n",
       "      <td>160</td>\n",
       "      <td>155.00</td>\n",
       "      <td>124.0</td>\n",
       "      <td>125.00</td>\n",
       "      <td>189.90</td>\n",
       "    </tr>\n",
       "    <tr>\n",
       "      <th>23</th>\n",
       "      <td>Week 8</td>\n",
       "      <td>Muara Satu</td>\n",
       "      <td>165</td>\n",
       "      <td>160.00</td>\n",
       "      <td>128.0</td>\n",
       "      <td>129.00</td>\n",
       "      <td>195.37</td>\n",
       "    </tr>\n",
       "    <tr>\n",
       "      <th>24</th>\n",
       "      <td>Week 1</td>\n",
       "      <td>Muara Dua</td>\n",
       "      <td>180</td>\n",
       "      <td>NaN</td>\n",
       "      <td>NaN</td>\n",
       "      <td>0.00</td>\n",
       "      <td>NaN</td>\n",
       "    </tr>\n",
       "    <tr>\n",
       "      <th>25</th>\n",
       "      <td>Week 2</td>\n",
       "      <td>Muara Dua</td>\n",
       "      <td>185</td>\n",
       "      <td>NaN</td>\n",
       "      <td>144.0</td>\n",
       "      <td>144.00</td>\n",
       "      <td>NaN</td>\n",
       "    </tr>\n",
       "    <tr>\n",
       "      <th>26</th>\n",
       "      <td>Week 3</td>\n",
       "      <td>Muara Dua</td>\n",
       "      <td>190</td>\n",
       "      <td>185.00</td>\n",
       "      <td>148.0</td>\n",
       "      <td>148.00</td>\n",
       "      <td>197.89</td>\n",
       "    </tr>\n",
       "    <tr>\n",
       "      <th>27</th>\n",
       "      <td>Week 4</td>\n",
       "      <td>Muara Dua</td>\n",
       "      <td>195</td>\n",
       "      <td>190.00</td>\n",
       "      <td>152.0</td>\n",
       "      <td>153.00</td>\n",
       "      <td>224.71</td>\n",
       "    </tr>\n",
       "    <tr>\n",
       "      <th>28</th>\n",
       "      <td>Week 5</td>\n",
       "      <td>Muara Dua</td>\n",
       "      <td>200</td>\n",
       "      <td>195.00</td>\n",
       "      <td>156.0</td>\n",
       "      <td>157.00</td>\n",
       "      <td>230.74</td>\n",
       "    </tr>\n",
       "    <tr>\n",
       "      <th>29</th>\n",
       "      <td>Week 6</td>\n",
       "      <td>Muara Dua</td>\n",
       "      <td>205</td>\n",
       "      <td>200.00</td>\n",
       "      <td>160.0</td>\n",
       "      <td>161.00</td>\n",
       "      <td>235.32</td>\n",
       "    </tr>\n",
       "    <tr>\n",
       "      <th>30</th>\n",
       "      <td>Week 7</td>\n",
       "      <td>Muara Dua</td>\n",
       "      <td>210</td>\n",
       "      <td>205.00</td>\n",
       "      <td>164.0</td>\n",
       "      <td>165.00</td>\n",
       "      <td>241.39</td>\n",
       "    </tr>\n",
       "    <tr>\n",
       "      <th>31</th>\n",
       "      <td>Week 8</td>\n",
       "      <td>Muara Dua</td>\n",
       "      <td>215</td>\n",
       "      <td>210.00</td>\n",
       "      <td>168.0</td>\n",
       "      <td>169.00</td>\n",
       "      <td>246.86</td>\n",
       "    </tr>\n",
       "  </tbody>\n",
       "</table>\n",
       "</div>"
      ],
      "text/plain": [
       "    Minggu       Wilayah Pemakaian Asli  MA (3-Mingguan)  AR(1)   AR+MA  \\\n",
       "0   Week 1   Banda Sakti            150              NaN    NaN    0.00   \n",
       "1   Week 2   Banda Sakti            160              NaN  120.0  120.00   \n",
       "2   Week 3   Banda Sakti            155           155.00  128.0  128.00   \n",
       "3   Week 4   Banda Sakti            165           160.00  124.0  124.00   \n",
       "4   Week 5   Banda Sakti            170           163.33  132.0  133.00   \n",
       "5   Week 6   Banda Sakti            175           170.00  136.0  137.33   \n",
       "6   Week 7   Banda Sakti            180           175.00  140.0  141.00   \n",
       "7   Week 8   Banda Sakti            185           180.00  144.0  145.00   \n",
       "8   Week 1  Blang Mangat            200              NaN    NaN    0.00   \n",
       "9   Week 2  Blang Mangat            210              NaN  160.0  160.00   \n",
       "10  Week 3  Blang Mangat            205           205.00  168.0  168.00   \n",
       "11  Week 4  Blang Mangat            220           211.67  164.0  164.00   \n",
       "12  Week 5  Blang Mangat            225           216.67  176.0  177.67   \n",
       "13  Week 6  Blang Mangat            230           225.00  180.0  181.67   \n",
       "14  Week 7  Blang Mangat            235           230.00  184.0  185.00   \n",
       "15  Week 8  Blang Mangat            240           235.00  188.0  189.00   \n",
       "16  Week 1    Muara Satu            130              NaN    NaN    0.00   \n",
       "17  Week 2    Muara Satu            135              NaN  104.0  104.00   \n",
       "18  Week 3    Muara Satu            140           135.00  108.0  108.00   \n",
       "19  Week 4    Muara Satu            145           140.00  112.0  113.00   \n",
       "20  Week 5    Muara Satu            150           145.00  116.0  117.00   \n",
       "21  Week 6    Muara Satu            155           150.00  120.0  121.00   \n",
       "22  Week 7    Muara Satu            160           155.00  124.0  125.00   \n",
       "23  Week 8    Muara Satu            165           160.00  128.0  129.00   \n",
       "24  Week 1     Muara Dua            180              NaN    NaN    0.00   \n",
       "25  Week 2     Muara Dua            185              NaN  144.0  144.00   \n",
       "26  Week 3     Muara Dua            190           185.00  148.0  148.00   \n",
       "27  Week 4     Muara Dua            195           190.00  152.0  153.00   \n",
       "28  Week 5     Muara Dua            200           195.00  156.0  157.00   \n",
       "29  Week 6     Muara Dua            205           200.00  160.0  161.00   \n",
       "30  Week 7     Muara Dua            210           205.00  164.0  165.00   \n",
       "31  Week 8     Muara Dua            215           210.00  168.0  169.00   \n",
       "\n",
       "     VARMA  \n",
       "0      NaN  \n",
       "1      NaN  \n",
       "2   172.15  \n",
       "3   166.44  \n",
       "4   199.84  \n",
       "5   211.84  \n",
       "6   210.50  \n",
       "7   215.97  \n",
       "8      NaN  \n",
       "9      NaN  \n",
       "10  223.64  \n",
       "11  217.93  \n",
       "12  271.30  \n",
       "13  275.89  \n",
       "14  267.14  \n",
       "15  272.61  \n",
       "16     NaN  \n",
       "17     NaN  \n",
       "18  146.40  \n",
       "19  173.22  \n",
       "20  179.25  \n",
       "21  183.83  \n",
       "22  189.90  \n",
       "23  195.37  \n",
       "24     NaN  \n",
       "25     NaN  \n",
       "26  197.89  \n",
       "27  224.71  \n",
       "28  230.74  \n",
       "29  235.32  \n",
       "30  241.39  \n",
       "31  246.86  "
      ]
     },
     "metadata": {},
     "output_type": "display_data"
    }
   ],
   "source": [
    "# Menggabungkan semua wilayah dalam satu DataFrame untuk ditampilkan\n",
    "combined_results = pd.DataFrame(columns=['Minggu', 'Wilayah', 'Pemakaian Asli', 'MA (3-Mingguan)', 'AR(1)', 'AR+MA', 'VARMA'])\n",
    "\n",
    "for region in regions:\n",
    "    df_region = df_regions[region][['Minggu', 'Y', 'MA (3-Mingguan)', 'AR(1)', 'AR+MA', 'VARMA']].copy()\n",
    "    df_region['Wilayah'] = region\n",
    "    df_region.rename(columns={'Y': 'Pemakaian Asli'}, inplace=True)\n",
    "    combined_results = pd.concat([combined_results, df_region], ignore_index=True)\n",
    "\n",
    "# Mengatur format desimal\n",
    "combined_results = combined_results.round(2)\n",
    "\n",
    "# Menampilkan DataFrame gabungan\n",
    "display(combined_results)\n"
   ]
  }
 ],
 "metadata": {
  "kernelspec": {
   "display_name": "base",
   "language": "python",
   "name": "python3"
  },
  "language_info": {
   "codemirror_mode": {
    "name": "ipython",
    "version": 3
   },
   "file_extension": ".py",
   "mimetype": "text/x-python",
   "name": "python",
   "nbconvert_exporter": "python",
   "pygments_lexer": "ipython3",
   "version": "3.11.7"
  }
 },
 "nbformat": 4,
 "nbformat_minor": 2
}
